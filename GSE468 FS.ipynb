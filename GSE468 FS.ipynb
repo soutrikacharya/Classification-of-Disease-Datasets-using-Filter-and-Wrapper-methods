{
 "cells": [
  {
   "cell_type": "code",
   "execution_count": null,
   "metadata": {
    "id": "ZKwLYB377ck8"
   },
   "outputs": [],
   "source": []
  },
  {
   "cell_type": "markdown",
   "metadata": {
    "id": "r56v_rILM1C8"
   },
   "source": [
    "#Data import and Preprocessing"
   ]
  },
  {
   "cell_type": "code",
   "execution_count": 31,
   "metadata": {
    "id": "cIvBvaStmDWD"
   },
   "outputs": [],
   "source": [
    "import pandas as pd\n",
    "import numpy as np"
   ]
  },
  {
   "cell_type": "code",
   "execution_count": 32,
   "metadata": {
    "colab": {
     "base_uri": "https://localhost:8080/",
     "height": 287
    },
    "executionInfo": {
     "elapsed": 1351,
     "status": "ok",
     "timestamp": 1608762024192,
     "user": {
      "displayName": "Moumita Mandal",
      "photoUrl": "https://lh3.googleusercontent.com/a-/AOh14GjZLDwUroUscYQpm0nEwdmdNUPF5W6MSafe4mM1LQ=s64",
      "userId": "17759816897411681843"
     },
     "user_tz": -330
    },
    "id": "6KD3EkcKmDWN",
    "outputId": "0770f9ac-661a-4d7e-d28b-ac7988d8a81e"
   },
   "outputs": [
    {
     "data": {
      "text/html": [
       "<div>\n",
       "<style scoped>\n",
       "    .dataframe tbody tr th:only-of-type {\n",
       "        vertical-align: middle;\n",
       "    }\n",
       "\n",
       "    .dataframe tbody tr th {\n",
       "        vertical-align: top;\n",
       "    }\n",
       "\n",
       "    .dataframe thead th {\n",
       "        text-align: right;\n",
       "    }\n",
       "</style>\n",
       "<table border=\"1\" class=\"dataframe\">\n",
       "  <thead>\n",
       "    <tr style=\"text-align: right;\">\n",
       "      <th></th>\n",
       "      <th>AFFX-MurIL2_at</th>\n",
       "      <th>AFFX-MurIL10_at</th>\n",
       "      <th>AFFX-MurIL4_at</th>\n",
       "      <th>AFFX-MurFAS_at</th>\n",
       "      <th>AFFX-BioB-5_at</th>\n",
       "      <th>AFFX-BioB-M_at</th>\n",
       "      <th>AFFX-BioB-3_at</th>\n",
       "      <th>AFFX-BioC-5_at</th>\n",
       "      <th>AFFX-BioC-3_at</th>\n",
       "      <th>AFFX-BioDn-5_at</th>\n",
       "      <th>...</th>\n",
       "      <th>104_at</th>\n",
       "      <th>105_at</th>\n",
       "      <th>1216_at</th>\n",
       "      <th>788_s_at</th>\n",
       "      <th>426_at</th>\n",
       "      <th>397_at</th>\n",
       "      <th>132_at</th>\n",
       "      <th>hum_alu_at</th>\n",
       "      <th>class</th>\n",
       "      <th>sample</th>\n",
       "    </tr>\n",
       "  </thead>\n",
       "  <tbody>\n",
       "    <tr>\n",
       "      <td>0</td>\n",
       "      <td>c</td>\n",
       "      <td>c</td>\n",
       "      <td>c</td>\n",
       "      <td>c</td>\n",
       "      <td>c</td>\n",
       "      <td>c</td>\n",
       "      <td>c</td>\n",
       "      <td>c</td>\n",
       "      <td>c</td>\n",
       "      <td>c</td>\n",
       "      <td>...</td>\n",
       "      <td>c</td>\n",
       "      <td>c</td>\n",
       "      <td>c</td>\n",
       "      <td>c</td>\n",
       "      <td>c</td>\n",
       "      <td>c</td>\n",
       "      <td>c</td>\n",
       "      <td>c</td>\n",
       "      <td>d</td>\n",
       "      <td>string</td>\n",
       "    </tr>\n",
       "    <tr>\n",
       "      <td>1</td>\n",
       "      <td>NaN</td>\n",
       "      <td>NaN</td>\n",
       "      <td>NaN</td>\n",
       "      <td>NaN</td>\n",
       "      <td>NaN</td>\n",
       "      <td>NaN</td>\n",
       "      <td>NaN</td>\n",
       "      <td>NaN</td>\n",
       "      <td>NaN</td>\n",
       "      <td>NaN</td>\n",
       "      <td>...</td>\n",
       "      <td>NaN</td>\n",
       "      <td>NaN</td>\n",
       "      <td>NaN</td>\n",
       "      <td>NaN</td>\n",
       "      <td>NaN</td>\n",
       "      <td>NaN</td>\n",
       "      <td>NaN</td>\n",
       "      <td>NaN</td>\n",
       "      <td>class</td>\n",
       "      <td>meta</td>\n",
       "    </tr>\n",
       "    <tr>\n",
       "      <td>2</td>\n",
       "      <td>-222.867004</td>\n",
       "      <td>44.987</td>\n",
       "      <td>29.072001</td>\n",
       "      <td>107.036003</td>\n",
       "      <td>1633.719971</td>\n",
       "      <td>1792.088013</td>\n",
       "      <td>1450.660034</td>\n",
       "      <td>5234.332031</td>\n",
       "      <td>5408.90918</td>\n",
       "      <td>5754.067871</td>\n",
       "      <td>...</td>\n",
       "      <td>413.343994</td>\n",
       "      <td>54.146999</td>\n",
       "      <td>-43.158001</td>\n",
       "      <td>216.522003</td>\n",
       "      <td>-54.693001</td>\n",
       "      <td>-197.839005</td>\n",
       "      <td>94.212997</td>\n",
       "      <td>16497.83203</td>\n",
       "      <td>Met</td>\n",
       "      <td>GSM4312</td>\n",
       "    </tr>\n",
       "    <tr>\n",
       "      <td>3</td>\n",
       "      <td>-372.1480103</td>\n",
       "      <td>132.0480042</td>\n",
       "      <td>32.92200089</td>\n",
       "      <td>190.8150024</td>\n",
       "      <td>12774.59375</td>\n",
       "      <td>16425.99414</td>\n",
       "      <td>11523.09961</td>\n",
       "      <td>37526.45703</td>\n",
       "      <td>39596.67188</td>\n",
       "      <td>43983.26172</td>\n",
       "      <td>...</td>\n",
       "      <td>773.2199707</td>\n",
       "      <td>-47.15100098</td>\n",
       "      <td>52.86899948</td>\n",
       "      <td>-114.637001</td>\n",
       "      <td>-57.47499847</td>\n",
       "      <td>-123.4140015</td>\n",
       "      <td>309.8110046</td>\n",
       "      <td>87164.00781</td>\n",
       "      <td>Met</td>\n",
       "      <td>GSM4313</td>\n",
       "    </tr>\n",
       "    <tr>\n",
       "      <td>4</td>\n",
       "      <td>-64.248001</td>\n",
       "      <td>106.371002</td>\n",
       "      <td>7.49</td>\n",
       "      <td>284.80899</td>\n",
       "      <td>2461.489014</td>\n",
       "      <td>2229.948975</td>\n",
       "      <td>1757.072998</td>\n",
       "      <td>7717.64502</td>\n",
       "      <td>6697.812012</td>\n",
       "      <td>7588.408203</td>\n",
       "      <td>...</td>\n",
       "      <td>442.59201</td>\n",
       "      <td>162.167007</td>\n",
       "      <td>-7.781</td>\n",
       "      <td>304.131989</td>\n",
       "      <td>-62.653999</td>\n",
       "      <td>-354.554993</td>\n",
       "      <td>58.750999</td>\n",
       "      <td>16563.77734</td>\n",
       "      <td>Met</td>\n",
       "      <td>GSM4314</td>\n",
       "    </tr>\n",
       "  </tbody>\n",
       "</table>\n",
       "<p>5 rows × 1467 columns</p>\n",
       "</div>"
      ],
      "text/plain": [
       "  AFFX-MurIL2_at AFFX-MurIL10_at AFFX-MurIL4_at AFFX-MurFAS_at AFFX-BioB-5_at  \\\n",
       "0              c               c              c              c              c   \n",
       "1            NaN             NaN            NaN            NaN            NaN   \n",
       "2    -222.867004          44.987      29.072001     107.036003    1633.719971   \n",
       "3   -372.1480103     132.0480042    32.92200089    190.8150024    12774.59375   \n",
       "4     -64.248001      106.371002           7.49      284.80899    2461.489014   \n",
       "\n",
       "  AFFX-BioB-M_at AFFX-BioB-3_at AFFX-BioC-5_at AFFX-BioC-3_at AFFX-BioDn-5_at  \\\n",
       "0              c              c              c              c               c   \n",
       "1            NaN            NaN            NaN            NaN             NaN   \n",
       "2    1792.088013    1450.660034    5234.332031     5408.90918     5754.067871   \n",
       "3    16425.99414    11523.09961    37526.45703    39596.67188     43983.26172   \n",
       "4    2229.948975    1757.072998     7717.64502    6697.812012     7588.408203   \n",
       "\n",
       "   ...       104_at        105_at      1216_at     788_s_at        426_at  \\\n",
       "0  ...            c             c            c            c             c   \n",
       "1  ...          NaN           NaN          NaN          NaN           NaN   \n",
       "2  ...   413.343994     54.146999   -43.158001   216.522003    -54.693001   \n",
       "3  ...  773.2199707  -47.15100098  52.86899948  -114.637001  -57.47499847   \n",
       "4  ...    442.59201    162.167007       -7.781   304.131989    -62.653999   \n",
       "\n",
       "         397_at       132_at   hum_alu_at  class   sample  \n",
       "0             c            c            c      d   string  \n",
       "1           NaN          NaN          NaN  class     meta  \n",
       "2   -197.839005    94.212997  16497.83203    Met  GSM4312  \n",
       "3  -123.4140015  309.8110046  87164.00781    Met  GSM4313  \n",
       "4   -354.554993    58.750999  16563.77734    Met  GSM4314  \n",
       "\n",
       "[5 rows x 1467 columns]"
      ]
     },
     "execution_count": 32,
     "metadata": {},
     "output_type": "execute_result"
    }
   ],
   "source": [
    "data = pd.read_table('meduloblastomiGSE468.tab')\n",
    "data.head()"
   ]
  },
  {
   "cell_type": "code",
   "execution_count": 33,
   "metadata": {
    "colab": {
     "base_uri": "https://localhost:8080/",
     "height": 287
    },
    "executionInfo": {
     "elapsed": 1120,
     "status": "ok",
     "timestamp": 1608762027911,
     "user": {
      "displayName": "Moumita Mandal",
      "photoUrl": "https://lh3.googleusercontent.com/a-/AOh14GjZLDwUroUscYQpm0nEwdmdNUPF5W6MSafe4mM1LQ=s64",
      "userId": "17759816897411681843"
     },
     "user_tz": -330
    },
    "id": "2ORf7syjZbgP",
    "outputId": "43c4c3aa-012e-47cb-b76e-f0b8cecbb973"
   },
   "outputs": [
    {
     "data": {
      "text/html": [
       "<div>\n",
       "<style scoped>\n",
       "    .dataframe tbody tr th:only-of-type {\n",
       "        vertical-align: middle;\n",
       "    }\n",
       "\n",
       "    .dataframe tbody tr th {\n",
       "        vertical-align: top;\n",
       "    }\n",
       "\n",
       "    .dataframe thead th {\n",
       "        text-align: right;\n",
       "    }\n",
       "</style>\n",
       "<table border=\"1\" class=\"dataframe\">\n",
       "  <thead>\n",
       "    <tr style=\"text-align: right;\">\n",
       "      <th></th>\n",
       "      <th>AFFX-MurIL2_at</th>\n",
       "      <th>AFFX-MurIL10_at</th>\n",
       "      <th>AFFX-MurIL4_at</th>\n",
       "      <th>AFFX-MurFAS_at</th>\n",
       "      <th>AFFX-BioB-5_at</th>\n",
       "      <th>AFFX-BioB-M_at</th>\n",
       "      <th>AFFX-BioB-3_at</th>\n",
       "      <th>AFFX-BioC-5_at</th>\n",
       "      <th>AFFX-BioC-3_at</th>\n",
       "      <th>AFFX-BioDn-5_at</th>\n",
       "      <th>...</th>\n",
       "      <th>103_at</th>\n",
       "      <th>104_at</th>\n",
       "      <th>105_at</th>\n",
       "      <th>1216_at</th>\n",
       "      <th>788_s_at</th>\n",
       "      <th>426_at</th>\n",
       "      <th>397_at</th>\n",
       "      <th>132_at</th>\n",
       "      <th>hum_alu_at</th>\n",
       "      <th>class</th>\n",
       "    </tr>\n",
       "  </thead>\n",
       "  <tbody>\n",
       "    <tr>\n",
       "      <td>2</td>\n",
       "      <td>-222.867004</td>\n",
       "      <td>44.987</td>\n",
       "      <td>29.072001</td>\n",
       "      <td>107.036003</td>\n",
       "      <td>1633.719971</td>\n",
       "      <td>1792.088013</td>\n",
       "      <td>1450.660034</td>\n",
       "      <td>5234.332031</td>\n",
       "      <td>5408.90918</td>\n",
       "      <td>5754.067871</td>\n",
       "      <td>...</td>\n",
       "      <td>160.125</td>\n",
       "      <td>413.343994</td>\n",
       "      <td>54.146999</td>\n",
       "      <td>-43.158001</td>\n",
       "      <td>216.522003</td>\n",
       "      <td>-54.693001</td>\n",
       "      <td>-197.839005</td>\n",
       "      <td>94.212997</td>\n",
       "      <td>16497.83203</td>\n",
       "      <td>Met</td>\n",
       "    </tr>\n",
       "    <tr>\n",
       "      <td>3</td>\n",
       "      <td>-372.1480103</td>\n",
       "      <td>132.0480042</td>\n",
       "      <td>32.92200089</td>\n",
       "      <td>190.8150024</td>\n",
       "      <td>12774.59375</td>\n",
       "      <td>16425.99414</td>\n",
       "      <td>11523.09961</td>\n",
       "      <td>37526.45703</td>\n",
       "      <td>39596.67188</td>\n",
       "      <td>43983.26172</td>\n",
       "      <td>...</td>\n",
       "      <td>1926.875977</td>\n",
       "      <td>773.2199707</td>\n",
       "      <td>-47.15100098</td>\n",
       "      <td>52.86899948</td>\n",
       "      <td>-114.637001</td>\n",
       "      <td>-57.47499847</td>\n",
       "      <td>-123.4140015</td>\n",
       "      <td>309.8110046</td>\n",
       "      <td>87164.00781</td>\n",
       "      <td>Met</td>\n",
       "    </tr>\n",
       "    <tr>\n",
       "      <td>4</td>\n",
       "      <td>-64.248001</td>\n",
       "      <td>106.371002</td>\n",
       "      <td>7.49</td>\n",
       "      <td>284.80899</td>\n",
       "      <td>2461.489014</td>\n",
       "      <td>2229.948975</td>\n",
       "      <td>1757.072998</td>\n",
       "      <td>7717.64502</td>\n",
       "      <td>6697.812012</td>\n",
       "      <td>7588.408203</td>\n",
       "      <td>...</td>\n",
       "      <td>162.720001</td>\n",
       "      <td>442.59201</td>\n",
       "      <td>162.167007</td>\n",
       "      <td>-7.781</td>\n",
       "      <td>304.131989</td>\n",
       "      <td>-62.653999</td>\n",
       "      <td>-354.554993</td>\n",
       "      <td>58.750999</td>\n",
       "      <td>16563.77734</td>\n",
       "      <td>Met</td>\n",
       "    </tr>\n",
       "    <tr>\n",
       "      <td>5</td>\n",
       "      <td>-230.5480042</td>\n",
       "      <td>26.29800034</td>\n",
       "      <td>52.44900131</td>\n",
       "      <td>236.4019928</td>\n",
       "      <td>2040.295044</td>\n",
       "      <td>1866.427979</td>\n",
       "      <td>1657.119995</td>\n",
       "      <td>6508.688965</td>\n",
       "      <td>6581.226074</td>\n",
       "      <td>6658.895996</td>\n",
       "      <td>...</td>\n",
       "      <td>2664.638916</td>\n",
       "      <td>442.0679932</td>\n",
       "      <td>91.79199982</td>\n",
       "      <td>-3.720000029</td>\n",
       "      <td>182.1900024</td>\n",
       "      <td>-84.14199829</td>\n",
       "      <td>-153.6909943</td>\n",
       "      <td>96.18800354</td>\n",
       "      <td>6231.430176</td>\n",
       "      <td>Met</td>\n",
       "    </tr>\n",
       "    <tr>\n",
       "      <td>6</td>\n",
       "      <td>270.537994</td>\n",
       "      <td>272.761993</td>\n",
       "      <td>-26.153999</td>\n",
       "      <td>207.901993</td>\n",
       "      <td>14976.5752</td>\n",
       "      <td>21094.98633</td>\n",
       "      <td>15805.98535</td>\n",
       "      <td>41854.03906</td>\n",
       "      <td>44083.20703</td>\n",
       "      <td>56576.92969</td>\n",
       "      <td>...</td>\n",
       "      <td>365.582001</td>\n",
       "      <td>703.106018</td>\n",
       "      <td>-42.016998</td>\n",
       "      <td>-147.490005</td>\n",
       "      <td>-168.417999</td>\n",
       "      <td>-213.264008</td>\n",
       "      <td>-200.826996</td>\n",
       "      <td>50.279999</td>\n",
       "      <td>81383.84375</td>\n",
       "      <td>Met</td>\n",
       "    </tr>\n",
       "  </tbody>\n",
       "</table>\n",
       "<p>5 rows × 1466 columns</p>\n",
       "</div>"
      ],
      "text/plain": [
       "  AFFX-MurIL2_at AFFX-MurIL10_at AFFX-MurIL4_at AFFX-MurFAS_at AFFX-BioB-5_at  \\\n",
       "2    -222.867004          44.987      29.072001     107.036003    1633.719971   \n",
       "3   -372.1480103     132.0480042    32.92200089    190.8150024    12774.59375   \n",
       "4     -64.248001      106.371002           7.49      284.80899    2461.489014   \n",
       "5   -230.5480042     26.29800034    52.44900131    236.4019928    2040.295044   \n",
       "6     270.537994      272.761993     -26.153999     207.901993     14976.5752   \n",
       "\n",
       "  AFFX-BioB-M_at AFFX-BioB-3_at AFFX-BioC-5_at AFFX-BioC-3_at AFFX-BioDn-5_at  \\\n",
       "2    1792.088013    1450.660034    5234.332031     5408.90918     5754.067871   \n",
       "3    16425.99414    11523.09961    37526.45703    39596.67188     43983.26172   \n",
       "4    2229.948975    1757.072998     7717.64502    6697.812012     7588.408203   \n",
       "5    1866.427979    1657.119995    6508.688965    6581.226074     6658.895996   \n",
       "6    21094.98633    15805.98535    41854.03906    44083.20703     56576.92969   \n",
       "\n",
       "   ...       103_at       104_at        105_at       1216_at     788_s_at  \\\n",
       "2  ...      160.125   413.343994     54.146999    -43.158001   216.522003   \n",
       "3  ...  1926.875977  773.2199707  -47.15100098   52.86899948  -114.637001   \n",
       "4  ...   162.720001    442.59201    162.167007        -7.781   304.131989   \n",
       "5  ...  2664.638916  442.0679932   91.79199982  -3.720000029  182.1900024   \n",
       "6  ...   365.582001   703.106018    -42.016998   -147.490005  -168.417999   \n",
       "\n",
       "         426_at        397_at       132_at   hum_alu_at class  \n",
       "2    -54.693001   -197.839005    94.212997  16497.83203   Met  \n",
       "3  -57.47499847  -123.4140015  309.8110046  87164.00781   Met  \n",
       "4    -62.653999   -354.554993    58.750999  16563.77734   Met  \n",
       "5  -84.14199829  -153.6909943  96.18800354  6231.430176   Met  \n",
       "6   -213.264008   -200.826996    50.279999  81383.84375   Met  \n",
       "\n",
       "[5 rows x 1466 columns]"
      ]
     },
     "execution_count": 33,
     "metadata": {},
     "output_type": "execute_result"
    }
   ],
   "source": [
    "data = data.drop(data.index[[0,1]])\n",
    "data=data.drop(['sample'],axis=1) \n",
    "data.head()"
   ]
  },
  {
   "cell_type": "code",
   "execution_count": 34,
   "metadata": {
    "colab": {
     "base_uri": "https://localhost:8080/",
     "height": 287
    },
    "executionInfo": {
     "elapsed": 1134,
     "status": "ok",
     "timestamp": 1608762032095,
     "user": {
      "displayName": "Moumita Mandal",
      "photoUrl": "https://lh3.googleusercontent.com/a-/AOh14GjZLDwUroUscYQpm0nEwdmdNUPF5W6MSafe4mM1LQ=s64",
      "userId": "17759816897411681843"
     },
     "user_tz": -330
    },
    "id": "rX3XHdo5ZtpX",
    "outputId": "b0818c6e-9967-4c24-99dc-b062a394136e"
   },
   "outputs": [
    {
     "data": {
      "text/html": [
       "<div>\n",
       "<style scoped>\n",
       "    .dataframe tbody tr th:only-of-type {\n",
       "        vertical-align: middle;\n",
       "    }\n",
       "\n",
       "    .dataframe tbody tr th {\n",
       "        vertical-align: top;\n",
       "    }\n",
       "\n",
       "    .dataframe thead th {\n",
       "        text-align: right;\n",
       "    }\n",
       "</style>\n",
       "<table border=\"1\" class=\"dataframe\">\n",
       "  <thead>\n",
       "    <tr style=\"text-align: right;\">\n",
       "      <th></th>\n",
       "      <th>AFFX-MurIL2_at</th>\n",
       "      <th>AFFX-MurIL10_at</th>\n",
       "      <th>AFFX-MurIL4_at</th>\n",
       "      <th>AFFX-MurFAS_at</th>\n",
       "      <th>AFFX-BioB-5_at</th>\n",
       "      <th>AFFX-BioB-M_at</th>\n",
       "      <th>AFFX-BioB-3_at</th>\n",
       "      <th>AFFX-BioC-5_at</th>\n",
       "      <th>AFFX-BioC-3_at</th>\n",
       "      <th>AFFX-BioDn-5_at</th>\n",
       "      <th>...</th>\n",
       "      <th>103_at</th>\n",
       "      <th>104_at</th>\n",
       "      <th>105_at</th>\n",
       "      <th>1216_at</th>\n",
       "      <th>788_s_at</th>\n",
       "      <th>426_at</th>\n",
       "      <th>397_at</th>\n",
       "      <th>132_at</th>\n",
       "      <th>hum_alu_at</th>\n",
       "      <th>class</th>\n",
       "    </tr>\n",
       "  </thead>\n",
       "  <tbody>\n",
       "    <tr>\n",
       "      <td>0</td>\n",
       "      <td>-222.867004</td>\n",
       "      <td>44.987</td>\n",
       "      <td>29.072001</td>\n",
       "      <td>107.036003</td>\n",
       "      <td>1633.719971</td>\n",
       "      <td>1792.088013</td>\n",
       "      <td>1450.660034</td>\n",
       "      <td>5234.332031</td>\n",
       "      <td>5408.90918</td>\n",
       "      <td>5754.067871</td>\n",
       "      <td>...</td>\n",
       "      <td>160.125</td>\n",
       "      <td>413.343994</td>\n",
       "      <td>54.146999</td>\n",
       "      <td>-43.158001</td>\n",
       "      <td>216.522003</td>\n",
       "      <td>-54.693001</td>\n",
       "      <td>-197.839005</td>\n",
       "      <td>94.212997</td>\n",
       "      <td>16497.83203</td>\n",
       "      <td>Met</td>\n",
       "    </tr>\n",
       "    <tr>\n",
       "      <td>1</td>\n",
       "      <td>-372.1480103</td>\n",
       "      <td>132.0480042</td>\n",
       "      <td>32.92200089</td>\n",
       "      <td>190.8150024</td>\n",
       "      <td>12774.59375</td>\n",
       "      <td>16425.99414</td>\n",
       "      <td>11523.09961</td>\n",
       "      <td>37526.45703</td>\n",
       "      <td>39596.67188</td>\n",
       "      <td>43983.26172</td>\n",
       "      <td>...</td>\n",
       "      <td>1926.875977</td>\n",
       "      <td>773.2199707</td>\n",
       "      <td>-47.15100098</td>\n",
       "      <td>52.86899948</td>\n",
       "      <td>-114.637001</td>\n",
       "      <td>-57.47499847</td>\n",
       "      <td>-123.4140015</td>\n",
       "      <td>309.8110046</td>\n",
       "      <td>87164.00781</td>\n",
       "      <td>Met</td>\n",
       "    </tr>\n",
       "    <tr>\n",
       "      <td>2</td>\n",
       "      <td>-64.248001</td>\n",
       "      <td>106.371002</td>\n",
       "      <td>7.49</td>\n",
       "      <td>284.80899</td>\n",
       "      <td>2461.489014</td>\n",
       "      <td>2229.948975</td>\n",
       "      <td>1757.072998</td>\n",
       "      <td>7717.64502</td>\n",
       "      <td>6697.812012</td>\n",
       "      <td>7588.408203</td>\n",
       "      <td>...</td>\n",
       "      <td>162.720001</td>\n",
       "      <td>442.59201</td>\n",
       "      <td>162.167007</td>\n",
       "      <td>-7.781</td>\n",
       "      <td>304.131989</td>\n",
       "      <td>-62.653999</td>\n",
       "      <td>-354.554993</td>\n",
       "      <td>58.750999</td>\n",
       "      <td>16563.77734</td>\n",
       "      <td>Met</td>\n",
       "    </tr>\n",
       "    <tr>\n",
       "      <td>3</td>\n",
       "      <td>-230.5480042</td>\n",
       "      <td>26.29800034</td>\n",
       "      <td>52.44900131</td>\n",
       "      <td>236.4019928</td>\n",
       "      <td>2040.295044</td>\n",
       "      <td>1866.427979</td>\n",
       "      <td>1657.119995</td>\n",
       "      <td>6508.688965</td>\n",
       "      <td>6581.226074</td>\n",
       "      <td>6658.895996</td>\n",
       "      <td>...</td>\n",
       "      <td>2664.638916</td>\n",
       "      <td>442.0679932</td>\n",
       "      <td>91.79199982</td>\n",
       "      <td>-3.720000029</td>\n",
       "      <td>182.1900024</td>\n",
       "      <td>-84.14199829</td>\n",
       "      <td>-153.6909943</td>\n",
       "      <td>96.18800354</td>\n",
       "      <td>6231.430176</td>\n",
       "      <td>Met</td>\n",
       "    </tr>\n",
       "    <tr>\n",
       "      <td>4</td>\n",
       "      <td>270.537994</td>\n",
       "      <td>272.761993</td>\n",
       "      <td>-26.153999</td>\n",
       "      <td>207.901993</td>\n",
       "      <td>14976.5752</td>\n",
       "      <td>21094.98633</td>\n",
       "      <td>15805.98535</td>\n",
       "      <td>41854.03906</td>\n",
       "      <td>44083.20703</td>\n",
       "      <td>56576.92969</td>\n",
       "      <td>...</td>\n",
       "      <td>365.582001</td>\n",
       "      <td>703.106018</td>\n",
       "      <td>-42.016998</td>\n",
       "      <td>-147.490005</td>\n",
       "      <td>-168.417999</td>\n",
       "      <td>-213.264008</td>\n",
       "      <td>-200.826996</td>\n",
       "      <td>50.279999</td>\n",
       "      <td>81383.84375</td>\n",
       "      <td>Met</td>\n",
       "    </tr>\n",
       "  </tbody>\n",
       "</table>\n",
       "<p>5 rows × 1466 columns</p>\n",
       "</div>"
      ],
      "text/plain": [
       "  AFFX-MurIL2_at AFFX-MurIL10_at AFFX-MurIL4_at AFFX-MurFAS_at AFFX-BioB-5_at  \\\n",
       "0    -222.867004          44.987      29.072001     107.036003    1633.719971   \n",
       "1   -372.1480103     132.0480042    32.92200089    190.8150024    12774.59375   \n",
       "2     -64.248001      106.371002           7.49      284.80899    2461.489014   \n",
       "3   -230.5480042     26.29800034    52.44900131    236.4019928    2040.295044   \n",
       "4     270.537994      272.761993     -26.153999     207.901993     14976.5752   \n",
       "\n",
       "  AFFX-BioB-M_at AFFX-BioB-3_at AFFX-BioC-5_at AFFX-BioC-3_at AFFX-BioDn-5_at  \\\n",
       "0    1792.088013    1450.660034    5234.332031     5408.90918     5754.067871   \n",
       "1    16425.99414    11523.09961    37526.45703    39596.67188     43983.26172   \n",
       "2    2229.948975    1757.072998     7717.64502    6697.812012     7588.408203   \n",
       "3    1866.427979    1657.119995    6508.688965    6581.226074     6658.895996   \n",
       "4    21094.98633    15805.98535    41854.03906    44083.20703     56576.92969   \n",
       "\n",
       "   ...       103_at       104_at        105_at       1216_at     788_s_at  \\\n",
       "0  ...      160.125   413.343994     54.146999    -43.158001   216.522003   \n",
       "1  ...  1926.875977  773.2199707  -47.15100098   52.86899948  -114.637001   \n",
       "2  ...   162.720001    442.59201    162.167007        -7.781   304.131989   \n",
       "3  ...  2664.638916  442.0679932   91.79199982  -3.720000029  182.1900024   \n",
       "4  ...   365.582001   703.106018    -42.016998   -147.490005  -168.417999   \n",
       "\n",
       "         426_at        397_at       132_at   hum_alu_at class  \n",
       "0    -54.693001   -197.839005    94.212997  16497.83203   Met  \n",
       "1  -57.47499847  -123.4140015  309.8110046  87164.00781   Met  \n",
       "2    -62.653999   -354.554993    58.750999  16563.77734   Met  \n",
       "3  -84.14199829  -153.6909943  96.18800354  6231.430176   Met  \n",
       "4   -213.264008   -200.826996    50.279999  81383.84375   Met  \n",
       "\n",
       "[5 rows x 1466 columns]"
      ]
     },
     "execution_count": 34,
     "metadata": {},
     "output_type": "execute_result"
    }
   ],
   "source": [
    "data.index=range(0,len(data),1)\n",
    "data.head()"
   ]
  },
  {
   "cell_type": "code",
   "execution_count": 35,
   "metadata": {
    "colab": {
     "base_uri": "https://localhost:8080/"
    },
    "executionInfo": {
     "elapsed": 1201,
     "status": "ok",
     "timestamp": 1608762040475,
     "user": {
      "displayName": "Moumita Mandal",
      "photoUrl": "https://lh3.googleusercontent.com/a-/AOh14GjZLDwUroUscYQpm0nEwdmdNUPF5W6MSafe4mM1LQ=s64",
      "userId": "17759816897411681843"
     },
     "user_tz": -330
    },
    "id": "o9B6lmRTDxu_",
    "outputId": "1bd54b02-91ff-4054-af4b-e1bde9712763"
   },
   "outputs": [
    {
     "data": {
      "text/plain": [
       "NonMet    13\n",
       "Met       10\n",
       "Name: Class, dtype: int64"
      ]
     },
     "execution_count": 35,
     "metadata": {},
     "output_type": "execute_result"
    }
   ],
   "source": [
    " data = data.rename(columns={'class':'Class'})\n",
    " data.Class.value_counts()"
   ]
  },
  {
   "cell_type": "code",
   "execution_count": 36,
   "metadata": {
    "colab": {
     "base_uri": "https://localhost:8080/",
     "height": 287
    },
    "executionInfo": {
     "elapsed": 1342,
     "status": "ok",
     "timestamp": 1608762045375,
     "user": {
      "displayName": "Moumita Mandal",
      "photoUrl": "https://lh3.googleusercontent.com/a-/AOh14GjZLDwUroUscYQpm0nEwdmdNUPF5W6MSafe4mM1LQ=s64",
      "userId": "17759816897411681843"
     },
     "user_tz": -330
    },
    "id": "YtxrPo5ZlQDb",
    "outputId": "8cef5ec0-11c5-4d99-de77-92fc8d58bcb7"
   },
   "outputs": [
    {
     "data": {
      "text/html": [
       "<div>\n",
       "<style scoped>\n",
       "    .dataframe tbody tr th:only-of-type {\n",
       "        vertical-align: middle;\n",
       "    }\n",
       "\n",
       "    .dataframe tbody tr th {\n",
       "        vertical-align: top;\n",
       "    }\n",
       "\n",
       "    .dataframe thead th {\n",
       "        text-align: right;\n",
       "    }\n",
       "</style>\n",
       "<table border=\"1\" class=\"dataframe\">\n",
       "  <thead>\n",
       "    <tr style=\"text-align: right;\">\n",
       "      <th></th>\n",
       "      <th>AFFX-MurIL2_at</th>\n",
       "      <th>AFFX-MurIL10_at</th>\n",
       "      <th>AFFX-MurIL4_at</th>\n",
       "      <th>AFFX-MurFAS_at</th>\n",
       "      <th>AFFX-BioB-5_at</th>\n",
       "      <th>AFFX-BioB-M_at</th>\n",
       "      <th>AFFX-BioB-3_at</th>\n",
       "      <th>AFFX-BioC-5_at</th>\n",
       "      <th>AFFX-BioC-3_at</th>\n",
       "      <th>AFFX-BioDn-5_at</th>\n",
       "      <th>...</th>\n",
       "      <th>103_at</th>\n",
       "      <th>104_at</th>\n",
       "      <th>105_at</th>\n",
       "      <th>1216_at</th>\n",
       "      <th>788_s_at</th>\n",
       "      <th>426_at</th>\n",
       "      <th>397_at</th>\n",
       "      <th>132_at</th>\n",
       "      <th>hum_alu_at</th>\n",
       "      <th>Class</th>\n",
       "    </tr>\n",
       "  </thead>\n",
       "  <tbody>\n",
       "    <tr>\n",
       "      <td>0</td>\n",
       "      <td>-222.867004</td>\n",
       "      <td>44.987</td>\n",
       "      <td>29.072001</td>\n",
       "      <td>107.036003</td>\n",
       "      <td>1633.719971</td>\n",
       "      <td>1792.088013</td>\n",
       "      <td>1450.660034</td>\n",
       "      <td>5234.332031</td>\n",
       "      <td>5408.90918</td>\n",
       "      <td>5754.067871</td>\n",
       "      <td>...</td>\n",
       "      <td>160.125</td>\n",
       "      <td>413.343994</td>\n",
       "      <td>54.146999</td>\n",
       "      <td>-43.158001</td>\n",
       "      <td>216.522003</td>\n",
       "      <td>-54.693001</td>\n",
       "      <td>-197.839005</td>\n",
       "      <td>94.212997</td>\n",
       "      <td>16497.83203</td>\n",
       "      <td>1</td>\n",
       "    </tr>\n",
       "    <tr>\n",
       "      <td>1</td>\n",
       "      <td>-372.1480103</td>\n",
       "      <td>132.0480042</td>\n",
       "      <td>32.92200089</td>\n",
       "      <td>190.8150024</td>\n",
       "      <td>12774.59375</td>\n",
       "      <td>16425.99414</td>\n",
       "      <td>11523.09961</td>\n",
       "      <td>37526.45703</td>\n",
       "      <td>39596.67188</td>\n",
       "      <td>43983.26172</td>\n",
       "      <td>...</td>\n",
       "      <td>1926.875977</td>\n",
       "      <td>773.2199707</td>\n",
       "      <td>-47.15100098</td>\n",
       "      <td>52.86899948</td>\n",
       "      <td>-114.637001</td>\n",
       "      <td>-57.47499847</td>\n",
       "      <td>-123.4140015</td>\n",
       "      <td>309.8110046</td>\n",
       "      <td>87164.00781</td>\n",
       "      <td>1</td>\n",
       "    </tr>\n",
       "    <tr>\n",
       "      <td>2</td>\n",
       "      <td>-64.248001</td>\n",
       "      <td>106.371002</td>\n",
       "      <td>7.49</td>\n",
       "      <td>284.80899</td>\n",
       "      <td>2461.489014</td>\n",
       "      <td>2229.948975</td>\n",
       "      <td>1757.072998</td>\n",
       "      <td>7717.64502</td>\n",
       "      <td>6697.812012</td>\n",
       "      <td>7588.408203</td>\n",
       "      <td>...</td>\n",
       "      <td>162.720001</td>\n",
       "      <td>442.59201</td>\n",
       "      <td>162.167007</td>\n",
       "      <td>-7.781</td>\n",
       "      <td>304.131989</td>\n",
       "      <td>-62.653999</td>\n",
       "      <td>-354.554993</td>\n",
       "      <td>58.750999</td>\n",
       "      <td>16563.77734</td>\n",
       "      <td>1</td>\n",
       "    </tr>\n",
       "    <tr>\n",
       "      <td>3</td>\n",
       "      <td>-230.5480042</td>\n",
       "      <td>26.29800034</td>\n",
       "      <td>52.44900131</td>\n",
       "      <td>236.4019928</td>\n",
       "      <td>2040.295044</td>\n",
       "      <td>1866.427979</td>\n",
       "      <td>1657.119995</td>\n",
       "      <td>6508.688965</td>\n",
       "      <td>6581.226074</td>\n",
       "      <td>6658.895996</td>\n",
       "      <td>...</td>\n",
       "      <td>2664.638916</td>\n",
       "      <td>442.0679932</td>\n",
       "      <td>91.79199982</td>\n",
       "      <td>-3.720000029</td>\n",
       "      <td>182.1900024</td>\n",
       "      <td>-84.14199829</td>\n",
       "      <td>-153.6909943</td>\n",
       "      <td>96.18800354</td>\n",
       "      <td>6231.430176</td>\n",
       "      <td>1</td>\n",
       "    </tr>\n",
       "    <tr>\n",
       "      <td>4</td>\n",
       "      <td>270.537994</td>\n",
       "      <td>272.761993</td>\n",
       "      <td>-26.153999</td>\n",
       "      <td>207.901993</td>\n",
       "      <td>14976.5752</td>\n",
       "      <td>21094.98633</td>\n",
       "      <td>15805.98535</td>\n",
       "      <td>41854.03906</td>\n",
       "      <td>44083.20703</td>\n",
       "      <td>56576.92969</td>\n",
       "      <td>...</td>\n",
       "      <td>365.582001</td>\n",
       "      <td>703.106018</td>\n",
       "      <td>-42.016998</td>\n",
       "      <td>-147.490005</td>\n",
       "      <td>-168.417999</td>\n",
       "      <td>-213.264008</td>\n",
       "      <td>-200.826996</td>\n",
       "      <td>50.279999</td>\n",
       "      <td>81383.84375</td>\n",
       "      <td>1</td>\n",
       "    </tr>\n",
       "  </tbody>\n",
       "</table>\n",
       "<p>5 rows × 1466 columns</p>\n",
       "</div>"
      ],
      "text/plain": [
       "  AFFX-MurIL2_at AFFX-MurIL10_at AFFX-MurIL4_at AFFX-MurFAS_at AFFX-BioB-5_at  \\\n",
       "0    -222.867004          44.987      29.072001     107.036003    1633.719971   \n",
       "1   -372.1480103     132.0480042    32.92200089    190.8150024    12774.59375   \n",
       "2     -64.248001      106.371002           7.49      284.80899    2461.489014   \n",
       "3   -230.5480042     26.29800034    52.44900131    236.4019928    2040.295044   \n",
       "4     270.537994      272.761993     -26.153999     207.901993     14976.5752   \n",
       "\n",
       "  AFFX-BioB-M_at AFFX-BioB-3_at AFFX-BioC-5_at AFFX-BioC-3_at AFFX-BioDn-5_at  \\\n",
       "0    1792.088013    1450.660034    5234.332031     5408.90918     5754.067871   \n",
       "1    16425.99414    11523.09961    37526.45703    39596.67188     43983.26172   \n",
       "2    2229.948975    1757.072998     7717.64502    6697.812012     7588.408203   \n",
       "3    1866.427979    1657.119995    6508.688965    6581.226074     6658.895996   \n",
       "4    21094.98633    15805.98535    41854.03906    44083.20703     56576.92969   \n",
       "\n",
       "   ...       103_at       104_at        105_at       1216_at     788_s_at  \\\n",
       "0  ...      160.125   413.343994     54.146999    -43.158001   216.522003   \n",
       "1  ...  1926.875977  773.2199707  -47.15100098   52.86899948  -114.637001   \n",
       "2  ...   162.720001    442.59201    162.167007        -7.781   304.131989   \n",
       "3  ...  2664.638916  442.0679932   91.79199982  -3.720000029  182.1900024   \n",
       "4  ...   365.582001   703.106018    -42.016998   -147.490005  -168.417999   \n",
       "\n",
       "         426_at        397_at       132_at   hum_alu_at Class  \n",
       "0    -54.693001   -197.839005    94.212997  16497.83203     1  \n",
       "1  -57.47499847  -123.4140015  309.8110046  87164.00781     1  \n",
       "2    -62.653999   -354.554993    58.750999  16563.77734     1  \n",
       "3  -84.14199829  -153.6909943  96.18800354  6231.430176     1  \n",
       "4   -213.264008   -200.826996    50.279999  81383.84375     1  \n",
       "\n",
       "[5 rows x 1466 columns]"
      ]
     },
     "execution_count": 36,
     "metadata": {},
     "output_type": "execute_result"
    }
   ],
   "source": [
    "dict = {\n",
    "    'Class':{\n",
    "        'NonMet':0,\n",
    "        'Met':1\n",
    "    }\n",
    "}   \n",
    "data=data.replace(dict)\n",
    "data.head()"
   ]
  },
  {
   "cell_type": "markdown",
   "metadata": {
    "id": "lwZc_DYgNdlr"
   },
   "source": [
    "#Running 10 fold CV without any filter"
   ]
  },
  {
   "cell_type": "code",
   "execution_count": 37,
   "metadata": {
    "colab": {
     "base_uri": "https://localhost:8080/"
    },
    "executionInfo": {
     "elapsed": 3138,
     "status": "ok",
     "timestamp": 1608762288674,
     "user": {
      "displayName": "Moumita Mandal",
      "photoUrl": "https://lh3.googleusercontent.com/a-/AOh14GjZLDwUroUscYQpm0nEwdmdNUPF5W6MSafe4mM1LQ=s64",
      "userId": "17759816897411681843"
     },
     "user_tz": -330
    },
    "id": "rQfQxz_6mDWZ",
    "outputId": "ef9ca82a-f313-467a-b3d5-889b7d96b1e2"
   },
   "outputs": [
    {
     "name": "stdout",
     "output_type": "stream",
     "text": [
      "SVM Accuracy 10 fold: 45.0000 (0.279)\n",
      "RFC Accuracy 10 fold: 43.3333 (0.281)\n",
      "KNN Accuracy 10 fold: 23.3333 (0.327)\n",
      "Naive Bayes Accuracy 10 fold: 45.0000 (0.167)\n"
     ]
    }
   ],
   "source": [
    "from numpy import mean\n",
    "from numpy import std\n",
    "from sklearn.model_selection import train_test_split\n",
    "\n",
    "from sklearn.datasets import make_classification\n",
    "from sklearn.model_selection import KFold\n",
    "from sklearn.model_selection import cross_val_score\n",
    "\n",
    "X = data.drop(['Class'], axis=1)\n",
    "y = data.Class\n",
    "cv = KFold(n_splits=10, random_state=1, shuffle=True)\n",
    "\n",
    "from sklearn.svm import SVC, LinearSVC\n",
    "from sklearn.ensemble import RandomForestClassifier\n",
    "from xgboost import XGBClassifier\n",
    "from sklearn.neighbors import KNeighborsClassifier\n",
    "from sklearn.naive_bayes import GaussianNB\n",
    "\n",
    "SVM = SVC()\n",
    "RFC = RandomForestClassifier()\n",
    "KNN=KNeighborsClassifier()\n",
    "NB=GaussianNB()\n",
    "\n",
    "scores = cross_val_score(SVM, X, y, scoring='accuracy', cv=cv, n_jobs=-1)\n",
    "print('SVM Accuracy 10 fold: %.4f (%.3f)' % (mean(scores)*100, std(scores)))\n",
    "scores = cross_val_score(RFC, X, y, scoring='accuracy', cv=cv, n_jobs=-1)\n",
    "print('RFC Accuracy 10 fold: %.4f (%.3f)' % (mean(scores)*100, std(scores)))\n",
    "scores = cross_val_score(KNN, X, y, scoring='accuracy', cv=cv, n_jobs=-1)\n",
    "print('KNN Accuracy 10 fold: %.4f (%.3f)' % (mean(scores)*100, std(scores)))\n",
    "scores = cross_val_score(NB, X, y, scoring='accuracy', cv=cv, n_jobs=-1)\n",
    "print('NB  Accuracy 10 fold: %.4f (%.3f)' % (mean(scores)*100, std(scores)))"
   ]
  },
  {
   "cell_type": "markdown",
   "metadata": {
    "id": "KNY2FupBPUyh"
   },
   "source": [
    "#Filter Assembling "
   ]
  },
  {
   "cell_type": "markdown",
   "metadata": {
    "id": "JHeHx5FDPfIx"
   },
   "source": [
    "*CHI-SQUARE*"
   ]
  },
  {
   "cell_type": "code",
   "execution_count": 416,
   "metadata": {
    "colab": {
     "base_uri": "https://localhost:8080/",
     "height": 35
    },
    "executionInfo": {
     "elapsed": 19818,
     "status": "ok",
     "timestamp": 1608762109950,
     "user": {
      "displayName": "Moumita Mandal",
      "photoUrl": "https://lh3.googleusercontent.com/a-/AOh14GjZLDwUroUscYQpm0nEwdmdNUPF5W6MSafe4mM1LQ=s64",
      "userId": "17759816897411681843"
     },
     "user_tz": -330
    },
    "id": "2XJExgeimDWe",
    "outputId": "74c7aa88-3b1e-4926-e967-bbbddb3efa3f"
   },
   "outputs": [
    {
     "data": {
      "text/plain": [
       "array(['AFFX-MurIL2_at', 'AFFX-MurIL10_at', 'AFFX-MurIL4_at',\n",
       "       'AFFX-MurFAS_at', 'AFFX-BioB-5_at', 'AFFX-BioB-M_at',\n",
       "       'AFFX-BioB-3_at', 'AFFX-BioC-5_at', 'AFFX-BioC-3_at',\n",
       "       'AFFX-BioDn-5_at', 'AFFX-DapX-5_at', 'AFFX-DapX-M_at'],\n",
       "      dtype=object)"
      ]
     },
     "execution_count": 416,
     "metadata": {},
     "output_type": "execute_result"
    }
   ],
   "source": [
    "#Chi-Square Test\n",
    "\n",
    "import scipy.stats as stats\n",
    "from scipy.stats import chi2\n",
    "\n",
    "def chi_sqr(test_column,output_column):\n",
    "    observed_value = pd.crosstab(test_column,output_column)\n",
    "    val = stats.chi2_contingency(observed_value)\n",
    "    expected_value=val[3]\n",
    "    no_of_rows=len(observed_value.iloc[0:2,0])\n",
    "    no_of_columns=len(observed_value.iloc[0,0:2])\n",
    "    dgof=(no_of_rows-1)*(no_of_columns-1)\n",
    "    alpha=0.05\n",
    "    for o,e in zip(observed_value.values,expected_value):\n",
    "        chi_2 = sum([(o-e)**2./e])       \n",
    "    chi2_stat = np.sum(chi_2)\n",
    "    return chi2_stat\n",
    "    \n",
    "df1 = data.drop(['Class'], axis=1)\n",
    "top_n1 =[]\n",
    "for i in df1.columns.values:\n",
    "    top_n1.append(chi_sqr(df1[i],data['Class']))\n",
    "    \n",
    "col_name1 = np.array(X.columns)\n",
    "a1 = pd.DataFrame(top_n1)\n",
    "b1 = pd.DataFrame(col_name1)\n",
    "info1 = pd.concat([a1,b1], axis=1)\n",
    "info1.columns = ['Score','Features']\n",
    "\n",
    "top1 = info1.nsmallest(12,'Score')\n",
    "ft1 = np.array(top1['Features'])\n",
    "top1\n",
    "ft1\n",
    "#array(['31357_at', '31363_at', '31369_at', '31393_r_at', '31400_at'],\\n      dtype=object)"
   ]
  },
  {
   "cell_type": "code",
   "execution_count": 417,
   "metadata": {},
   "outputs": [
    {
     "name": "stdout",
     "output_type": "stream",
     "text": [
      "Accuracy 10 fold: 66.6667 (0.279)\n"
     ]
    }
   ],
   "source": [
    "def fs_run1(classifier):\n",
    "  top_fs=np.append(ft1,['Class'], axis=0)\n",
    "  dfs = data.loc[:,top_fs]\n",
    "  X = dfs.drop(['Class'], axis=1)\n",
    "  y = dfs['Class']\n",
    "  model = classifier()\n",
    "  scores = cross_val_score(model, X, y, scoring='accuracy', cv=cv, n_jobs=-1)\n",
    "  print('Accuracy 10 fold: %.4f (%.3f)' % (mean(scores)*100, std(scores)))\n",
    "\n",
    "RFCa = fs_run1(GaussianNB)"
   ]
  },
  {
   "cell_type": "markdown",
   "metadata": {
    "id": "SEzp7tmLQCQn"
   },
   "source": [
    "*Mutual Information*"
   ]
  },
  {
   "cell_type": "code",
   "execution_count": 418,
   "metadata": {
    "colab": {
     "base_uri": "https://localhost:8080/"
    },
    "executionInfo": {
     "elapsed": 3414,
     "status": "ok",
     "timestamp": 1608762113370,
     "user": {
      "displayName": "Moumita Mandal",
      "photoUrl": "https://lh3.googleusercontent.com/a-/AOh14GjZLDwUroUscYQpm0nEwdmdNUPF5W6MSafe4mM1LQ=s64",
      "userId": "17759816897411681843"
     },
     "user_tz": -330
    },
    "id": "qe2Wk2WrmDWp",
    "outputId": "908d89f6-4bc9-45c0-98d1-6ae208184fe3"
   },
   "outputs": [
    {
     "data": {
      "text/plain": [
       "array(['AFFX-MurIL2_at', 'AFFX-MurIL10_at', 'AFFX-MurIL4_at',\n",
       "       'AFFX-MurFAS_at', 'AFFX-BioB-5_at', 'AFFX-BioB-M_at',\n",
       "       'AFFX-BioB-3_at', 'AFFX-BioC-5_at', 'AFFX-BioC-3_at',\n",
       "       'AFFX-BioDn-5_at', 'AFFX-BioDn-3_at', 'AFFX-CreX-5_at'],\n",
       "      dtype=object)"
      ]
     },
     "execution_count": 418,
     "metadata": {},
     "output_type": "execute_result"
    }
   ],
   "source": [
    "from sklearn.feature_selection import mutual_info_classif\n",
    "\n",
    "res = mutual_info_classif(X,y,discrete_features=True)\n",
    "\n",
    "col_name2 = np.array(X.columns)\n",
    "\n",
    "a2 = pd.DataFrame(res)\n",
    "b2 = pd.DataFrame(col_name2)\n",
    "info2 = pd.concat([a2,b2], axis=1)\n",
    "info2.columns = ['Info_Gain','Features']\n",
    "\n",
    "top2 = info2.nlargest(12,'Info_Gain')\n",
    "ft2 = np.array(top2['Features'])\n",
    "ft2\n",
    "#array(['AFFX-MurIL2_at', 'AFFX-MurIL10_at', 'AFFX-MurIL4_at','AFFX-MurFAS_at', 'AFFX-BioB-5_at'], dtype=object)"
   ]
  },
  {
   "cell_type": "code",
   "execution_count": 420,
   "metadata": {},
   "outputs": [
    {
     "name": "stdout",
     "output_type": "stream",
     "text": [
      "Accuracy 10 fold: 63.3333 (0.332)\n"
     ]
    }
   ],
   "source": [
    "def fs_run2(classifier):\n",
    "  top_fs=np.append(ft2,['Class'], axis=0)\n",
    "  dfs = data.loc[:,top_fs]\n",
    "  X = dfs.drop(['Class'], axis=1)\n",
    "  y = dfs['Class']\n",
    "  model = classifier()\n",
    "  scores = cross_val_score(model, X, y, scoring='accuracy', cv=cv, n_jobs=-1)\n",
    "  print('Accuracy 10 fold: %.4f (%.3f)' % (mean(scores)*100, std(scores)))\n",
    "\n",
    "RFCb = fs_run2(GaussianNB)"
   ]
  },
  {
   "cell_type": "markdown",
   "metadata": {
    "id": "f960kQEGP8pC"
   },
   "source": [
    "*ReliefF*"
   ]
  },
  {
   "cell_type": "code",
   "execution_count": 42,
   "metadata": {
    "colab": {
     "base_uri": "https://localhost:8080/"
    },
    "executionInfo": {
     "elapsed": 7359,
     "status": "ok",
     "timestamp": 1608762163985,
     "user": {
      "displayName": "Moumita Mandal",
      "photoUrl": "https://lh3.googleusercontent.com/a-/AOh14GjZLDwUroUscYQpm0nEwdmdNUPF5W6MSafe4mM1LQ=s64",
      "userId": "17759816897411681843"
     },
     "user_tz": -330
    },
    "id": "MrY0ce8WoKcZ",
    "outputId": "0dd2036f-f4fe-42f9-a7e1-f633be2639a6"
   },
   "outputs": [
    {
     "name": "stdout",
     "output_type": "stream",
     "text": [
      "Requirement already satisfied: skrebate in c:\\programdata\\anaconda3\\lib\\site-packages (0.61)\n",
      "Requirement already satisfied: scikit-learn in c:\\programdata\\anaconda3\\lib\\site-packages (from skrebate) (0.21.3)\n",
      "Requirement already satisfied: numpy in c:\\programdata\\anaconda3\\lib\\site-packages (from skrebate) (1.16.5)\n",
      "Requirement already satisfied: scipy in c:\\programdata\\anaconda3\\lib\\site-packages (from skrebate) (1.3.1)\n",
      "Requirement already satisfied: joblib>=0.11 in c:\\programdata\\anaconda3\\lib\\site-packages (from scikit-learn->skrebate) (0.13.2)\n",
      "Note: you may need to restart the kernel to use updated packages.\n"
     ]
    }
   ],
   "source": [
    "pip install skrebate"
   ]
  },
  {
   "cell_type": "code",
   "execution_count": 404,
   "metadata": {
    "colab": {
     "base_uri": "https://localhost:8080/",
     "height": 35
    },
    "executionInfo": {
     "elapsed": 2541,
     "status": "ok",
     "timestamp": 1608762319202,
     "user": {
      "displayName": "Moumita Mandal",
      "photoUrl": "https://lh3.googleusercontent.com/a-/AOh14GjZLDwUroUscYQpm0nEwdmdNUPF5W6MSafe4mM1LQ=s64",
      "userId": "17759816897411681843"
     },
     "user_tz": -330
    },
    "id": "wIiArHy3mDWj",
    "outputId": "0cab709c-460d-476d-e644-725234508b0c"
   },
   "outputs": [
    {
     "data": {
      "text/plain": [
       "array(['428_s_at', '1054_at', '2077_at', '1527_s_at', '743_at', '529_at'],\n",
       "      dtype=object)"
      ]
     },
     "execution_count": 404,
     "metadata": {},
     "output_type": "execute_result"
    }
   ],
   "source": [
    "from sklearn.pipeline import make_pipeline\n",
    "from skrebate import ReliefF\n",
    "from sklearn.pipeline import make_pipeline\n",
    "from skrebate import ReliefF\n",
    "\n",
    "features, classes = data.drop('Class', axis=1).values, data['Class'].values\n",
    "X_train, X_test, y_train, y_test = train_test_split(features, classes)\n",
    "\n",
    "arr = X_train.astype('float64')\n",
    "fs = ReliefF()\n",
    "fs.fit(arr, y_train)\n",
    "\n",
    "top_n3=[]\n",
    "names=[]\n",
    "for feature_name, feature_score in zip(data.drop('Class', axis=1).columns, fs.feature_importances_):\n",
    "    top_n3.append(feature_score)\n",
    "    names.append(feature_name)\n",
    "    \n",
    "a3 = pd.DataFrame(top_n3)\n",
    "b3 =pd.DataFrame(names)\n",
    "\n",
    "info3 = pd.concat([a3,b3], axis=1)\n",
    "info3.columns = ['Score','Features'] \n",
    "\n",
    "top3 = info3.nlargest(6,'Score')\n",
    "ft3 = np.array(top3['Features'])\n",
    "ft3\n",
    "#array(['37639_at', '37720_at', '41468_at', '36864_at', '39756_g_at'],\\n      dtype=object)"
   ]
  },
  {
   "cell_type": "code",
   "execution_count": 421,
   "metadata": {},
   "outputs": [
    {
     "name": "stdout",
     "output_type": "stream",
     "text": [
      "Accuracy 10 fold: 78.3333 (0.224)\n"
     ]
    }
   ],
   "source": [
    "def fs_run3(classifier):\n",
    "  top_fs=np.append(ft3,['Class'], axis=0)\n",
    "  dfs = data.loc[:,top_fs]\n",
    "  X = dfs.drop(['Class'], axis=1)\n",
    "  y = dfs['Class']\n",
    "  model = classifier()\n",
    "  scores = cross_val_score(model, X, y, scoring='accuracy', cv=cv, n_jobs=-1)\n",
    "  print('Accuracy 10 fold: %.4f (%.3f)' % (mean(scores)*100, std(scores)))\n",
    "\n",
    "RFCc = fs_run3(GaussianNB)"
   ]
  },
  {
   "cell_type": "markdown",
   "metadata": {
    "id": "VZzBP_9MQOsa"
   },
   "source": [
    "*Union Function* "
   ]
  },
  {
   "cell_type": "code",
   "execution_count": 377,
   "metadata": {
    "id": "6i4DoZCpmDWu"
   },
   "outputs": [],
   "source": [
    "from functools import reduce\n",
    "def top_fs_union(n):\n",
    "    f1 = ft1[:n]\n",
    "    f2 = ft2[:n]\n",
    "    f3 = ft3[:n]\n",
    "    print (reduce(np.union1d, (f1,f2,f3)))\n",
    "    return(reduce(np.union1d, (f1,f2,f3)))"
   ]
  },
  {
   "cell_type": "markdown",
   "metadata": {
    "id": "zQh94y5gQSKH"
   },
   "source": [
    "*Classifier function call with selected top n*"
   ]
  },
  {
   "cell_type": "code",
   "execution_count": 378,
   "metadata": {
    "id": "2GWYYmDBmDW1"
   },
   "outputs": [],
   "source": [
    "def assemble_run(n,classifier):\n",
    "  top_fs=top_fs_union(n)\n",
    "  top_fs=np.append(top_fs,['Class'], axis=0)\n",
    "  dfs = data.loc[:,top_fs]\n",
    "  X = dfs.drop(['Class'], axis=1)\n",
    "  y = dfs['Class']\n",
    "  model = classifier()\n",
    "  scores = cross_val_score(model, X, y, scoring='accuracy', cv=cv, n_jobs=-1)\n",
    "  print('Accuracy 10 fold: %.4f (%.3f)' % (mean(scores)*100, std(scores)))\n"
   ]
  },
  {
   "cell_type": "code",
   "execution_count": 379,
   "metadata": {
    "colab": {
     "base_uri": "https://localhost:8080/"
    },
    "executionInfo": {
     "elapsed": 2055,
     "status": "ok",
     "timestamp": 1608762449858,
     "user": {
      "displayName": "Moumita Mandal",
      "photoUrl": "https://lh3.googleusercontent.com/a-/AOh14GjZLDwUroUscYQpm0nEwdmdNUPF5W6MSafe4mM1LQ=s64",
      "userId": "17759816897411681843"
     },
     "user_tz": -330
    },
    "id": "BvlIkbwWmDW-",
    "outputId": "b1b9e22b-2bef-411f-e557-6c5febf81935"
   },
   "outputs": [
    {
     "name": "stdout",
     "output_type": "stream",
     "text": [
      "['1319_at' '1380_at' '139_at' '1467_at' '1600_at' '170_at' '1987_at'\n",
      " '476_s_at' '529_at' '549_at' '584_s_at' '751_at' 'AFFX-BioB-3_at'\n",
      " 'AFFX-BioB-5_at' 'AFFX-BioB-M_at' 'AFFX-BioC-3_at' 'AFFX-BioC-5_at'\n",
      " 'AFFX-BioDn-3_at' 'AFFX-BioDn-5_at' 'AFFX-CreX-5_at' 'AFFX-DapX-5_at'\n",
      " 'AFFX-DapX-M_at' 'AFFX-MurFAS_at' 'AFFX-MurIL10_at' 'AFFX-MurIL2_at'\n",
      " 'AFFX-MurIL4_at']\n",
      "Accuracy 10 fold: 76.6667 (0.327)\n"
     ]
    }
   ],
   "source": [
    "#RANDOM FOREST CLASSIFIER\n",
    "\n",
    "#Feature Subset by Union of Best Features from each\n",
    "RFC1 = assemble_run(12,RandomForestClassifier)"
   ]
  },
  {
   "cell_type": "code",
   "execution_count": 397,
   "metadata": {
    "colab": {
     "base_uri": "https://localhost:8080/"
    },
    "executionInfo": {
     "elapsed": 1601,
     "status": "ok",
     "timestamp": 1608762481090,
     "user": {
      "displayName": "Moumita Mandal",
      "photoUrl": "https://lh3.googleusercontent.com/a-/AOh14GjZLDwUroUscYQpm0nEwdmdNUPF5W6MSafe4mM1LQ=s64",
      "userId": "17759816897411681843"
     },
     "user_tz": -330
    },
    "id": "klQarjWnmDXP",
    "outputId": "941e061f-43ae-4f10-c460-760fdfdbed12"
   },
   "outputs": [
    {
     "name": "stdout",
     "output_type": "stream",
     "text": [
      "['1319_at' '1380_at' '1467_at' '1600_at' '476_s_at' '529_at' '584_s_at'\n",
      " 'AFFX-BioB-3_at' 'AFFX-BioB-5_at' 'AFFX-BioB-M_at' 'AFFX-MurFAS_at'\n",
      " 'AFFX-MurIL10_at' 'AFFX-MurIL2_at' 'AFFX-MurIL4_at']\n",
      "Accuracy 10 fold: 46.6667 (0.364)\n"
     ]
    }
   ],
   "source": [
    "#KNN CLASSIFIER\n",
    "\n",
    "#Feature Subset by Union of Best Features from each\n",
    "KNN1 = assemble_run(7,KNeighborsClassifier)\n"
   ]
  },
  {
   "cell_type": "code",
   "execution_count": 414,
   "metadata": {
    "colab": {
     "base_uri": "https://localhost:8080/"
    },
    "executionInfo": {
     "elapsed": 1485,
     "status": "ok",
     "timestamp": 1608762486926,
     "user": {
      "displayName": "Moumita Mandal",
      "photoUrl": "https://lh3.googleusercontent.com/a-/AOh14GjZLDwUroUscYQpm0nEwdmdNUPF5W6MSafe4mM1LQ=s64",
      "userId": "17759816897411681843"
     },
     "user_tz": -330
    },
    "id": "ipiNgrooSIqg",
    "outputId": "edf2e522-b6fc-4ced-abe7-8e666dbbae78"
   },
   "outputs": [
    {
     "name": "stdout",
     "output_type": "stream",
     "text": [
      "['1054_at' '1527_s_at' '2077_at' '428_s_at' '529_at' '743_at'\n",
      " 'AFFX-BioB-5_at' 'AFFX-BioB-M_at' 'AFFX-MurFAS_at' 'AFFX-MurIL10_at'\n",
      " 'AFFX-MurIL2_at' 'AFFX-MurIL4_at']\n",
      "Accuracy 10 fold: 76.6667 (0.249)\n"
     ]
    }
   ],
   "source": [
    "#Naive Bayes CLASSIFIER\n",
    "#Feature Subset by Union of Best Features from each\n",
    "NB1 = assemble_run(12,GaussianNB)\n"
   ]
  },
  {
   "cell_type": "code",
   "execution_count": 415,
   "metadata": {
    "colab": {
     "base_uri": "https://localhost:8080/"
    },
    "executionInfo": {
     "elapsed": 1242,
     "status": "ok",
     "timestamp": 1608762543047,
     "user": {
      "displayName": "Moumita Mandal",
      "photoUrl": "https://lh3.googleusercontent.com/a-/AOh14GjZLDwUroUscYQpm0nEwdmdNUPF5W6MSafe4mM1LQ=s64",
      "userId": "17759816897411681843"
     },
     "user_tz": -330
    },
    "id": "pOKTV5kNt4PB",
    "outputId": "52cff7a4-6011-46f9-c65d-be9e2638c21b"
   },
   "outputs": [
    {
     "name": "stdout",
     "output_type": "stream",
     "text": [
      "['1054_at' '1527_s_at' '2077_at' '428_s_at' '743_at' 'AFFX-BioB-5_at'\n",
      " 'AFFX-MurFAS_at' 'AFFX-MurIL10_at' 'AFFX-MurIL2_at' 'AFFX-MurIL4_at']\n",
      "Accuracy 10 fold: 45.0000 (0.279)\n"
     ]
    }
   ],
   "source": [
    "#SVM\n",
    "#Feature Subset by Union of Best Features from each\n",
    "SVM1 = assemble_run(5,SVC)\n"
   ]
  },
  {
   "cell_type": "markdown",
   "metadata": {
    "id": "znoN0Cu0YZMz"
   },
   "source": [
    "*Checking No of feaures for best accuracy*"
   ]
  },
  {
   "cell_type": "code",
   "execution_count": 29,
   "metadata": {
    "colab": {
     "base_uri": "https://localhost:8080/"
    },
    "executionInfo": {
     "elapsed": 1346,
     "status": "ok",
     "timestamp": 1608762556556,
     "user": {
      "displayName": "Moumita Mandal",
      "photoUrl": "https://lh3.googleusercontent.com/a-/AOh14GjZLDwUroUscYQpm0nEwdmdNUPF5W6MSafe4mM1LQ=s64",
      "userId": "17759816897411681843"
     },
     "user_tz": -330
    },
    "id": "HikwTyqwT8-H",
    "outputId": "b3a38043-8812-478c-98ab-5508e971c445"
   },
   "outputs": [
    {
     "name": "stdout",
     "output_type": "stream",
     "text": [
      "['1007_s_at' '1380_at' '1600_at' '418_at' '939_at' 'AFFX-BioB-5_at'\n",
      " 'AFFX-MurFAS_at' 'AFFX-MurIL10_at' 'AFFX-MurIL2_at' 'AFFX-MurIL4_at']\n",
      "10\n"
     ]
    }
   ],
   "source": [
    "print(len(top_fs_union(5)))"
   ]
  },
  {
   "cell_type": "code",
   "execution_count": null,
   "metadata": {},
   "outputs": [],
   "source": []
  }
 ],
 "metadata": {
  "colab": {
   "authorship_tag": "ABX9TyPfBn9wpsy3O2XQhsO6La3t",
   "name": "GSE468_intern.ipynb",
   "provenance": [],
   "toc_visible": true
  },
  "kernelspec": {
   "display_name": "Python 3",
   "language": "python",
   "name": "python3"
  },
  "language_info": {
   "codemirror_mode": {
    "name": "ipython",
    "version": 3
   },
   "file_extension": ".py",
   "mimetype": "text/x-python",
   "name": "python",
   "nbconvert_exporter": "python",
   "pygments_lexer": "ipython3",
   "version": "3.7.4"
  }
 },
 "nbformat": 4,
 "nbformat_minor": 1
}

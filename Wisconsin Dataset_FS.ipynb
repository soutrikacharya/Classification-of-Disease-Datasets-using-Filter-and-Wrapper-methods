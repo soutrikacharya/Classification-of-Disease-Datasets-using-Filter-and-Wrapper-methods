{
 "cells": [
  {
   "cell_type": "code",
   "execution_count": 1,
   "metadata": {},
   "outputs": [],
   "source": [
    "import pandas as pd\n",
    "import numpy as np"
   ]
  },
  {
   "cell_type": "code",
   "execution_count": 2,
   "metadata": {},
   "outputs": [
    {
     "data": {
      "text/html": [
       "<div>\n",
       "<style scoped>\n",
       "    .dataframe tbody tr th:only-of-type {\n",
       "        vertical-align: middle;\n",
       "    }\n",
       "\n",
       "    .dataframe tbody tr th {\n",
       "        vertical-align: top;\n",
       "    }\n",
       "\n",
       "    .dataframe thead th {\n",
       "        text-align: right;\n",
       "    }\n",
       "</style>\n",
       "<table border=\"1\" class=\"dataframe\">\n",
       "  <thead>\n",
       "    <tr style=\"text-align: right;\">\n",
       "      <th></th>\n",
       "      <th>id</th>\n",
       "      <th>diagnosis</th>\n",
       "      <th>radius_mean</th>\n",
       "      <th>texture_mean</th>\n",
       "      <th>perimeter_mean</th>\n",
       "      <th>area_mean</th>\n",
       "      <th>smoothness_mean</th>\n",
       "      <th>compactness_mean</th>\n",
       "      <th>concavity_mean</th>\n",
       "      <th>concave points_mean</th>\n",
       "      <th>...</th>\n",
       "      <th>texture_worst</th>\n",
       "      <th>perimeter_worst</th>\n",
       "      <th>area_worst</th>\n",
       "      <th>smoothness_worst</th>\n",
       "      <th>compactness_worst</th>\n",
       "      <th>concavity_worst</th>\n",
       "      <th>concave points_worst</th>\n",
       "      <th>symmetry_worst</th>\n",
       "      <th>fractal_dimension_worst</th>\n",
       "      <th>Unnamed: 32</th>\n",
       "    </tr>\n",
       "  </thead>\n",
       "  <tbody>\n",
       "    <tr>\n",
       "      <td>0</td>\n",
       "      <td>842302</td>\n",
       "      <td>M</td>\n",
       "      <td>17.99</td>\n",
       "      <td>10.38</td>\n",
       "      <td>122.80</td>\n",
       "      <td>1001.0</td>\n",
       "      <td>0.11840</td>\n",
       "      <td>0.27760</td>\n",
       "      <td>0.3001</td>\n",
       "      <td>0.14710</td>\n",
       "      <td>...</td>\n",
       "      <td>17.33</td>\n",
       "      <td>184.60</td>\n",
       "      <td>2019.0</td>\n",
       "      <td>0.1622</td>\n",
       "      <td>0.6656</td>\n",
       "      <td>0.7119</td>\n",
       "      <td>0.2654</td>\n",
       "      <td>0.4601</td>\n",
       "      <td>0.11890</td>\n",
       "      <td>NaN</td>\n",
       "    </tr>\n",
       "    <tr>\n",
       "      <td>1</td>\n",
       "      <td>842517</td>\n",
       "      <td>M</td>\n",
       "      <td>20.57</td>\n",
       "      <td>17.77</td>\n",
       "      <td>132.90</td>\n",
       "      <td>1326.0</td>\n",
       "      <td>0.08474</td>\n",
       "      <td>0.07864</td>\n",
       "      <td>0.0869</td>\n",
       "      <td>0.07017</td>\n",
       "      <td>...</td>\n",
       "      <td>23.41</td>\n",
       "      <td>158.80</td>\n",
       "      <td>1956.0</td>\n",
       "      <td>0.1238</td>\n",
       "      <td>0.1866</td>\n",
       "      <td>0.2416</td>\n",
       "      <td>0.1860</td>\n",
       "      <td>0.2750</td>\n",
       "      <td>0.08902</td>\n",
       "      <td>NaN</td>\n",
       "    </tr>\n",
       "    <tr>\n",
       "      <td>2</td>\n",
       "      <td>84300903</td>\n",
       "      <td>M</td>\n",
       "      <td>19.69</td>\n",
       "      <td>21.25</td>\n",
       "      <td>130.00</td>\n",
       "      <td>1203.0</td>\n",
       "      <td>0.10960</td>\n",
       "      <td>0.15990</td>\n",
       "      <td>0.1974</td>\n",
       "      <td>0.12790</td>\n",
       "      <td>...</td>\n",
       "      <td>25.53</td>\n",
       "      <td>152.50</td>\n",
       "      <td>1709.0</td>\n",
       "      <td>0.1444</td>\n",
       "      <td>0.4245</td>\n",
       "      <td>0.4504</td>\n",
       "      <td>0.2430</td>\n",
       "      <td>0.3613</td>\n",
       "      <td>0.08758</td>\n",
       "      <td>NaN</td>\n",
       "    </tr>\n",
       "    <tr>\n",
       "      <td>3</td>\n",
       "      <td>84348301</td>\n",
       "      <td>M</td>\n",
       "      <td>11.42</td>\n",
       "      <td>20.38</td>\n",
       "      <td>77.58</td>\n",
       "      <td>386.1</td>\n",
       "      <td>0.14250</td>\n",
       "      <td>0.28390</td>\n",
       "      <td>0.2414</td>\n",
       "      <td>0.10520</td>\n",
       "      <td>...</td>\n",
       "      <td>26.50</td>\n",
       "      <td>98.87</td>\n",
       "      <td>567.7</td>\n",
       "      <td>0.2098</td>\n",
       "      <td>0.8663</td>\n",
       "      <td>0.6869</td>\n",
       "      <td>0.2575</td>\n",
       "      <td>0.6638</td>\n",
       "      <td>0.17300</td>\n",
       "      <td>NaN</td>\n",
       "    </tr>\n",
       "    <tr>\n",
       "      <td>4</td>\n",
       "      <td>84358402</td>\n",
       "      <td>M</td>\n",
       "      <td>20.29</td>\n",
       "      <td>14.34</td>\n",
       "      <td>135.10</td>\n",
       "      <td>1297.0</td>\n",
       "      <td>0.10030</td>\n",
       "      <td>0.13280</td>\n",
       "      <td>0.1980</td>\n",
       "      <td>0.10430</td>\n",
       "      <td>...</td>\n",
       "      <td>16.67</td>\n",
       "      <td>152.20</td>\n",
       "      <td>1575.0</td>\n",
       "      <td>0.1374</td>\n",
       "      <td>0.2050</td>\n",
       "      <td>0.4000</td>\n",
       "      <td>0.1625</td>\n",
       "      <td>0.2364</td>\n",
       "      <td>0.07678</td>\n",
       "      <td>NaN</td>\n",
       "    </tr>\n",
       "  </tbody>\n",
       "</table>\n",
       "<p>5 rows × 33 columns</p>\n",
       "</div>"
      ],
      "text/plain": [
       "         id diagnosis  radius_mean  texture_mean  perimeter_mean  area_mean  \\\n",
       "0    842302         M        17.99         10.38          122.80     1001.0   \n",
       "1    842517         M        20.57         17.77          132.90     1326.0   \n",
       "2  84300903         M        19.69         21.25          130.00     1203.0   \n",
       "3  84348301         M        11.42         20.38           77.58      386.1   \n",
       "4  84358402         M        20.29         14.34          135.10     1297.0   \n",
       "\n",
       "   smoothness_mean  compactness_mean  concavity_mean  concave points_mean  \\\n",
       "0          0.11840           0.27760          0.3001              0.14710   \n",
       "1          0.08474           0.07864          0.0869              0.07017   \n",
       "2          0.10960           0.15990          0.1974              0.12790   \n",
       "3          0.14250           0.28390          0.2414              0.10520   \n",
       "4          0.10030           0.13280          0.1980              0.10430   \n",
       "\n",
       "   ...  texture_worst  perimeter_worst  area_worst  smoothness_worst  \\\n",
       "0  ...          17.33           184.60      2019.0            0.1622   \n",
       "1  ...          23.41           158.80      1956.0            0.1238   \n",
       "2  ...          25.53           152.50      1709.0            0.1444   \n",
       "3  ...          26.50            98.87       567.7            0.2098   \n",
       "4  ...          16.67           152.20      1575.0            0.1374   \n",
       "\n",
       "   compactness_worst  concavity_worst  concave points_worst  symmetry_worst  \\\n",
       "0             0.6656           0.7119                0.2654          0.4601   \n",
       "1             0.1866           0.2416                0.1860          0.2750   \n",
       "2             0.4245           0.4504                0.2430          0.3613   \n",
       "3             0.8663           0.6869                0.2575          0.6638   \n",
       "4             0.2050           0.4000                0.1625          0.2364   \n",
       "\n",
       "   fractal_dimension_worst  Unnamed: 32  \n",
       "0                  0.11890          NaN  \n",
       "1                  0.08902          NaN  \n",
       "2                  0.08758          NaN  \n",
       "3                  0.17300          NaN  \n",
       "4                  0.07678          NaN  \n",
       "\n",
       "[5 rows x 33 columns]"
      ]
     },
     "execution_count": 2,
     "metadata": {},
     "output_type": "execute_result"
    }
   ],
   "source": [
    "data = pd.read_csv('data.csv')\n",
    "data.head()"
   ]
  },
  {
   "cell_type": "code",
   "execution_count": 3,
   "metadata": {},
   "outputs": [
    {
     "data": {
      "text/html": [
       "<div>\n",
       "<style scoped>\n",
       "    .dataframe tbody tr th:only-of-type {\n",
       "        vertical-align: middle;\n",
       "    }\n",
       "\n",
       "    .dataframe tbody tr th {\n",
       "        vertical-align: top;\n",
       "    }\n",
       "\n",
       "    .dataframe thead th {\n",
       "        text-align: right;\n",
       "    }\n",
       "</style>\n",
       "<table border=\"1\" class=\"dataframe\">\n",
       "  <thead>\n",
       "    <tr style=\"text-align: right;\">\n",
       "      <th></th>\n",
       "      <th>diagnosis</th>\n",
       "      <th>radius_mean</th>\n",
       "      <th>texture_mean</th>\n",
       "      <th>perimeter_mean</th>\n",
       "      <th>area_mean</th>\n",
       "      <th>smoothness_mean</th>\n",
       "      <th>compactness_mean</th>\n",
       "      <th>concavity_mean</th>\n",
       "      <th>concave points_mean</th>\n",
       "      <th>symmetry_mean</th>\n",
       "      <th>...</th>\n",
       "      <th>radius_worst</th>\n",
       "      <th>texture_worst</th>\n",
       "      <th>perimeter_worst</th>\n",
       "      <th>area_worst</th>\n",
       "      <th>smoothness_worst</th>\n",
       "      <th>compactness_worst</th>\n",
       "      <th>concavity_worst</th>\n",
       "      <th>concave points_worst</th>\n",
       "      <th>symmetry_worst</th>\n",
       "      <th>fractal_dimension_worst</th>\n",
       "    </tr>\n",
       "  </thead>\n",
       "  <tbody>\n",
       "    <tr>\n",
       "      <td>0</td>\n",
       "      <td>M</td>\n",
       "      <td>17.99</td>\n",
       "      <td>10.38</td>\n",
       "      <td>122.80</td>\n",
       "      <td>1001.0</td>\n",
       "      <td>0.11840</td>\n",
       "      <td>0.27760</td>\n",
       "      <td>0.3001</td>\n",
       "      <td>0.14710</td>\n",
       "      <td>0.2419</td>\n",
       "      <td>...</td>\n",
       "      <td>25.38</td>\n",
       "      <td>17.33</td>\n",
       "      <td>184.60</td>\n",
       "      <td>2019.0</td>\n",
       "      <td>0.1622</td>\n",
       "      <td>0.6656</td>\n",
       "      <td>0.7119</td>\n",
       "      <td>0.2654</td>\n",
       "      <td>0.4601</td>\n",
       "      <td>0.11890</td>\n",
       "    </tr>\n",
       "    <tr>\n",
       "      <td>1</td>\n",
       "      <td>M</td>\n",
       "      <td>20.57</td>\n",
       "      <td>17.77</td>\n",
       "      <td>132.90</td>\n",
       "      <td>1326.0</td>\n",
       "      <td>0.08474</td>\n",
       "      <td>0.07864</td>\n",
       "      <td>0.0869</td>\n",
       "      <td>0.07017</td>\n",
       "      <td>0.1812</td>\n",
       "      <td>...</td>\n",
       "      <td>24.99</td>\n",
       "      <td>23.41</td>\n",
       "      <td>158.80</td>\n",
       "      <td>1956.0</td>\n",
       "      <td>0.1238</td>\n",
       "      <td>0.1866</td>\n",
       "      <td>0.2416</td>\n",
       "      <td>0.1860</td>\n",
       "      <td>0.2750</td>\n",
       "      <td>0.08902</td>\n",
       "    </tr>\n",
       "    <tr>\n",
       "      <td>2</td>\n",
       "      <td>M</td>\n",
       "      <td>19.69</td>\n",
       "      <td>21.25</td>\n",
       "      <td>130.00</td>\n",
       "      <td>1203.0</td>\n",
       "      <td>0.10960</td>\n",
       "      <td>0.15990</td>\n",
       "      <td>0.1974</td>\n",
       "      <td>0.12790</td>\n",
       "      <td>0.2069</td>\n",
       "      <td>...</td>\n",
       "      <td>23.57</td>\n",
       "      <td>25.53</td>\n",
       "      <td>152.50</td>\n",
       "      <td>1709.0</td>\n",
       "      <td>0.1444</td>\n",
       "      <td>0.4245</td>\n",
       "      <td>0.4504</td>\n",
       "      <td>0.2430</td>\n",
       "      <td>0.3613</td>\n",
       "      <td>0.08758</td>\n",
       "    </tr>\n",
       "    <tr>\n",
       "      <td>3</td>\n",
       "      <td>M</td>\n",
       "      <td>11.42</td>\n",
       "      <td>20.38</td>\n",
       "      <td>77.58</td>\n",
       "      <td>386.1</td>\n",
       "      <td>0.14250</td>\n",
       "      <td>0.28390</td>\n",
       "      <td>0.2414</td>\n",
       "      <td>0.10520</td>\n",
       "      <td>0.2597</td>\n",
       "      <td>...</td>\n",
       "      <td>14.91</td>\n",
       "      <td>26.50</td>\n",
       "      <td>98.87</td>\n",
       "      <td>567.7</td>\n",
       "      <td>0.2098</td>\n",
       "      <td>0.8663</td>\n",
       "      <td>0.6869</td>\n",
       "      <td>0.2575</td>\n",
       "      <td>0.6638</td>\n",
       "      <td>0.17300</td>\n",
       "    </tr>\n",
       "    <tr>\n",
       "      <td>4</td>\n",
       "      <td>M</td>\n",
       "      <td>20.29</td>\n",
       "      <td>14.34</td>\n",
       "      <td>135.10</td>\n",
       "      <td>1297.0</td>\n",
       "      <td>0.10030</td>\n",
       "      <td>0.13280</td>\n",
       "      <td>0.1980</td>\n",
       "      <td>0.10430</td>\n",
       "      <td>0.1809</td>\n",
       "      <td>...</td>\n",
       "      <td>22.54</td>\n",
       "      <td>16.67</td>\n",
       "      <td>152.20</td>\n",
       "      <td>1575.0</td>\n",
       "      <td>0.1374</td>\n",
       "      <td>0.2050</td>\n",
       "      <td>0.4000</td>\n",
       "      <td>0.1625</td>\n",
       "      <td>0.2364</td>\n",
       "      <td>0.07678</td>\n",
       "    </tr>\n",
       "  </tbody>\n",
       "</table>\n",
       "<p>5 rows × 31 columns</p>\n",
       "</div>"
      ],
      "text/plain": [
       "  diagnosis  radius_mean  texture_mean  perimeter_mean  area_mean  \\\n",
       "0         M        17.99         10.38          122.80     1001.0   \n",
       "1         M        20.57         17.77          132.90     1326.0   \n",
       "2         M        19.69         21.25          130.00     1203.0   \n",
       "3         M        11.42         20.38           77.58      386.1   \n",
       "4         M        20.29         14.34          135.10     1297.0   \n",
       "\n",
       "   smoothness_mean  compactness_mean  concavity_mean  concave points_mean  \\\n",
       "0          0.11840           0.27760          0.3001              0.14710   \n",
       "1          0.08474           0.07864          0.0869              0.07017   \n",
       "2          0.10960           0.15990          0.1974              0.12790   \n",
       "3          0.14250           0.28390          0.2414              0.10520   \n",
       "4          0.10030           0.13280          0.1980              0.10430   \n",
       "\n",
       "   symmetry_mean  ...  radius_worst  texture_worst  perimeter_worst  \\\n",
       "0         0.2419  ...         25.38          17.33           184.60   \n",
       "1         0.1812  ...         24.99          23.41           158.80   \n",
       "2         0.2069  ...         23.57          25.53           152.50   \n",
       "3         0.2597  ...         14.91          26.50            98.87   \n",
       "4         0.1809  ...         22.54          16.67           152.20   \n",
       "\n",
       "   area_worst  smoothness_worst  compactness_worst  concavity_worst  \\\n",
       "0      2019.0            0.1622             0.6656           0.7119   \n",
       "1      1956.0            0.1238             0.1866           0.2416   \n",
       "2      1709.0            0.1444             0.4245           0.4504   \n",
       "3       567.7            0.2098             0.8663           0.6869   \n",
       "4      1575.0            0.1374             0.2050           0.4000   \n",
       "\n",
       "   concave points_worst  symmetry_worst  fractal_dimension_worst  \n",
       "0                0.2654          0.4601                  0.11890  \n",
       "1                0.1860          0.2750                  0.08902  \n",
       "2                0.2430          0.3613                  0.08758  \n",
       "3                0.2575          0.6638                  0.17300  \n",
       "4                0.1625          0.2364                  0.07678  \n",
       "\n",
       "[5 rows x 31 columns]"
      ]
     },
     "execution_count": 3,
     "metadata": {},
     "output_type": "execute_result"
    }
   ],
   "source": [
    "list = ['Unnamed: 32', 'id']\n",
    "data = data.drop(list, axis=1)\n",
    "data.head()"
   ]
  },
  {
   "cell_type": "code",
   "execution_count": 4,
   "metadata": {},
   "outputs": [
    {
     "data": {
      "text/html": [
       "<div>\n",
       "<style scoped>\n",
       "    .dataframe tbody tr th:only-of-type {\n",
       "        vertical-align: middle;\n",
       "    }\n",
       "\n",
       "    .dataframe tbody tr th {\n",
       "        vertical-align: top;\n",
       "    }\n",
       "\n",
       "    .dataframe thead th {\n",
       "        text-align: right;\n",
       "    }\n",
       "</style>\n",
       "<table border=\"1\" class=\"dataframe\">\n",
       "  <thead>\n",
       "    <tr style=\"text-align: right;\">\n",
       "      <th></th>\n",
       "      <th>diagnosis</th>\n",
       "      <th>radius_mean</th>\n",
       "      <th>texture_mean</th>\n",
       "      <th>perimeter_mean</th>\n",
       "      <th>area_mean</th>\n",
       "      <th>smoothness_mean</th>\n",
       "      <th>compactness_mean</th>\n",
       "      <th>concavity_mean</th>\n",
       "      <th>concave points_mean</th>\n",
       "      <th>symmetry_mean</th>\n",
       "      <th>...</th>\n",
       "      <th>radius_worst</th>\n",
       "      <th>texture_worst</th>\n",
       "      <th>perimeter_worst</th>\n",
       "      <th>area_worst</th>\n",
       "      <th>smoothness_worst</th>\n",
       "      <th>compactness_worst</th>\n",
       "      <th>concavity_worst</th>\n",
       "      <th>concave points_worst</th>\n",
       "      <th>symmetry_worst</th>\n",
       "      <th>fractal_dimension_worst</th>\n",
       "    </tr>\n",
       "  </thead>\n",
       "  <tbody>\n",
       "    <tr>\n",
       "      <td>0</td>\n",
       "      <td>1</td>\n",
       "      <td>17.99</td>\n",
       "      <td>10.38</td>\n",
       "      <td>122.80</td>\n",
       "      <td>1001.0</td>\n",
       "      <td>0.11840</td>\n",
       "      <td>0.27760</td>\n",
       "      <td>0.3001</td>\n",
       "      <td>0.14710</td>\n",
       "      <td>0.2419</td>\n",
       "      <td>...</td>\n",
       "      <td>25.38</td>\n",
       "      <td>17.33</td>\n",
       "      <td>184.60</td>\n",
       "      <td>2019.0</td>\n",
       "      <td>0.1622</td>\n",
       "      <td>0.6656</td>\n",
       "      <td>0.7119</td>\n",
       "      <td>0.2654</td>\n",
       "      <td>0.4601</td>\n",
       "      <td>0.11890</td>\n",
       "    </tr>\n",
       "    <tr>\n",
       "      <td>1</td>\n",
       "      <td>1</td>\n",
       "      <td>20.57</td>\n",
       "      <td>17.77</td>\n",
       "      <td>132.90</td>\n",
       "      <td>1326.0</td>\n",
       "      <td>0.08474</td>\n",
       "      <td>0.07864</td>\n",
       "      <td>0.0869</td>\n",
       "      <td>0.07017</td>\n",
       "      <td>0.1812</td>\n",
       "      <td>...</td>\n",
       "      <td>24.99</td>\n",
       "      <td>23.41</td>\n",
       "      <td>158.80</td>\n",
       "      <td>1956.0</td>\n",
       "      <td>0.1238</td>\n",
       "      <td>0.1866</td>\n",
       "      <td>0.2416</td>\n",
       "      <td>0.1860</td>\n",
       "      <td>0.2750</td>\n",
       "      <td>0.08902</td>\n",
       "    </tr>\n",
       "    <tr>\n",
       "      <td>2</td>\n",
       "      <td>1</td>\n",
       "      <td>19.69</td>\n",
       "      <td>21.25</td>\n",
       "      <td>130.00</td>\n",
       "      <td>1203.0</td>\n",
       "      <td>0.10960</td>\n",
       "      <td>0.15990</td>\n",
       "      <td>0.1974</td>\n",
       "      <td>0.12790</td>\n",
       "      <td>0.2069</td>\n",
       "      <td>...</td>\n",
       "      <td>23.57</td>\n",
       "      <td>25.53</td>\n",
       "      <td>152.50</td>\n",
       "      <td>1709.0</td>\n",
       "      <td>0.1444</td>\n",
       "      <td>0.4245</td>\n",
       "      <td>0.4504</td>\n",
       "      <td>0.2430</td>\n",
       "      <td>0.3613</td>\n",
       "      <td>0.08758</td>\n",
       "    </tr>\n",
       "    <tr>\n",
       "      <td>3</td>\n",
       "      <td>1</td>\n",
       "      <td>11.42</td>\n",
       "      <td>20.38</td>\n",
       "      <td>77.58</td>\n",
       "      <td>386.1</td>\n",
       "      <td>0.14250</td>\n",
       "      <td>0.28390</td>\n",
       "      <td>0.2414</td>\n",
       "      <td>0.10520</td>\n",
       "      <td>0.2597</td>\n",
       "      <td>...</td>\n",
       "      <td>14.91</td>\n",
       "      <td>26.50</td>\n",
       "      <td>98.87</td>\n",
       "      <td>567.7</td>\n",
       "      <td>0.2098</td>\n",
       "      <td>0.8663</td>\n",
       "      <td>0.6869</td>\n",
       "      <td>0.2575</td>\n",
       "      <td>0.6638</td>\n",
       "      <td>0.17300</td>\n",
       "    </tr>\n",
       "    <tr>\n",
       "      <td>4</td>\n",
       "      <td>1</td>\n",
       "      <td>20.29</td>\n",
       "      <td>14.34</td>\n",
       "      <td>135.10</td>\n",
       "      <td>1297.0</td>\n",
       "      <td>0.10030</td>\n",
       "      <td>0.13280</td>\n",
       "      <td>0.1980</td>\n",
       "      <td>0.10430</td>\n",
       "      <td>0.1809</td>\n",
       "      <td>...</td>\n",
       "      <td>22.54</td>\n",
       "      <td>16.67</td>\n",
       "      <td>152.20</td>\n",
       "      <td>1575.0</td>\n",
       "      <td>0.1374</td>\n",
       "      <td>0.2050</td>\n",
       "      <td>0.4000</td>\n",
       "      <td>0.1625</td>\n",
       "      <td>0.2364</td>\n",
       "      <td>0.07678</td>\n",
       "    </tr>\n",
       "  </tbody>\n",
       "</table>\n",
       "<p>5 rows × 31 columns</p>\n",
       "</div>"
      ],
      "text/plain": [
       "   diagnosis  radius_mean  texture_mean  perimeter_mean  area_mean  \\\n",
       "0          1        17.99         10.38          122.80     1001.0   \n",
       "1          1        20.57         17.77          132.90     1326.0   \n",
       "2          1        19.69         21.25          130.00     1203.0   \n",
       "3          1        11.42         20.38           77.58      386.1   \n",
       "4          1        20.29         14.34          135.10     1297.0   \n",
       "\n",
       "   smoothness_mean  compactness_mean  concavity_mean  concave points_mean  \\\n",
       "0          0.11840           0.27760          0.3001              0.14710   \n",
       "1          0.08474           0.07864          0.0869              0.07017   \n",
       "2          0.10960           0.15990          0.1974              0.12790   \n",
       "3          0.14250           0.28390          0.2414              0.10520   \n",
       "4          0.10030           0.13280          0.1980              0.10430   \n",
       "\n",
       "   symmetry_mean  ...  radius_worst  texture_worst  perimeter_worst  \\\n",
       "0         0.2419  ...         25.38          17.33           184.60   \n",
       "1         0.1812  ...         24.99          23.41           158.80   \n",
       "2         0.2069  ...         23.57          25.53           152.50   \n",
       "3         0.2597  ...         14.91          26.50            98.87   \n",
       "4         0.1809  ...         22.54          16.67           152.20   \n",
       "\n",
       "   area_worst  smoothness_worst  compactness_worst  concavity_worst  \\\n",
       "0      2019.0            0.1622             0.6656           0.7119   \n",
       "1      1956.0            0.1238             0.1866           0.2416   \n",
       "2      1709.0            0.1444             0.4245           0.4504   \n",
       "3       567.7            0.2098             0.8663           0.6869   \n",
       "4      1575.0            0.1374             0.2050           0.4000   \n",
       "\n",
       "   concave points_worst  symmetry_worst  fractal_dimension_worst  \n",
       "0                0.2654          0.4601                  0.11890  \n",
       "1                0.1860          0.2750                  0.08902  \n",
       "2                0.2430          0.3613                  0.08758  \n",
       "3                0.2575          0.6638                  0.17300  \n",
       "4                0.1625          0.2364                  0.07678  \n",
       "\n",
       "[5 rows x 31 columns]"
      ]
     },
     "execution_count": 4,
     "metadata": {},
     "output_type": "execute_result"
    }
   ],
   "source": [
    "dict = {\n",
    "    'diagnosis':{\n",
    "        'B':0,\n",
    "        'M':1\n",
    "    }\n",
    "}   \n",
    "data=data.replace(dict)\n",
    "data.head()"
   ]
  },
  {
   "cell_type": "code",
   "execution_count": 5,
   "metadata": {},
   "outputs": [
    {
     "name": "stdout",
     "output_type": "stream",
     "text": [
      "Requirement already satisfied: xgboost in c:\\programdata\\anaconda3\\lib\\site-packages (1.2.0)\n",
      "Requirement already satisfied: scipy in c:\\programdata\\anaconda3\\lib\\site-packages (from xgboost) (1.3.1)\n",
      "Requirement already satisfied: numpy in c:\\programdata\\anaconda3\\lib\\site-packages (from xgboost) (1.16.5)\n",
      "Note: you may need to restart the kernel to use updated packages.\n"
     ]
    }
   ],
   "source": [
    "pip install xgboost"
   ]
  },
  {
   "cell_type": "code",
   "execution_count": 6,
   "metadata": {},
   "outputs": [
    {
     "name": "stderr",
     "output_type": "stream",
     "text": [
      "C:\\ProgramData\\Anaconda3\\lib\\site-packages\\sklearn\\svm\\base.py:193: FutureWarning: The default value of gamma will change from 'auto' to 'scale' in version 0.22 to account better for unscaled features. Set gamma explicitly to 'auto' or 'scale' to avoid this warning.\n",
      "  \"avoid this warning.\", FutureWarning)\n",
      "C:\\ProgramData\\Anaconda3\\lib\\site-packages\\sklearn\\ensemble\\forest.py:245: FutureWarning: The default value of n_estimators will change from 10 in version 0.20 to 100 in 0.22.\n",
      "  \"10 in version 0.20 to 100 in 0.22.\", FutureWarning)\n"
     ]
    },
    {
     "name": "stdout",
     "output_type": "stream",
     "text": [
      "SVM Score: 0.631578947368421\n",
      "RFC Score: 0.9263157894736842\n",
      "XGB Score: 0.9614035087719298\n"
     ]
    }
   ],
   "source": [
    "from sklearn.model_selection import train_test_split\n",
    "X = data.drop(['diagnosis'], axis=1)\n",
    "y = data.diagnosis\n",
    "x_train, x_test, y_train, y_test = train_test_split(X,y,test_size=0.5)\n",
    "\n",
    "from sklearn.svm import SVC, LinearSVC\n",
    "from sklearn.ensemble import RandomForestClassifier\n",
    "from xgboost import XGBClassifier\n",
    "\n",
    "SVM = SVC()\n",
    "RFC = RandomForestClassifier()\n",
    "XGB = XGBClassifier()\n",
    "\n",
    "SVM.fit(x_train, y_train)\n",
    "print('SVM Score:', SVM.score(x_test,y_test))\n",
    "RFC.fit(x_train, y_train)\n",
    "print('RFC Score:', RFC.score(x_test,y_test))\n",
    "XGB.fit(x_train, y_train)\n",
    "print('XGB Score:', XGB.score(x_test,y_test))"
   ]
  },
  {
   "cell_type": "code",
   "execution_count": 7,
   "metadata": {},
   "outputs": [
    {
     "name": "stdout",
     "output_type": "stream",
     "text": [
      "SVM Score: 0.6578947368421053\n",
      "RFC Score: 0.9517543859649122\n",
      "XGB Score: 0.9824561403508771\n"
     ]
    },
    {
     "name": "stderr",
     "output_type": "stream",
     "text": [
      "C:\\ProgramData\\Anaconda3\\lib\\site-packages\\sklearn\\svm\\base.py:193: FutureWarning: The default value of gamma will change from 'auto' to 'scale' in version 0.22 to account better for unscaled features. Set gamma explicitly to 'auto' or 'scale' to avoid this warning.\n",
      "  \"avoid this warning.\", FutureWarning)\n",
      "C:\\ProgramData\\Anaconda3\\lib\\site-packages\\sklearn\\ensemble\\forest.py:245: FutureWarning: The default value of n_estimators will change from 10 in version 0.20 to 100 in 0.22.\n",
      "  \"10 in version 0.20 to 100 in 0.22.\", FutureWarning)\n"
     ]
    }
   ],
   "source": [
    "from sklearn.model_selection import train_test_split\n",
    "X = data.drop(['diagnosis'], axis=1)\n",
    "y = data.diagnosis\n",
    "x_train, x_test, y_train, y_test = train_test_split(X,y,test_size=0.4)\n",
    "\n",
    "from sklearn.svm import SVC, LinearSVC\n",
    "from sklearn.ensemble import RandomForestClassifier\n",
    "from xgboost import XGBClassifier\n",
    "\n",
    "SVM = SVC()\n",
    "RFC = RandomForestClassifier()\n",
    "XGB = XGBClassifier()\n",
    "\n",
    "SVM.fit(x_train, y_train)\n",
    "print('SVM Score:', SVM.score(x_test,y_test))\n",
    "RFC.fit(x_train, y_train)\n",
    "print('RFC Score:', RFC.score(x_test,y_test))\n",
    "XGB.fit(x_train, y_train)\n",
    "print('XGB Score:', XGB.score(x_test,y_test))"
   ]
  },
  {
   "cell_type": "code",
   "execution_count": 8,
   "metadata": {},
   "outputs": [
    {
     "name": "stderr",
     "output_type": "stream",
     "text": [
      "C:\\ProgramData\\Anaconda3\\lib\\site-packages\\sklearn\\svm\\base.py:193: FutureWarning: The default value of gamma will change from 'auto' to 'scale' in version 0.22 to account better for unscaled features. Set gamma explicitly to 'auto' or 'scale' to avoid this warning.\n",
      "  \"avoid this warning.\", FutureWarning)\n",
      "C:\\ProgramData\\Anaconda3\\lib\\site-packages\\sklearn\\ensemble\\forest.py:245: FutureWarning: The default value of n_estimators will change from 10 in version 0.20 to 100 in 0.22.\n",
      "  \"10 in version 0.20 to 100 in 0.22.\", FutureWarning)\n"
     ]
    },
    {
     "name": "stdout",
     "output_type": "stream",
     "text": [
      "SVM Score: 0.5555555555555556\n",
      "RFC Score: 0.9532163742690059\n",
      "XGB Score: 0.9707602339181286\n"
     ]
    }
   ],
   "source": [
    "from sklearn.model_selection import train_test_split\n",
    "X = data.drop(['diagnosis'], axis=1)\n",
    "y = data.diagnosis\n",
    "x_train, x_test, y_train, y_test = train_test_split(X,y,test_size=0.3)\n",
    "\n",
    "from sklearn.svm import SVC, LinearSVC\n",
    "from sklearn.ensemble import RandomForestClassifier\n",
    "from xgboost import XGBClassifier\n",
    "\n",
    "SVM = SVC()\n",
    "RFC = RandomForestClassifier()\n",
    "XGB = XGBClassifier()\n",
    "\n",
    "SVM.fit(x_train, y_train)\n",
    "print('SVM Score:', SVM.score(x_test,y_test))\n",
    "RFC.fit(x_train, y_train)\n",
    "print('RFC Score:', RFC.score(x_test,y_test))\n",
    "XGB.fit(x_train, y_train)\n",
    "print('XGB Score:', XGB.score(x_test,y_test))"
   ]
  },
  {
   "cell_type": "code",
   "execution_count": 9,
   "metadata": {},
   "outputs": [
    {
     "data": {
      "text/plain": [
       "array(['smoothness_mean', 'texture_se', 'concavity_se',\n",
       "       'concave points_se', 'fractal_dimension_se', 'concavity_worst',\n",
       "       'radius_mean', 'texture_mean', 'perimeter_mean', 'area_mean',\n",
       "       'compactness_mean', 'concavity_mean', 'concave points_mean',\n",
       "       'symmetry_mean', 'fractal_dimension_mean', 'radius_se',\n",
       "       'perimeter_se', 'area_se', 'smoothness_se', 'compactness_se'],\n",
       "      dtype=object)"
      ]
     },
     "execution_count": 9,
     "metadata": {},
     "output_type": "execute_result"
    }
   ],
   "source": [
    "#Chi-Square Test\n",
    "\n",
    "import scipy.stats as stats\n",
    "from scipy.stats import chi2\n",
    "\n",
    "def chi_sqr(test_column,output_column):\n",
    "    observed_value = pd.crosstab(test_column,output_column)\n",
    "    val = stats.chi2_contingency(observed_value)\n",
    "    expected_value=val[3]\n",
    "    no_of_rows=len(observed_value.iloc[0:2,0])\n",
    "    no_of_columns=len(observed_value.iloc[0,0:2])\n",
    "    dgof=(no_of_rows-1)*(no_of_columns-1)\n",
    "    alpha=0.05\n",
    "    for o,e in zip(observed_value.values,expected_value):\n",
    "        chi_2 = sum([(o-e)**2./e])       \n",
    "    chi2_stat = np.sum(chi_2)\n",
    "    return chi2_stat\n",
    "    \n",
    "df1 = data.drop(['diagnosis'], axis=1)\n",
    "top_n1 =[]\n",
    "for i in df1.columns.values:\n",
    "    top_n1.append(chi_sqr(df1[i],data['diagnosis']))\n",
    "    \n",
    "col_name1 = np.array(X.columns)\n",
    "a1 = pd.DataFrame(top_n1)\n",
    "b1 = pd.DataFrame(col_name1)\n",
    "info1 = pd.concat([a1,b1], axis=1)\n",
    "info1.columns = ['Score','Features']\n",
    "\n",
    "top1 = info1.nsmallest(20,'Score')\n",
    "ft1 = np.array(top1['Features'])\n",
    "top1\n",
    "ft1"
   ]
  },
  {
   "cell_type": "code",
   "execution_count": 10,
   "metadata": {},
   "outputs": [
    {
     "data": {
      "text/plain": [
       "array(['concave points_worst', 'concave points_mean', 'radius_worst',\n",
       "       'perimeter_worst', 'perimeter_mean', 'radius_mean',\n",
       "       'concavity_mean', 'area_worst', 'concavity_worst', 'area_mean',\n",
       "       'compactness_mean', 'compactness_worst', 'texture_worst',\n",
       "       'texture_mean', 'radius_se', 'smoothness_worst', 'perimeter_se',\n",
       "       'area_se', 'concave points_se', 'symmetry_worst'], dtype=object)"
      ]
     },
     "execution_count": 10,
     "metadata": {},
     "output_type": "execute_result"
    }
   ],
   "source": [
    "#ReliefF\n",
    "\n",
    "from sklearn.pipeline import make_pipeline\n",
    "from skrebate import ReliefF\n",
    "\n",
    "features, classes = data.drop('diagnosis', axis=1).values, data['diagnosis'].values\n",
    "X_train, X_test, y_train, y_test = train_test_split(features, classes)\n",
    "\n",
    "arr = X_train.astype('float64')\n",
    "fs = ReliefF()\n",
    "fs.fit(arr, y_train)\n",
    "\n",
    "top_n2=[]\n",
    "names=[]\n",
    "for feature_name, feature_score in zip(data.drop('diagnosis', axis=1).columns, fs.feature_importances_):\n",
    "    top_n2.append(feature_score)\n",
    "    names.append(feature_name)\n",
    "    \n",
    "col_name3 = np.array(data.columns)\n",
    "a3 = pd.DataFrame(top_n2)\n",
    "b3 = pd.DataFrame(col_name3)\n",
    "b4 =pd.DataFrame(names)\n",
    "\n",
    "info3 = pd.concat([a3,b3], axis=1)\n",
    "info3.columns = ['Score','Features'] \n",
    "\n",
    "inf3 = pd.concat([a3,b4], axis=1)\n",
    "inf3.columns = ['Score','Features']\n",
    "\n",
    "top3 = inf3.nlargest(20,'Score')\n",
    "ft3 = np.array(top3['Features'])\n",
    "ft3"
   ]
  },
  {
   "cell_type": "code",
   "execution_count": 11,
   "metadata": {},
   "outputs": [
    {
     "data": {
      "text/plain": [
       "array(['concave points_mean', 'concavity_mean', 'smoothness_se',\n",
       "       'area_worst', 'radius_se', 'perimeter_se', 'concavity_worst',\n",
       "       'area_mean', 'concavity_se', 'perimeter_mean', 'area_se',\n",
       "       'compactness_se', 'compactness_worst', 'fractal_dimension_se',\n",
       "       'concave points_worst', 'compactness_mean', 'radius_worst',\n",
       "       'perimeter_worst', 'fractal_dimension_worst', 'texture_se'],\n",
       "      dtype=object)"
      ]
     },
     "execution_count": 11,
     "metadata": {},
     "output_type": "execute_result"
    }
   ],
   "source": [
    "#Information Gain/Mutual Information\n",
    "\n",
    "from sklearn.feature_selection import mutual_info_classif\n",
    "\n",
    "res = mutual_info_classif(X,y,discrete_features=True)\n",
    "\n",
    "col_name2 = np.array(X.columns)\n",
    "\n",
    "a2 = pd.DataFrame(res)\n",
    "b2 = pd.DataFrame(col_name2)\n",
    "info2 = pd.concat([a2,b2], axis=1)\n",
    "info2.columns = ['Info_Gain','Features']\n",
    "\n",
    "top2 = info2.nlargest(20,'Info_Gain')\n",
    "ft2 = np.array(top2['Features'])\n",
    "ft2"
   ]
  },
  {
   "cell_type": "code",
   "execution_count": 12,
   "metadata": {},
   "outputs": [],
   "source": [
    "from functools import reduce\n",
    "def top_fs_int(n):\n",
    "    f1 = ft1[:n]\n",
    "    f2 = ft2[:n]\n",
    "    f3 = ft3[:n]\n",
    "    return(reduce(np.intersect1d, (f1,f2,f3)))"
   ]
  },
  {
   "cell_type": "code",
   "execution_count": 13,
   "metadata": {},
   "outputs": [
    {
     "data": {
      "text/plain": [
       "array([], dtype=object)"
      ]
     },
     "execution_count": 13,
     "metadata": {},
     "output_type": "execute_result"
    }
   ],
   "source": [
    "top_fs_int(5)"
   ]
  },
  {
   "cell_type": "code",
   "execution_count": 14,
   "metadata": {},
   "outputs": [
    {
     "data": {
      "text/plain": [
       "array([], dtype=object)"
      ]
     },
     "execution_count": 14,
     "metadata": {},
     "output_type": "execute_result"
    }
   ],
   "source": [
    "top_fs_int(8)"
   ]
  },
  {
   "cell_type": "code",
   "execution_count": 15,
   "metadata": {},
   "outputs": [
    {
     "data": {
      "text/plain": [
       "array(['area_mean', 'concavity_worst', 'perimeter_mean'], dtype=object)"
      ]
     },
     "execution_count": 15,
     "metadata": {},
     "output_type": "execute_result"
    }
   ],
   "source": [
    "top_fs_int(10)"
   ]
  },
  {
   "cell_type": "code",
   "execution_count": 16,
   "metadata": {},
   "outputs": [
    {
     "data": {
      "text/plain": [
       "array(['area_mean', 'concave points_mean', 'concavity_mean',\n",
       "       'concavity_worst', 'perimeter_mean'], dtype=object)"
      ]
     },
     "execution_count": 16,
     "metadata": {},
     "output_type": "execute_result"
    }
   ],
   "source": [
    "top_fs_int(15)"
   ]
  },
  {
   "cell_type": "code",
   "execution_count": 17,
   "metadata": {},
   "outputs": [
    {
     "data": {
      "text/plain": [
       "array(['area_mean', 'area_se', 'compactness_mean', 'concave points_mean',\n",
       "       'concavity_mean', 'concavity_worst', 'perimeter_mean',\n",
       "       'perimeter_se', 'radius_se'], dtype=object)"
      ]
     },
     "execution_count": 17,
     "metadata": {},
     "output_type": "execute_result"
    }
   ],
   "source": [
    "top_fs_int(20)"
   ]
  },
  {
   "cell_type": "code",
   "execution_count": 18,
   "metadata": {},
   "outputs": [],
   "source": [
    "def top_fs_union(n):\n",
    "    f1 = ft1[:n]\n",
    "    f2 = ft2[:n]\n",
    "    f3 = ft3[:n]\n",
    "    return(reduce(np.union1d, (f1,f2,f3)))"
   ]
  },
  {
   "cell_type": "code",
   "execution_count": 24,
   "metadata": {},
   "outputs": [
    {
     "data": {
      "text/plain": [
       "array(['area_worst', 'concave points_mean', 'concave points_se',\n",
       "       'concave points_worst', 'concavity_mean', 'concavity_se',\n",
       "       'fractal_dimension_se', 'perimeter_mean', 'perimeter_worst',\n",
       "       'radius_se', 'radius_worst', 'smoothness_mean', 'smoothness_se',\n",
       "       'texture_se'], dtype=object)"
      ]
     },
     "execution_count": 24,
     "metadata": {},
     "output_type": "execute_result"
    }
   ],
   "source": [
    "top_fs_union(5)"
   ]
  },
  {
   "cell_type": "code",
   "execution_count": 25,
   "metadata": {},
   "outputs": [
    {
     "data": {
      "text/plain": [
       "array(['area_mean', 'area_worst', 'concave points_mean',\n",
       "       'concave points_se', 'concave points_worst', 'concavity_mean',\n",
       "       'concavity_se', 'concavity_worst', 'fractal_dimension_se',\n",
       "       'perimeter_mean', 'perimeter_se', 'perimeter_worst', 'radius_mean',\n",
       "       'radius_se', 'radius_worst', 'smoothness_mean', 'smoothness_se',\n",
       "       'texture_mean', 'texture_se'], dtype=object)"
      ]
     },
     "execution_count": 25,
     "metadata": {},
     "output_type": "execute_result"
    }
   ],
   "source": [
    "top_fs_union(8)"
   ]
  },
  {
   "cell_type": "code",
   "execution_count": 26,
   "metadata": {},
   "outputs": [
    {
     "data": {
      "text/plain": [
       "array(['area_mean', 'area_worst', 'concave points_mean',\n",
       "       'concave points_se', 'concave points_worst', 'concavity_mean',\n",
       "       'concavity_se', 'concavity_worst', 'fractal_dimension_se',\n",
       "       'perimeter_mean', 'perimeter_se', 'perimeter_worst', 'radius_mean',\n",
       "       'radius_se', 'radius_worst', 'smoothness_mean', 'smoothness_se',\n",
       "       'texture_mean', 'texture_se'], dtype=object)"
      ]
     },
     "execution_count": 26,
     "metadata": {},
     "output_type": "execute_result"
    }
   ],
   "source": [
    "top_fs_union(10)"
   ]
  },
  {
   "cell_type": "code",
   "execution_count": 27,
   "metadata": {},
   "outputs": [
    {
     "data": {
      "text/plain": [
       "array(['area_mean', 'area_se', 'area_worst', 'compactness_mean',\n",
       "       'compactness_se', 'compactness_worst', 'concave points_mean',\n",
       "       'concave points_se', 'concave points_worst', 'concavity_mean',\n",
       "       'concavity_se', 'concavity_worst', 'fractal_dimension_mean',\n",
       "       'fractal_dimension_se', 'perimeter_mean', 'perimeter_se',\n",
       "       'perimeter_worst', 'radius_mean', 'radius_se', 'radius_worst',\n",
       "       'smoothness_mean', 'smoothness_se', 'symmetry_mean',\n",
       "       'texture_mean', 'texture_se', 'texture_worst'], dtype=object)"
      ]
     },
     "execution_count": 27,
     "metadata": {},
     "output_type": "execute_result"
    }
   ],
   "source": [
    "top_fs_union(15)"
   ]
  },
  {
   "cell_type": "code",
   "execution_count": 28,
   "metadata": {},
   "outputs": [
    {
     "data": {
      "text/plain": [
       "array(['area_mean', 'area_se', 'area_worst', 'compactness_mean',\n",
       "       'compactness_se', 'compactness_worst', 'concave points_mean',\n",
       "       'concave points_se', 'concave points_worst', 'concavity_mean',\n",
       "       'concavity_se', 'concavity_worst', 'fractal_dimension_mean',\n",
       "       'fractal_dimension_se', 'fractal_dimension_worst',\n",
       "       'perimeter_mean', 'perimeter_se', 'perimeter_worst', 'radius_mean',\n",
       "       'radius_se', 'radius_worst', 'smoothness_mean', 'smoothness_se',\n",
       "       'smoothness_worst', 'symmetry_mean', 'symmetry_worst',\n",
       "       'texture_mean', 'texture_se', 'texture_worst'], dtype=object)"
      ]
     },
     "execution_count": 28,
     "metadata": {},
     "output_type": "execute_result"
    }
   ],
   "source": [
    "top_fs_union(20)"
   ]
  },
  {
   "cell_type": "code",
   "execution_count": 29,
   "metadata": {},
   "outputs": [],
   "source": [
    "def assemble_run(n,classifier,test_size):\n",
    "  top_fs=top_fs_union(n)\n",
    "  top_fs=np.append(top_fs,['diagnosis'], axis=0)\n",
    "  dfs = data.loc[:,top_fs]\n",
    "  X = dfs.drop(['diagnosis'], axis=1)\n",
    "  y = dfs['diagnosis']\n",
    "  from sklearn.model_selection import train_test_split\n",
    "  x_train, x_test, y_train, y_test = train_test_split(X,y,test_size=test_size)\n",
    "  model = classifier()\n",
    "  model.fit(x_train, y_train)\n",
    "  print (model.score(x_test,y_test))"
   ]
  },
  {
   "cell_type": "code",
   "execution_count": 30,
   "metadata": {},
   "outputs": [
    {
     "name": "stderr",
     "output_type": "stream",
     "text": [
      "C:\\ProgramData\\Anaconda3\\lib\\site-packages\\sklearn\\svm\\base.py:193: FutureWarning: The default value of gamma will change from 'auto' to 'scale' in version 0.22 to account better for unscaled features. Set gamma explicitly to 'auto' or 'scale' to avoid this warning.\n",
      "  \"avoid this warning.\", FutureWarning)\n",
      "C:\\ProgramData\\Anaconda3\\lib\\site-packages\\sklearn\\svm\\base.py:193: FutureWarning: The default value of gamma will change from 'auto' to 'scale' in version 0.22 to account better for unscaled features. Set gamma explicitly to 'auto' or 'scale' to avoid this warning.\n",
      "  \"avoid this warning.\", FutureWarning)\n",
      "C:\\ProgramData\\Anaconda3\\lib\\site-packages\\sklearn\\svm\\base.py:193: FutureWarning: The default value of gamma will change from 'auto' to 'scale' in version 0.22 to account better for unscaled features. Set gamma explicitly to 'auto' or 'scale' to avoid this warning.\n",
      "  \"avoid this warning.\", FutureWarning)\n",
      "C:\\ProgramData\\Anaconda3\\lib\\site-packages\\sklearn\\svm\\base.py:193: FutureWarning: The default value of gamma will change from 'auto' to 'scale' in version 0.22 to account better for unscaled features. Set gamma explicitly to 'auto' or 'scale' to avoid this warning.\n",
      "  \"avoid this warning.\", FutureWarning)\n",
      "C:\\ProgramData\\Anaconda3\\lib\\site-packages\\sklearn\\svm\\base.py:193: FutureWarning: The default value of gamma will change from 'auto' to 'scale' in version 0.22 to account better for unscaled features. Set gamma explicitly to 'auto' or 'scale' to avoid this warning.\n",
      "  \"avoid this warning.\", FutureWarning)\n",
      "C:\\ProgramData\\Anaconda3\\lib\\site-packages\\sklearn\\svm\\base.py:193: FutureWarning: The default value of gamma will change from 'auto' to 'scale' in version 0.22 to account better for unscaled features. Set gamma explicitly to 'auto' or 'scale' to avoid this warning.\n",
      "  \"avoid this warning.\", FutureWarning)\n",
      "C:\\ProgramData\\Anaconda3\\lib\\site-packages\\sklearn\\svm\\base.py:193: FutureWarning: The default value of gamma will change from 'auto' to 'scale' in version 0.22 to account better for unscaled features. Set gamma explicitly to 'auto' or 'scale' to avoid this warning.\n",
      "  \"avoid this warning.\", FutureWarning)\n",
      "C:\\ProgramData\\Anaconda3\\lib\\site-packages\\sklearn\\svm\\base.py:193: FutureWarning: The default value of gamma will change from 'auto' to 'scale' in version 0.22 to account better for unscaled features. Set gamma explicitly to 'auto' or 'scale' to avoid this warning.\n",
      "  \"avoid this warning.\", FutureWarning)\n",
      "C:\\ProgramData\\Anaconda3\\lib\\site-packages\\sklearn\\svm\\base.py:193: FutureWarning: The default value of gamma will change from 'auto' to 'scale' in version 0.22 to account better for unscaled features. Set gamma explicitly to 'auto' or 'scale' to avoid this warning.\n",
      "  \"avoid this warning.\", FutureWarning)\n"
     ]
    },
    {
     "name": "stdout",
     "output_type": "stream",
     "text": [
      "0.6385964912280702\n",
      "0.6105263157894737\n",
      "0.6526315789473685\n",
      "0.6385964912280702\n",
      "0.6350877192982456\n",
      "0.6535087719298246\n",
      "0.6535087719298246\n",
      "0.6271929824561403\n",
      "0.6271929824561403\n",
      "0.631578947368421\n",
      "0.9122807017543859\n",
      "0.5847953216374269\n",
      "0.6432748538011696\n",
      "0.6198830409356725\n",
      "0.6140350877192983\n"
     ]
    },
    {
     "name": "stderr",
     "output_type": "stream",
     "text": [
      "C:\\ProgramData\\Anaconda3\\lib\\site-packages\\sklearn\\svm\\base.py:193: FutureWarning: The default value of gamma will change from 'auto' to 'scale' in version 0.22 to account better for unscaled features. Set gamma explicitly to 'auto' or 'scale' to avoid this warning.\n",
      "  \"avoid this warning.\", FutureWarning)\n",
      "C:\\ProgramData\\Anaconda3\\lib\\site-packages\\sklearn\\svm\\base.py:193: FutureWarning: The default value of gamma will change from 'auto' to 'scale' in version 0.22 to account better for unscaled features. Set gamma explicitly to 'auto' or 'scale' to avoid this warning.\n",
      "  \"avoid this warning.\", FutureWarning)\n",
      "C:\\ProgramData\\Anaconda3\\lib\\site-packages\\sklearn\\svm\\base.py:193: FutureWarning: The default value of gamma will change from 'auto' to 'scale' in version 0.22 to account better for unscaled features. Set gamma explicitly to 'auto' or 'scale' to avoid this warning.\n",
      "  \"avoid this warning.\", FutureWarning)\n",
      "C:\\ProgramData\\Anaconda3\\lib\\site-packages\\sklearn\\svm\\base.py:193: FutureWarning: The default value of gamma will change from 'auto' to 'scale' in version 0.22 to account better for unscaled features. Set gamma explicitly to 'auto' or 'scale' to avoid this warning.\n",
      "  \"avoid this warning.\", FutureWarning)\n",
      "C:\\ProgramData\\Anaconda3\\lib\\site-packages\\sklearn\\svm\\base.py:193: FutureWarning: The default value of gamma will change from 'auto' to 'scale' in version 0.22 to account better for unscaled features. Set gamma explicitly to 'auto' or 'scale' to avoid this warning.\n",
      "  \"avoid this warning.\", FutureWarning)\n",
      "C:\\ProgramData\\Anaconda3\\lib\\site-packages\\sklearn\\svm\\base.py:193: FutureWarning: The default value of gamma will change from 'auto' to 'scale' in version 0.22 to account better for unscaled features. Set gamma explicitly to 'auto' or 'scale' to avoid this warning.\n",
      "  \"avoid this warning.\", FutureWarning)\n"
     ]
    }
   ],
   "source": [
    "#SUPPORT VECTOR MACHINE\n",
    "\n",
    "#Feature Subset by Union of 5 Best Features from each\n",
    "SVM0 = assemble_run(5,SVC,.5)\n",
    "#Feature Subset by Union of 8 Best Features from each\n",
    "SVM1 = assemble_run(8,SVC,.5)\n",
    "#Feature Subset by Union of 10 Best Features from each\n",
    "SVM2 = assemble_run(10,SVC,.5)\n",
    "#Feature Subset by Union of 15 Best Features from each\n",
    "SVM3 = assemble_run(15,SVC,.5)\n",
    "#Feature Subset by Union of 20 Best Features from each\n",
    "SVM4 = assemble_run(20,SVC,.5)\n",
    "#Feature Subset by Union of 5 Best Features from each\n",
    "SVM5 = assemble_run(5,SVC,.4)\n",
    "#Feature Subset by Union of 8 Best Features from each\n",
    "SVM6 = assemble_run(8,SVC,.4)\n",
    "#Feature Subset by Union of 10 Best Features from each\n",
    "SVM7 = assemble_run(10,SVC,.4)\n",
    "#Feature Subset by Union of 15 Best Features from each\n",
    "SVM8 = assemble_run(15,SVC,.4)\n",
    "#Feature Subset by Union of 20 Best Features from each\n",
    "SVM9 = assemble_run(20,SVC,.4)\n",
    "#Feature Subset by Union of 5 Best Features from each\n",
    "SVM10 = assemble_run(5,SVC,.3)\n",
    "#Feature Subset by Union of 8 Best Features from each\n",
    "SVM11 = assemble_run(8,SVC,.3)\n",
    "#Feature Subset by Union of 10 Best Features from each\n",
    "SVM12 = assemble_run(10,SVC,.3)\n",
    "#Feature Subset by Union of 15 Best Features from each\n",
    "SVM13 = assemble_run(15,SVC,.3)\n",
    "#Feature Subset by Union of 20 Best Features from each\n",
    "SVM14 = assemble_run(20,SVC,.3)"
   ]
  },
  {
   "cell_type": "code",
   "execution_count": 31,
   "metadata": {},
   "outputs": [
    {
     "name": "stderr",
     "output_type": "stream",
     "text": [
      "C:\\ProgramData\\Anaconda3\\lib\\site-packages\\sklearn\\ensemble\\forest.py:245: FutureWarning: The default value of n_estimators will change from 10 in version 0.20 to 100 in 0.22.\n",
      "  \"10 in version 0.20 to 100 in 0.22.\", FutureWarning)\n",
      "C:\\ProgramData\\Anaconda3\\lib\\site-packages\\sklearn\\ensemble\\forest.py:245: FutureWarning: The default value of n_estimators will change from 10 in version 0.20 to 100 in 0.22.\n",
      "  \"10 in version 0.20 to 100 in 0.22.\", FutureWarning)\n",
      "C:\\ProgramData\\Anaconda3\\lib\\site-packages\\sklearn\\ensemble\\forest.py:245: FutureWarning: The default value of n_estimators will change from 10 in version 0.20 to 100 in 0.22.\n",
      "  \"10 in version 0.20 to 100 in 0.22.\", FutureWarning)\n",
      "C:\\ProgramData\\Anaconda3\\lib\\site-packages\\sklearn\\ensemble\\forest.py:245: FutureWarning: The default value of n_estimators will change from 10 in version 0.20 to 100 in 0.22.\n",
      "  \"10 in version 0.20 to 100 in 0.22.\", FutureWarning)\n",
      "C:\\ProgramData\\Anaconda3\\lib\\site-packages\\sklearn\\ensemble\\forest.py:245: FutureWarning: The default value of n_estimators will change from 10 in version 0.20 to 100 in 0.22.\n",
      "  \"10 in version 0.20 to 100 in 0.22.\", FutureWarning)\n",
      "C:\\ProgramData\\Anaconda3\\lib\\site-packages\\sklearn\\ensemble\\forest.py:245: FutureWarning: The default value of n_estimators will change from 10 in version 0.20 to 100 in 0.22.\n",
      "  \"10 in version 0.20 to 100 in 0.22.\", FutureWarning)\n",
      "C:\\ProgramData\\Anaconda3\\lib\\site-packages\\sklearn\\ensemble\\forest.py:245: FutureWarning: The default value of n_estimators will change from 10 in version 0.20 to 100 in 0.22.\n",
      "  \"10 in version 0.20 to 100 in 0.22.\", FutureWarning)\n",
      "C:\\ProgramData\\Anaconda3\\lib\\site-packages\\sklearn\\ensemble\\forest.py:245: FutureWarning: The default value of n_estimators will change from 10 in version 0.20 to 100 in 0.22.\n",
      "  \"10 in version 0.20 to 100 in 0.22.\", FutureWarning)\n",
      "C:\\ProgramData\\Anaconda3\\lib\\site-packages\\sklearn\\ensemble\\forest.py:245: FutureWarning: The default value of n_estimators will change from 10 in version 0.20 to 100 in 0.22.\n",
      "  \"10 in version 0.20 to 100 in 0.22.\", FutureWarning)\n",
      "C:\\ProgramData\\Anaconda3\\lib\\site-packages\\sklearn\\ensemble\\forest.py:245: FutureWarning: The default value of n_estimators will change from 10 in version 0.20 to 100 in 0.22.\n",
      "  \"10 in version 0.20 to 100 in 0.22.\", FutureWarning)\n",
      "C:\\ProgramData\\Anaconda3\\lib\\site-packages\\sklearn\\ensemble\\forest.py:245: FutureWarning: The default value of n_estimators will change from 10 in version 0.20 to 100 in 0.22.\n",
      "  \"10 in version 0.20 to 100 in 0.22.\", FutureWarning)\n",
      "C:\\ProgramData\\Anaconda3\\lib\\site-packages\\sklearn\\ensemble\\forest.py:245: FutureWarning: The default value of n_estimators will change from 10 in version 0.20 to 100 in 0.22.\n",
      "  \"10 in version 0.20 to 100 in 0.22.\", FutureWarning)\n"
     ]
    },
    {
     "name": "stdout",
     "output_type": "stream",
     "text": [
      "0.9263157894736842\n",
      "0.9543859649122807\n",
      "0.9614035087719298\n",
      "0.9649122807017544\n",
      "0.9403508771929825\n",
      "0.9517543859649122\n",
      "0.9385964912280702\n",
      "0.9429824561403509\n",
      "0.9385964912280702\n",
      "0.9473684210526315\n",
      "0.9473684210526315\n",
      "0.9239766081871345\n",
      "0.9707602339181286\n",
      "0.9473684210526315\n",
      "0.9649122807017544\n"
     ]
    },
    {
     "name": "stderr",
     "output_type": "stream",
     "text": [
      "C:\\ProgramData\\Anaconda3\\lib\\site-packages\\sklearn\\ensemble\\forest.py:245: FutureWarning: The default value of n_estimators will change from 10 in version 0.20 to 100 in 0.22.\n",
      "  \"10 in version 0.20 to 100 in 0.22.\", FutureWarning)\n",
      "C:\\ProgramData\\Anaconda3\\lib\\site-packages\\sklearn\\ensemble\\forest.py:245: FutureWarning: The default value of n_estimators will change from 10 in version 0.20 to 100 in 0.22.\n",
      "  \"10 in version 0.20 to 100 in 0.22.\", FutureWarning)\n",
      "C:\\ProgramData\\Anaconda3\\lib\\site-packages\\sklearn\\ensemble\\forest.py:245: FutureWarning: The default value of n_estimators will change from 10 in version 0.20 to 100 in 0.22.\n",
      "  \"10 in version 0.20 to 100 in 0.22.\", FutureWarning)\n"
     ]
    }
   ],
   "source": [
    "#RANDOM FOREST CLASSIFIER\n",
    "\n",
    "#Feature Subset by Union of 5 Best Features from each\n",
    "RFC1 = assemble_run(5,RandomForestClassifier,.5)\n",
    "#Feature Subset by Union of 8 Best Features from each\n",
    "RFC2 = assemble_run(8,RandomForestClassifier,.5)\n",
    "#Feature Subset by Union of 10 Best Features from each\n",
    "RFC3 = assemble_run(10,RandomForestClassifier,.5)\n",
    "#Feature Subset by Union of 15 Best Features from each\n",
    "RFC4 = assemble_run(15,RandomForestClassifier,.5)\n",
    "#Feature Subset by Union of 20 Best Features from each\n",
    "RFC5 = assemble_run(20,RandomForestClassifier,.5)\n",
    "#Feature Subset by Union of 5 Best Features from each\n",
    "RFC6 = assemble_run(5,RandomForestClassifier,.4)\n",
    "#Feature Subset by Union of 8 Best Features from each\n",
    "RFC7 = assemble_run(8,RandomForestClassifier,.4)\n",
    "#Feature Subset by Union of 10 Best Features from each\n",
    "RFC8 = assemble_run(10,RandomForestClassifier,.4)\n",
    "#Feature Subset by Union of 15 Best Features from each\n",
    "RFC9 = assemble_run(15,RandomForestClassifier,.4)\n",
    "#Feature Subset by Union of 20 Best Features from each\n",
    "RFC10 = assemble_run(20,RandomForestClassifier,.4)\n",
    "#Feature Subset by Union of 5 Best Features from each\n",
    "RFC11 = assemble_run(5,RandomForestClassifier,.3)\n",
    "#Feature Subset by Union of 8 Best Features from each\n",
    "RFC12 = assemble_run(8,RandomForestClassifier,.3)\n",
    "#Feature Subset by Union of 10 Best Features from each\n",
    "RFC13 = assemble_run(10,RandomForestClassifier,.3)\n",
    "#Feature Subset by Union of 15 Best Features from each\n",
    "RFC14 = assemble_run(15,RandomForestClassifier,.3)\n",
    "#Feature Subset by Union of 20 Best Features from each\n",
    "RFC15 = assemble_run(20,RandomForestClassifier,.3)"
   ]
  },
  {
   "cell_type": "code",
   "execution_count": 32,
   "metadata": {},
   "outputs": [
    {
     "name": "stdout",
     "output_type": "stream",
     "text": [
      "0.9543859649122807\n",
      "0.9614035087719298\n",
      "0.9438596491228071\n",
      "0.9228070175438596\n",
      "0.9543859649122807\n",
      "0.9473684210526315\n",
      "0.9517543859649122\n",
      "0.9736842105263158\n",
      "0.9649122807017544\n",
      "0.9649122807017544\n",
      "0.9532163742690059\n",
      "1.0\n",
      "0.9649122807017544\n",
      "0.9766081871345029\n",
      "0.9766081871345029\n"
     ]
    }
   ],
   "source": [
    "#XG BOOST CLASSIFIER\n",
    "\n",
    "#Feature Subset by Union of 5 Best Features from each\n",
    "XGB1 = assemble_run(5,XGBClassifier,.5)\n",
    "#Feature Subset by Union of 8 Best Features from each\n",
    "XGB2 = assemble_run(8,XGBClassifier,.5)\n",
    "#Feature Subset by Union of 10 Best Features from each\n",
    "XGB3 = assemble_run(10,XGBClassifier,.5)\n",
    "#Feature Subset by Union of 15 Best Features from each\n",
    "XGB4 = assemble_run(15,XGBClassifier,.5)\n",
    "#Feature Subset by Union of 20 Best Features from each\n",
    "XGB5 = assemble_run(20,XGBClassifier,.5)\n",
    "#Feature Subset by Union of 5 Best Features from each\n",
    "XGB6 = assemble_run(5,XGBClassifier,.4)\n",
    "#Feature Subset by Union of 8 Best Features from each\n",
    "XGB7 = assemble_run(8,XGBClassifier,.4)\n",
    "#Feature Subset by Union of 10 Best Features from each\n",
    "XGB8 = assemble_run(10,XGBClassifier,.4)\n",
    "#Feature Subset by Union of 15 Best Features from each\n",
    "XGB9 = assemble_run(15,XGBClassifier,.4)\n",
    "#Feature Subset by Union of 20 Best Features from each\n",
    "XGB10 = assemble_run(20,XGBClassifier,.4)\n",
    "#Feature Subset by Union of 5 Best Features from each\n",
    "XGB11 = assemble_run(5,XGBClassifier,.3)\n",
    "#Feature Subset by Union of 8 Best Features from each\n",
    "XGB12 = assemble_run(8,XGBClassifier,3)\n",
    "#Feature Subset by Union of 10 Best Features from each\n",
    "XGB13 = assemble_run(10,XGBClassifier,.3)\n",
    "#Feature Subset by Union of 15 Best Features from each\n",
    "XGB14 = assemble_run(15,XGBClassifier,.3)\n",
    "#Feature Subset by Union of 20 Best Features from each\n",
    "XGB15 = assemble_run(20,XGBClassifier,.3)"
   ]
  },
  {
   "cell_type": "code",
   "execution_count": 33,
   "metadata": {},
   "outputs": [],
   "source": [
    "def assemble_run(n,classifier,test_size):\n",
    "  top_fs=top_fs_int(n)\n",
    "  top_fs=np.append(top_fs,['diagnosis'], axis=0)\n",
    "  dfs = data.loc[:,top_fs]\n",
    "  X = dfs.drop(['diagnosis'], axis=1)\n",
    "  y = dfs['diagnosis']\n",
    "  from sklearn.model_selection import train_test_split\n",
    "  x_train, x_test, y_train, y_test = train_test_split(X,y,test_size=test_size)\n",
    "  model = classifier()\n",
    "  model.fit(x_train, y_train)\n",
    "  print (model.score(x_test,y_test))"
   ]
  },
  {
   "cell_type": "code",
   "execution_count": 34,
   "metadata": {},
   "outputs": [
    {
     "name": "stderr",
     "output_type": "stream",
     "text": [
      "C:\\ProgramData\\Anaconda3\\lib\\site-packages\\sklearn\\svm\\base.py:193: FutureWarning: The default value of gamma will change from 'auto' to 'scale' in version 0.22 to account better for unscaled features. Set gamma explicitly to 'auto' or 'scale' to avoid this warning.\n",
      "  \"avoid this warning.\", FutureWarning)\n"
     ]
    },
    {
     "name": "stdout",
     "output_type": "stream",
     "text": [
      "0.6385964912280702\n",
      "0.6701754385964912\n",
      "0.624561403508772\n",
      "0.6008771929824561\n",
      "0.6885964912280702\n",
      "0.6052631578947368\n",
      "0.672514619883041\n",
      "0.6783625730994152\n",
      "0.6023391812865497\n"
     ]
    },
    {
     "name": "stderr",
     "output_type": "stream",
     "text": [
      "C:\\ProgramData\\Anaconda3\\lib\\site-packages\\sklearn\\svm\\base.py:193: FutureWarning: The default value of gamma will change from 'auto' to 'scale' in version 0.22 to account better for unscaled features. Set gamma explicitly to 'auto' or 'scale' to avoid this warning.\n",
      "  \"avoid this warning.\", FutureWarning)\n",
      "C:\\ProgramData\\Anaconda3\\lib\\site-packages\\sklearn\\svm\\base.py:193: FutureWarning: The default value of gamma will change from 'auto' to 'scale' in version 0.22 to account better for unscaled features. Set gamma explicitly to 'auto' or 'scale' to avoid this warning.\n",
      "  \"avoid this warning.\", FutureWarning)\n",
      "C:\\ProgramData\\Anaconda3\\lib\\site-packages\\sklearn\\svm\\base.py:193: FutureWarning: The default value of gamma will change from 'auto' to 'scale' in version 0.22 to account better for unscaled features. Set gamma explicitly to 'auto' or 'scale' to avoid this warning.\n",
      "  \"avoid this warning.\", FutureWarning)\n",
      "C:\\ProgramData\\Anaconda3\\lib\\site-packages\\sklearn\\svm\\base.py:193: FutureWarning: The default value of gamma will change from 'auto' to 'scale' in version 0.22 to account better for unscaled features. Set gamma explicitly to 'auto' or 'scale' to avoid this warning.\n",
      "  \"avoid this warning.\", FutureWarning)\n",
      "C:\\ProgramData\\Anaconda3\\lib\\site-packages\\sklearn\\svm\\base.py:193: FutureWarning: The default value of gamma will change from 'auto' to 'scale' in version 0.22 to account better for unscaled features. Set gamma explicitly to 'auto' or 'scale' to avoid this warning.\n",
      "  \"avoid this warning.\", FutureWarning)\n",
      "C:\\ProgramData\\Anaconda3\\lib\\site-packages\\sklearn\\svm\\base.py:193: FutureWarning: The default value of gamma will change from 'auto' to 'scale' in version 0.22 to account better for unscaled features. Set gamma explicitly to 'auto' or 'scale' to avoid this warning.\n",
      "  \"avoid this warning.\", FutureWarning)\n",
      "C:\\ProgramData\\Anaconda3\\lib\\site-packages\\sklearn\\svm\\base.py:193: FutureWarning: The default value of gamma will change from 'auto' to 'scale' in version 0.22 to account better for unscaled features. Set gamma explicitly to 'auto' or 'scale' to avoid this warning.\n",
      "  \"avoid this warning.\", FutureWarning)\n",
      "C:\\ProgramData\\Anaconda3\\lib\\site-packages\\sklearn\\svm\\base.py:193: FutureWarning: The default value of gamma will change from 'auto' to 'scale' in version 0.22 to account better for unscaled features. Set gamma explicitly to 'auto' or 'scale' to avoid this warning.\n",
      "  \"avoid this warning.\", FutureWarning)\n"
     ]
    }
   ],
   "source": [
    "#SUPPORT VECTOR MACHINE\n",
    "\n",
    "#Feature Subset by Union of 5 Best Features from each\n",
    "#SVM0 = assemble_run(5,SVC,.5)\n",
    "#Feature Subset by Union of 8 Best Features from each\n",
    "#SVM1 = assemble_run(8,SVC,.5)\n",
    "#Feature Subset by Union of 10 Best Features from each\n",
    "SVM2 = assemble_run(10,SVC,.5)\n",
    "#Feature Subset by Union of 15 Best Features from each\n",
    "SVM3 = assemble_run(15,SVC,.5)\n",
    "#Feature Subset by Union of 20 Best Features from each\n",
    "SVM4 = assemble_run(20,SVC,.5)\n",
    "#Feature Subset by Union of 5 Best Features from each\n",
    "#SVM5 = assemble_run(5,SVC,.4)\n",
    "#Feature Subset by Union of 8 Best Features from each\n",
    "#SVM6 = assemble_run(8,SVC,.4)\n",
    "#Feature Subset by Union of 10 Best Features from each\n",
    "SVM7 = assemble_run(10,SVC,.4)\n",
    "#Feature Subset by Union of 15 Best Features from each\n",
    "SVM8 = assemble_run(15,SVC,.4)\n",
    "#Feature Subset by Union of 20 Best Features from each\n",
    "SVM9 = assemble_run(20,SVC,.4)\n",
    "#Feature Subset by Union of 5 Best Features from each\n",
    "#SVM10 = assemble_run(5,SVC,.3)\n",
    "#Feature Subset by Union of 8 Best Features from each\n",
    "#SVM11 = assemble_run(8,SVC,.3)\n",
    "#Feature Subset by Union of 10 Best Features from each\n",
    "SVM12 = assemble_run(10,SVC,.3)\n",
    "#Feature Subset by Union of 15 Best Features from each\n",
    "SVM13 = assemble_run(15,SVC,.3)\n",
    "#Feature Subset by Union of 20 Best Features from each\n",
    "SVM14 = assemble_run(20,SVC,.3)"
   ]
  },
  {
   "cell_type": "code",
   "execution_count": 35,
   "metadata": {},
   "outputs": [
    {
     "name": "stdout",
     "output_type": "stream",
     "text": [
      "0.9052631578947369\n",
      "0.9298245614035088\n",
      "0.9298245614035088\n",
      "0.9122807017543859\n",
      "0.9298245614035088\n",
      "0.9342105263157895\n",
      "0.9064327485380117\n",
      "0.9064327485380117\n",
      "0.9473684210526315\n"
     ]
    },
    {
     "name": "stderr",
     "output_type": "stream",
     "text": [
      "C:\\ProgramData\\Anaconda3\\lib\\site-packages\\sklearn\\ensemble\\forest.py:245: FutureWarning: The default value of n_estimators will change from 10 in version 0.20 to 100 in 0.22.\n",
      "  \"10 in version 0.20 to 100 in 0.22.\", FutureWarning)\n",
      "C:\\ProgramData\\Anaconda3\\lib\\site-packages\\sklearn\\ensemble\\forest.py:245: FutureWarning: The default value of n_estimators will change from 10 in version 0.20 to 100 in 0.22.\n",
      "  \"10 in version 0.20 to 100 in 0.22.\", FutureWarning)\n",
      "C:\\ProgramData\\Anaconda3\\lib\\site-packages\\sklearn\\ensemble\\forest.py:245: FutureWarning: The default value of n_estimators will change from 10 in version 0.20 to 100 in 0.22.\n",
      "  \"10 in version 0.20 to 100 in 0.22.\", FutureWarning)\n",
      "C:\\ProgramData\\Anaconda3\\lib\\site-packages\\sklearn\\ensemble\\forest.py:245: FutureWarning: The default value of n_estimators will change from 10 in version 0.20 to 100 in 0.22.\n",
      "  \"10 in version 0.20 to 100 in 0.22.\", FutureWarning)\n",
      "C:\\ProgramData\\Anaconda3\\lib\\site-packages\\sklearn\\ensemble\\forest.py:245: FutureWarning: The default value of n_estimators will change from 10 in version 0.20 to 100 in 0.22.\n",
      "  \"10 in version 0.20 to 100 in 0.22.\", FutureWarning)\n",
      "C:\\ProgramData\\Anaconda3\\lib\\site-packages\\sklearn\\ensemble\\forest.py:245: FutureWarning: The default value of n_estimators will change from 10 in version 0.20 to 100 in 0.22.\n",
      "  \"10 in version 0.20 to 100 in 0.22.\", FutureWarning)\n",
      "C:\\ProgramData\\Anaconda3\\lib\\site-packages\\sklearn\\ensemble\\forest.py:245: FutureWarning: The default value of n_estimators will change from 10 in version 0.20 to 100 in 0.22.\n",
      "  \"10 in version 0.20 to 100 in 0.22.\", FutureWarning)\n",
      "C:\\ProgramData\\Anaconda3\\lib\\site-packages\\sklearn\\ensemble\\forest.py:245: FutureWarning: The default value of n_estimators will change from 10 in version 0.20 to 100 in 0.22.\n",
      "  \"10 in version 0.20 to 100 in 0.22.\", FutureWarning)\n",
      "C:\\ProgramData\\Anaconda3\\lib\\site-packages\\sklearn\\ensemble\\forest.py:245: FutureWarning: The default value of n_estimators will change from 10 in version 0.20 to 100 in 0.22.\n",
      "  \"10 in version 0.20 to 100 in 0.22.\", FutureWarning)\n"
     ]
    }
   ],
   "source": [
    "#RANDOM FOREST CLASSIFIER\n",
    "\n",
    "#Feature Subset by Union of 5 Best Features from each\n",
    "#RFC1 = assemble_run(5,RandomForestClassifier,.5)\n",
    "#Feature Subset by Union of 8 Best Features from each\n",
    "#RFC2 = assemble_run(8,RandomForestClassifier,.5)\n",
    "#Feature Subset by Union of 10 Best Features from each\n",
    "RFC3 = assemble_run(10,RandomForestClassifier,.5)\n",
    "#Feature Subset by Union of 15 Best Features from each\n",
    "RFC4 = assemble_run(15,RandomForestClassifier,.5)\n",
    "#Feature Subset by Union of 20 Best Features from each\n",
    "RFC5 = assemble_run(20,RandomForestClassifier,.5)\n",
    "#Feature Subset by Union of 5 Best Features from each\n",
    "#RFC6 = assemble_run(5,RandomForestClassifier,.4)\n",
    "#Feature Subset by Union of 8 Best Features from each\n",
    "#RFC7 = assemble_run(8,RandomForestClassifier,.4)\n",
    "#Feature Subset by Union of 10 Best Features from each\n",
    "RFC8 = assemble_run(10,RandomForestClassifier,.4)\n",
    "#Feature Subset by Union of 15 Best Features from each\n",
    "RFC9 = assemble_run(15,RandomForestClassifier,.4)\n",
    "#Feature Subset by Union of 20 Best Features from each\n",
    "RFC10 = assemble_run(20,RandomForestClassifier,.4)\n",
    "#Feature Subset by Union of 5 Best Features from each\n",
    "#RFC11 = assemble_run(5,RandomForestClassifier,.3)\n",
    "#Feature Subset by Union of 8 Best Features from each\n",
    "#RFC12 = assemble_run(8,RandomForestClassifier,.3)\n",
    "#Feature Subset by Union of 10 Best Features from each\n",
    "RFC13 = assemble_run(10,RandomForestClassifier,.3)\n",
    "#Feature Subset by Union of 15 Best Features from each\n",
    "RFC14 = assemble_run(15,RandomForestClassifier,.3)\n",
    "#Feature Subset by Union of 20 Best Features from each\n",
    "RFC15 = assemble_run(20,RandomForestClassifier,.3)"
   ]
  },
  {
   "cell_type": "code",
   "execution_count": 36,
   "metadata": {},
   "outputs": [
    {
     "name": "stdout",
     "output_type": "stream",
     "text": [
      "0.9192982456140351\n",
      "0.9333333333333333\n",
      "0.9263157894736842\n",
      "0.9210526315789473\n",
      "0.9298245614035088\n",
      "0.9342105263157895\n",
      "0.9181286549707602\n",
      "0.9122807017543859\n",
      "0.9298245614035088\n"
     ]
    }
   ],
   "source": [
    "#XG BOOST CLASSIFIER\n",
    "\n",
    "#Feature Subset by Union of 5 Best Features from each\n",
    "#XGB1 = assemble_run(5,XGBClassifier,.5)\n",
    "#Feature Subset by Union of 8 Best Features from each\n",
    "#XGB2 = assemble_run(8,XGBClassifier,.5)\n",
    "#Feature Subset by Union of 10 Best Features from each\n",
    "XGB3 = assemble_run(10,XGBClassifier,.5)\n",
    "#Feature Subset by Union of 15 Best Features from each\n",
    "XGB4 = assemble_run(15,XGBClassifier,.5)\n",
    "#Feature Subset by Union of 20 Best Features from each\n",
    "XGB5 = assemble_run(20,XGBClassifier,.5)\n",
    "#Feature Subset by Union of 5 Best Features from each\n",
    "#XGB6 = assemble_run(5,XGBClassifier,.4)\n",
    "#Feature Subset by Union of 8 Best Features from each\n",
    "#XGB7 = assemble_run(8,XGBClassifier,.4)\n",
    "#Feature Subset by Union of 10 Best Features from each\n",
    "XGB8 = assemble_run(10,XGBClassifier,.4)\n",
    "#Feature Subset by Union of 15 Best Features from each\n",
    "XGB9 = assemble_run(15,XGBClassifier,.4)\n",
    "#Feature Subset by Union of 20 Best Features from each\n",
    "XGB10 = assemble_run(20,XGBClassifier,.4)\n",
    "#Feature Subset by Union of 5 Best Features from each\n",
    "#XGB11 = assemble_run(5,XGBClassifier,.3)\n",
    "#Feature Subset by Union of 8 Best Features from each\n",
    "#XGB12 = assemble_run(8,XGBClassifier,3)\n",
    "#Feature Subset by Union of 10 Best Features from each\n",
    "XGB13 = assemble_run(10,XGBClassifier,.3)\n",
    "#Feature Subset by Union of 15 Best Features from each\n",
    "XGB14 = assemble_run(15,XGBClassifier,.3)\n",
    "#Feature Subset by Union of 20 Best Features from each\n",
    "XGB15 = assemble_run(20,XGBClassifier,.3)"
   ]
  },
  {
   "cell_type": "code",
   "execution_count": null,
   "metadata": {},
   "outputs": [],
   "source": []
  }
 ],
 "metadata": {
  "kernelspec": {
   "display_name": "Python 3",
   "language": "python",
   "name": "python3"
  },
  "language_info": {
   "codemirror_mode": {
    "name": "ipython",
    "version": 3
   },
   "file_extension": ".py",
   "mimetype": "text/x-python",
   "name": "python",
   "nbconvert_exporter": "python",
   "pygments_lexer": "ipython3",
   "version": "3.7.4"
  }
 },
 "nbformat": 4,
 "nbformat_minor": 2
}

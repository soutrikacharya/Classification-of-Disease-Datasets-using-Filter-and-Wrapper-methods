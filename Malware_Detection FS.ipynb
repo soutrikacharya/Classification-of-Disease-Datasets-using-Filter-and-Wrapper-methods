{
 "cells": [
  {
   "cell_type": "code",
   "execution_count": 1,
   "metadata": {
    "colab": {
     "base_uri": "https://localhost:8080/",
     "height": 71
    },
    "colab_type": "code",
    "executionInfo": {
     "elapsed": 1418,
     "status": "ok",
     "timestamp": 1600511023503,
     "user": {
      "displayName": "Moumita Mandal",
      "photoUrl": "https://lh3.googleusercontent.com/a-/AOh14GjZLDwUroUscYQpm0nEwdmdNUPF5W6MSafe4mM1LQ=s64",
      "userId": "17759816897411681843"
     },
     "user_tz": -330
    },
    "id": "dTipbGWd349-",
    "outputId": "5837995c-9c21-4be4-d517-4db55ce81eaf"
   },
   "outputs": [],
   "source": [
    "import pandas as pd\n",
    "import numpy as np\n",
    "import matplotlib.pyplot as plt\n",
    "import seaborn as sns"
   ]
  },
  {
   "cell_type": "code",
   "execution_count": 2,
   "metadata": {
    "colab": {},
    "colab_type": "code",
    "executionInfo": {
     "elapsed": 1214,
     "status": "ok",
     "timestamp": 1600511026810,
     "user": {
      "displayName": "Moumita Mandal",
      "photoUrl": "https://lh3.googleusercontent.com/a-/AOh14GjZLDwUroUscYQpm0nEwdmdNUPF5W6MSafe4mM1LQ=s64",
      "userId": "17759816897411681843"
     },
     "user_tz": -330
    },
    "id": "v8I0ToB434-F"
   },
   "outputs": [],
   "source": [
    "data = pd.read_csv('malware.csv')"
   ]
  },
  {
   "cell_type": "code",
   "execution_count": 3,
   "metadata": {
    "colab": {
     "base_uri": "https://localhost:8080/",
     "height": 338
    },
    "colab_type": "code",
    "executionInfo": {
     "elapsed": 1491,
     "status": "ok",
     "timestamp": 1600511030971,
     "user": {
      "displayName": "Moumita Mandal",
      "photoUrl": "https://lh3.googleusercontent.com/a-/AOh14GjZLDwUroUscYQpm0nEwdmdNUPF5W6MSafe4mM1LQ=s64",
      "userId": "17759816897411681843"
     },
     "user_tz": -330
    },
    "id": "AeunOFcZ34-L",
    "outputId": "480b3f0c-1824-4c3b-e500-144250df3748"
   },
   "outputs": [
    {
     "data": {
      "text/html": [
       "<div>\n",
       "<style scoped>\n",
       "    .dataframe tbody tr th:only-of-type {\n",
       "        vertical-align: middle;\n",
       "    }\n",
       "\n",
       "    .dataframe tbody tr th {\n",
       "        vertical-align: top;\n",
       "    }\n",
       "\n",
       "    .dataframe thead th {\n",
       "        text-align: right;\n",
       "    }\n",
       "</style>\n",
       "<table border=\"1\" class=\"dataframe\">\n",
       "  <thead>\n",
       "    <tr style=\"text-align: right;\">\n",
       "      <th></th>\n",
       "      <th>Label</th>\n",
       "      <th>F_1</th>\n",
       "      <th>F_2</th>\n",
       "      <th>F_3</th>\n",
       "      <th>F_4</th>\n",
       "      <th>F_5</th>\n",
       "      <th>F_6</th>\n",
       "      <th>F_7</th>\n",
       "      <th>F_8</th>\n",
       "      <th>F_9</th>\n",
       "      <th>...</th>\n",
       "      <th>F_522</th>\n",
       "      <th>F_523</th>\n",
       "      <th>F_524</th>\n",
       "      <th>F_525</th>\n",
       "      <th>F_526</th>\n",
       "      <th>F_527</th>\n",
       "      <th>F_528</th>\n",
       "      <th>F_529</th>\n",
       "      <th>F_530</th>\n",
       "      <th>F_531</th>\n",
       "    </tr>\n",
       "  </thead>\n",
       "  <tbody>\n",
       "    <tr>\n",
       "      <td>0</td>\n",
       "      <td>non-malicious</td>\n",
       "      <td>1</td>\n",
       "      <td>0</td>\n",
       "      <td>1</td>\n",
       "      <td>0</td>\n",
       "      <td>1</td>\n",
       "      <td>0</td>\n",
       "      <td>1</td>\n",
       "      <td>0</td>\n",
       "      <td>1</td>\n",
       "      <td>...</td>\n",
       "      <td>0</td>\n",
       "      <td>0</td>\n",
       "      <td>0</td>\n",
       "      <td>0</td>\n",
       "      <td>0</td>\n",
       "      <td>0</td>\n",
       "      <td>0</td>\n",
       "      <td>0</td>\n",
       "      <td>0</td>\n",
       "      <td>0</td>\n",
       "    </tr>\n",
       "    <tr>\n",
       "      <td>1</td>\n",
       "      <td>non-malicious</td>\n",
       "      <td>1</td>\n",
       "      <td>0</td>\n",
       "      <td>1</td>\n",
       "      <td>0</td>\n",
       "      <td>1</td>\n",
       "      <td>0</td>\n",
       "      <td>1</td>\n",
       "      <td>0</td>\n",
       "      <td>1</td>\n",
       "      <td>...</td>\n",
       "      <td>0</td>\n",
       "      <td>0</td>\n",
       "      <td>0</td>\n",
       "      <td>0</td>\n",
       "      <td>0</td>\n",
       "      <td>0</td>\n",
       "      <td>0</td>\n",
       "      <td>0</td>\n",
       "      <td>0</td>\n",
       "      <td>0</td>\n",
       "    </tr>\n",
       "    <tr>\n",
       "      <td>2</td>\n",
       "      <td>non-malicious</td>\n",
       "      <td>1</td>\n",
       "      <td>0</td>\n",
       "      <td>1</td>\n",
       "      <td>0</td>\n",
       "      <td>1</td>\n",
       "      <td>0</td>\n",
       "      <td>1</td>\n",
       "      <td>0</td>\n",
       "      <td>1</td>\n",
       "      <td>...</td>\n",
       "      <td>0</td>\n",
       "      <td>0</td>\n",
       "      <td>0</td>\n",
       "      <td>0</td>\n",
       "      <td>0</td>\n",
       "      <td>0</td>\n",
       "      <td>0</td>\n",
       "      <td>0</td>\n",
       "      <td>0</td>\n",
       "      <td>0</td>\n",
       "    </tr>\n",
       "    <tr>\n",
       "      <td>3</td>\n",
       "      <td>non-malicious</td>\n",
       "      <td>1</td>\n",
       "      <td>0</td>\n",
       "      <td>1</td>\n",
       "      <td>0</td>\n",
       "      <td>1</td>\n",
       "      <td>0</td>\n",
       "      <td>1</td>\n",
       "      <td>0</td>\n",
       "      <td>1</td>\n",
       "      <td>...</td>\n",
       "      <td>0</td>\n",
       "      <td>0</td>\n",
       "      <td>0</td>\n",
       "      <td>0</td>\n",
       "      <td>0</td>\n",
       "      <td>0</td>\n",
       "      <td>0</td>\n",
       "      <td>0</td>\n",
       "      <td>0</td>\n",
       "      <td>0</td>\n",
       "    </tr>\n",
       "    <tr>\n",
       "      <td>4</td>\n",
       "      <td>non-malicious</td>\n",
       "      <td>1</td>\n",
       "      <td>0</td>\n",
       "      <td>1</td>\n",
       "      <td>0</td>\n",
       "      <td>1</td>\n",
       "      <td>0</td>\n",
       "      <td>1</td>\n",
       "      <td>0</td>\n",
       "      <td>1</td>\n",
       "      <td>...</td>\n",
       "      <td>0</td>\n",
       "      <td>0</td>\n",
       "      <td>0</td>\n",
       "      <td>0</td>\n",
       "      <td>0</td>\n",
       "      <td>0</td>\n",
       "      <td>0</td>\n",
       "      <td>0</td>\n",
       "      <td>0</td>\n",
       "      <td>0</td>\n",
       "    </tr>\n",
       "  </tbody>\n",
       "</table>\n",
       "<p>5 rows × 532 columns</p>\n",
       "</div>"
      ],
      "text/plain": [
       "           Label  F_1  F_2  F_3  F_4  F_5  F_6  F_7  F_8  F_9  ...  F_522  \\\n",
       "0  non-malicious    1    0    1    0    1    0    1    0    1  ...      0   \n",
       "1  non-malicious    1    0    1    0    1    0    1    0    1  ...      0   \n",
       "2  non-malicious    1    0    1    0    1    0    1    0    1  ...      0   \n",
       "3  non-malicious    1    0    1    0    1    0    1    0    1  ...      0   \n",
       "4  non-malicious    1    0    1    0    1    0    1    0    1  ...      0   \n",
       "\n",
       "   F_523  F_524  F_525  F_526  F_527  F_528  F_529  F_530  F_531  \n",
       "0      0      0      0      0      0      0      0      0      0  \n",
       "1      0      0      0      0      0      0      0      0      0  \n",
       "2      0      0      0      0      0      0      0      0      0  \n",
       "3      0      0      0      0      0      0      0      0      0  \n",
       "4      0      0      0      0      0      0      0      0      0  \n",
       "\n",
       "[5 rows x 532 columns]"
      ]
     },
     "execution_count": 3,
     "metadata": {},
     "output_type": "execute_result"
    }
   ],
   "source": [
    "data.head()"
   ]
  },
  {
   "cell_type": "code",
   "execution_count": 4,
   "metadata": {
    "colab": {
     "base_uri": "https://localhost:8080/",
     "height": 221
    },
    "colab_type": "code",
    "executionInfo": {
     "elapsed": 1094,
     "status": "ok",
     "timestamp": 1600511034938,
     "user": {
      "displayName": "Moumita Mandal",
      "photoUrl": "https://lh3.googleusercontent.com/a-/AOh14GjZLDwUroUscYQpm0nEwdmdNUPF5W6MSafe4mM1LQ=s64",
      "userId": "17759816897411681843"
     },
     "user_tz": -330
    },
    "id": "eM0w-KG934-T",
    "outputId": "9709a515-3288-409c-9890-82686c8cb0f8"
   },
   "outputs": [
    {
     "data": {
      "text/plain": [
       "Label    0\n",
       "F_1      0\n",
       "F_2      0\n",
       "F_3      0\n",
       "F_4      0\n",
       "        ..\n",
       "F_527    0\n",
       "F_528    0\n",
       "F_529    0\n",
       "F_530    0\n",
       "F_531    0\n",
       "Length: 532, dtype: int64"
      ]
     },
     "execution_count": 4,
     "metadata": {},
     "output_type": "execute_result"
    }
   ],
   "source": [
    "data.dropna()\n",
    "data.isnull().sum()"
   ]
  },
  {
   "cell_type": "code",
   "execution_count": 5,
   "metadata": {
    "colab": {
     "base_uri": "https://localhost:8080/",
     "height": 253
    },
    "colab_type": "code",
    "executionInfo": {
     "elapsed": 1439,
     "status": "ok",
     "timestamp": 1600511043451,
     "user": {
      "displayName": "Moumita Mandal",
      "photoUrl": "https://lh3.googleusercontent.com/a-/AOh14GjZLDwUroUscYQpm0nEwdmdNUPF5W6MSafe4mM1LQ=s64",
      "userId": "17759816897411681843"
     },
     "user_tz": -330
    },
    "id": "Is_DQDEo34-Y",
    "outputId": "db0449ad-769f-461b-d596-90571a57136b"
   },
   "outputs": [
    {
     "data": {
      "text/html": [
       "<div>\n",
       "<style scoped>\n",
       "    .dataframe tbody tr th:only-of-type {\n",
       "        vertical-align: middle;\n",
       "    }\n",
       "\n",
       "    .dataframe tbody tr th {\n",
       "        vertical-align: top;\n",
       "    }\n",
       "\n",
       "    .dataframe thead th {\n",
       "        text-align: right;\n",
       "    }\n",
       "</style>\n",
       "<table border=\"1\" class=\"dataframe\">\n",
       "  <thead>\n",
       "    <tr style=\"text-align: right;\">\n",
       "      <th></th>\n",
       "      <th>Label</th>\n",
       "      <th>F_1</th>\n",
       "      <th>F_2</th>\n",
       "      <th>F_3</th>\n",
       "      <th>F_4</th>\n",
       "      <th>F_5</th>\n",
       "      <th>F_6</th>\n",
       "      <th>F_7</th>\n",
       "      <th>F_8</th>\n",
       "      <th>F_9</th>\n",
       "      <th>...</th>\n",
       "      <th>F_522</th>\n",
       "      <th>F_523</th>\n",
       "      <th>F_524</th>\n",
       "      <th>F_525</th>\n",
       "      <th>F_526</th>\n",
       "      <th>F_527</th>\n",
       "      <th>F_528</th>\n",
       "      <th>F_529</th>\n",
       "      <th>F_530</th>\n",
       "      <th>F_531</th>\n",
       "    </tr>\n",
       "  </thead>\n",
       "  <tbody>\n",
       "    <tr>\n",
       "      <td>0</td>\n",
       "      <td>0</td>\n",
       "      <td>1</td>\n",
       "      <td>0</td>\n",
       "      <td>1</td>\n",
       "      <td>0</td>\n",
       "      <td>1</td>\n",
       "      <td>0</td>\n",
       "      <td>1</td>\n",
       "      <td>0</td>\n",
       "      <td>1</td>\n",
       "      <td>...</td>\n",
       "      <td>0</td>\n",
       "      <td>0</td>\n",
       "      <td>0</td>\n",
       "      <td>0</td>\n",
       "      <td>0</td>\n",
       "      <td>0</td>\n",
       "      <td>0</td>\n",
       "      <td>0</td>\n",
       "      <td>0</td>\n",
       "      <td>0</td>\n",
       "    </tr>\n",
       "    <tr>\n",
       "      <td>1</td>\n",
       "      <td>0</td>\n",
       "      <td>1</td>\n",
       "      <td>0</td>\n",
       "      <td>1</td>\n",
       "      <td>0</td>\n",
       "      <td>1</td>\n",
       "      <td>0</td>\n",
       "      <td>1</td>\n",
       "      <td>0</td>\n",
       "      <td>1</td>\n",
       "      <td>...</td>\n",
       "      <td>0</td>\n",
       "      <td>0</td>\n",
       "      <td>0</td>\n",
       "      <td>0</td>\n",
       "      <td>0</td>\n",
       "      <td>0</td>\n",
       "      <td>0</td>\n",
       "      <td>0</td>\n",
       "      <td>0</td>\n",
       "      <td>0</td>\n",
       "    </tr>\n",
       "    <tr>\n",
       "      <td>2</td>\n",
       "      <td>0</td>\n",
       "      <td>1</td>\n",
       "      <td>0</td>\n",
       "      <td>1</td>\n",
       "      <td>0</td>\n",
       "      <td>1</td>\n",
       "      <td>0</td>\n",
       "      <td>1</td>\n",
       "      <td>0</td>\n",
       "      <td>1</td>\n",
       "      <td>...</td>\n",
       "      <td>0</td>\n",
       "      <td>0</td>\n",
       "      <td>0</td>\n",
       "      <td>0</td>\n",
       "      <td>0</td>\n",
       "      <td>0</td>\n",
       "      <td>0</td>\n",
       "      <td>0</td>\n",
       "      <td>0</td>\n",
       "      <td>0</td>\n",
       "    </tr>\n",
       "    <tr>\n",
       "      <td>3</td>\n",
       "      <td>0</td>\n",
       "      <td>1</td>\n",
       "      <td>0</td>\n",
       "      <td>1</td>\n",
       "      <td>0</td>\n",
       "      <td>1</td>\n",
       "      <td>0</td>\n",
       "      <td>1</td>\n",
       "      <td>0</td>\n",
       "      <td>1</td>\n",
       "      <td>...</td>\n",
       "      <td>0</td>\n",
       "      <td>0</td>\n",
       "      <td>0</td>\n",
       "      <td>0</td>\n",
       "      <td>0</td>\n",
       "      <td>0</td>\n",
       "      <td>0</td>\n",
       "      <td>0</td>\n",
       "      <td>0</td>\n",
       "      <td>0</td>\n",
       "    </tr>\n",
       "    <tr>\n",
       "      <td>4</td>\n",
       "      <td>0</td>\n",
       "      <td>1</td>\n",
       "      <td>0</td>\n",
       "      <td>1</td>\n",
       "      <td>0</td>\n",
       "      <td>1</td>\n",
       "      <td>0</td>\n",
       "      <td>1</td>\n",
       "      <td>0</td>\n",
       "      <td>1</td>\n",
       "      <td>...</td>\n",
       "      <td>0</td>\n",
       "      <td>0</td>\n",
       "      <td>0</td>\n",
       "      <td>0</td>\n",
       "      <td>0</td>\n",
       "      <td>0</td>\n",
       "      <td>0</td>\n",
       "      <td>0</td>\n",
       "      <td>0</td>\n",
       "      <td>0</td>\n",
       "    </tr>\n",
       "  </tbody>\n",
       "</table>\n",
       "<p>5 rows × 532 columns</p>\n",
       "</div>"
      ],
      "text/plain": [
       "   Label  F_1  F_2  F_3  F_4  F_5  F_6  F_7  F_8  F_9  ...  F_522  F_523  \\\n",
       "0      0    1    0    1    0    1    0    1    0    1  ...      0      0   \n",
       "1      0    1    0    1    0    1    0    1    0    1  ...      0      0   \n",
       "2      0    1    0    1    0    1    0    1    0    1  ...      0      0   \n",
       "3      0    1    0    1    0    1    0    1    0    1  ...      0      0   \n",
       "4      0    1    0    1    0    1    0    1    0    1  ...      0      0   \n",
       "\n",
       "   F_524  F_525  F_526  F_527  F_528  F_529  F_530  F_531  \n",
       "0      0      0      0      0      0      0      0      0  \n",
       "1      0      0      0      0      0      0      0      0  \n",
       "2      0      0      0      0      0      0      0      0  \n",
       "3      0      0      0      0      0      0      0      0  \n",
       "4      0      0      0      0      0      0      0      0  \n",
       "\n",
       "[5 rows x 532 columns]"
      ]
     },
     "execution_count": 5,
     "metadata": {},
     "output_type": "execute_result"
    }
   ],
   "source": [
    "dict = {\n",
    "    'Label':{\n",
    "        'malicious':1,\n",
    "        'non-malicious':0,\n",
    "    }\n",
    "}   \n",
    "data=data.replace(dict)\n",
    "data.head()"
   ]
  },
  {
   "cell_type": "code",
   "execution_count": 6,
   "metadata": {
    "colab": {
     "base_uri": "https://localhost:8080/",
     "height": 34
    },
    "colab_type": "code",
    "executionInfo": {
     "elapsed": 1119,
     "status": "ok",
     "timestamp": 1600511048818,
     "user": {
      "displayName": "Moumita Mandal",
      "photoUrl": "https://lh3.googleusercontent.com/a-/AOh14GjZLDwUroUscYQpm0nEwdmdNUPF5W6MSafe4mM1LQ=s64",
      "userId": "17759816897411681843"
     },
     "user_tz": -330
    },
    "id": "fUzECcEO34-d",
    "outputId": "63da8ac6-a712-489a-f1e4-1eeab8e434ef"
   },
   "outputs": [
    {
     "data": {
      "text/plain": [
       "1.0"
      ]
     },
     "execution_count": 6,
     "metadata": {},
     "output_type": "execute_result"
    }
   ],
   "source": [
    "X = data.drop(['Label'], axis=1)\n",
    "y = data.Label\n",
    "\n",
    "from sklearn.model_selection import train_test_split\n",
    "x_train, x_test, y_train, y_test = train_test_split(X,y,test_size=0.2)\n",
    "\n",
    "from sklearn.neighbors import KNeighborsClassifier\n",
    "model1 = KNeighborsClassifier()\n",
    "model1.fit(x_train, y_train)\n",
    "model1.score(x_test,y_test)"
   ]
  },
  {
   "cell_type": "code",
   "execution_count": 7,
   "metadata": {
    "colab": {},
    "colab_type": "code",
    "executionInfo": {
     "elapsed": 1265,
     "status": "ok",
     "timestamp": 1600511061807,
     "user": {
      "displayName": "Moumita Mandal",
      "photoUrl": "https://lh3.googleusercontent.com/a-/AOh14GjZLDwUroUscYQpm0nEwdmdNUPF5W6MSafe4mM1LQ=s64",
      "userId": "17759816897411681843"
     },
     "user_tz": -330
    },
    "id": "aYVOgMNv34-i"
   },
   "outputs": [],
   "source": [
    "#Chi-Square Test\n",
    "\n",
    "import scipy.stats as stats\n",
    "from scipy.stats import chi2\n",
    "\n",
    "def chi_sqr(test_column,output_column):\n",
    "    observed_value = pd.crosstab(test_column,output_column)\n",
    "    #print('observed value:\\n',observed_value)\n",
    "    val = stats.chi2_contingency(observed_value)\n",
    "    expected_value=val[3]\n",
    "    #print('expected value:\\n',expected_value)\n",
    "    no_of_rows=len(observed_value.iloc[0:2,0])\n",
    "    no_of_columns=len(observed_value.iloc[0,0:2])\n",
    "    dgof=(no_of_rows-1)*(no_of_columns-1)\n",
    "    alpha=0.05\n",
    "    #print('degree of freedom:',dgof)\n",
    "    for o,e in zip(observed_value.values,expected_value):\n",
    "        chi_2 = sum([(o-e)**2./e])       \n",
    "    chi2_stat = np.sum(chi_2)\n",
    "    return chi2_stat\n",
    "    #critical_value = chi2.ppf(q=1-alpha, df=dgof)\n",
    "    #print('critical_value:',critical_value)\n",
    "    \n",
    "    #p_value=1-chi2.cdf(x=chi2_stat, df=dgof)\n",
    "    #print(p_value)"
   ]
  },
  {
   "cell_type": "code",
   "execution_count": 8,
   "metadata": {
    "colab": {
     "base_uri": "https://localhost:8080/",
     "height": 253
    },
    "colab_type": "code",
    "executionInfo": {
     "elapsed": 2027,
     "status": "ok",
     "timestamp": 1600511068620,
     "user": {
      "displayName": "Moumita Mandal",
      "photoUrl": "https://lh3.googleusercontent.com/a-/AOh14GjZLDwUroUscYQpm0nEwdmdNUPF5W6MSafe4mM1LQ=s64",
      "userId": "17759816897411681843"
     },
     "user_tz": -330
    },
    "id": "agqV_qTi34-o",
    "outputId": "41cca78c-d65b-4ad1-cbe2-9cab0769bd10"
   },
   "outputs": [
    {
     "data": {
      "text/html": [
       "<div>\n",
       "<style scoped>\n",
       "    .dataframe tbody tr th:only-of-type {\n",
       "        vertical-align: middle;\n",
       "    }\n",
       "\n",
       "    .dataframe tbody tr th {\n",
       "        vertical-align: top;\n",
       "    }\n",
       "\n",
       "    .dataframe thead th {\n",
       "        text-align: right;\n",
       "    }\n",
       "</style>\n",
       "<table border=\"1\" class=\"dataframe\">\n",
       "  <thead>\n",
       "    <tr style=\"text-align: right;\">\n",
       "      <th></th>\n",
       "      <th>F_1</th>\n",
       "      <th>F_2</th>\n",
       "      <th>F_3</th>\n",
       "      <th>F_4</th>\n",
       "      <th>F_5</th>\n",
       "      <th>F_6</th>\n",
       "      <th>F_7</th>\n",
       "      <th>F_8</th>\n",
       "      <th>F_9</th>\n",
       "      <th>F_10</th>\n",
       "      <th>...</th>\n",
       "      <th>F_522</th>\n",
       "      <th>F_523</th>\n",
       "      <th>F_524</th>\n",
       "      <th>F_525</th>\n",
       "      <th>F_526</th>\n",
       "      <th>F_527</th>\n",
       "      <th>F_528</th>\n",
       "      <th>F_529</th>\n",
       "      <th>F_530</th>\n",
       "      <th>F_531</th>\n",
       "    </tr>\n",
       "  </thead>\n",
       "  <tbody>\n",
       "    <tr>\n",
       "      <td>0</td>\n",
       "      <td>1</td>\n",
       "      <td>0</td>\n",
       "      <td>1</td>\n",
       "      <td>0</td>\n",
       "      <td>1</td>\n",
       "      <td>0</td>\n",
       "      <td>1</td>\n",
       "      <td>0</td>\n",
       "      <td>1</td>\n",
       "      <td>0</td>\n",
       "      <td>...</td>\n",
       "      <td>0</td>\n",
       "      <td>0</td>\n",
       "      <td>0</td>\n",
       "      <td>0</td>\n",
       "      <td>0</td>\n",
       "      <td>0</td>\n",
       "      <td>0</td>\n",
       "      <td>0</td>\n",
       "      <td>0</td>\n",
       "      <td>0</td>\n",
       "    </tr>\n",
       "    <tr>\n",
       "      <td>1</td>\n",
       "      <td>1</td>\n",
       "      <td>0</td>\n",
       "      <td>1</td>\n",
       "      <td>0</td>\n",
       "      <td>1</td>\n",
       "      <td>0</td>\n",
       "      <td>1</td>\n",
       "      <td>0</td>\n",
       "      <td>1</td>\n",
       "      <td>0</td>\n",
       "      <td>...</td>\n",
       "      <td>0</td>\n",
       "      <td>0</td>\n",
       "      <td>0</td>\n",
       "      <td>0</td>\n",
       "      <td>0</td>\n",
       "      <td>0</td>\n",
       "      <td>0</td>\n",
       "      <td>0</td>\n",
       "      <td>0</td>\n",
       "      <td>0</td>\n",
       "    </tr>\n",
       "    <tr>\n",
       "      <td>2</td>\n",
       "      <td>1</td>\n",
       "      <td>0</td>\n",
       "      <td>1</td>\n",
       "      <td>0</td>\n",
       "      <td>1</td>\n",
       "      <td>0</td>\n",
       "      <td>1</td>\n",
       "      <td>0</td>\n",
       "      <td>1</td>\n",
       "      <td>0</td>\n",
       "      <td>...</td>\n",
       "      <td>0</td>\n",
       "      <td>0</td>\n",
       "      <td>0</td>\n",
       "      <td>0</td>\n",
       "      <td>0</td>\n",
       "      <td>0</td>\n",
       "      <td>0</td>\n",
       "      <td>0</td>\n",
       "      <td>0</td>\n",
       "      <td>0</td>\n",
       "    </tr>\n",
       "    <tr>\n",
       "      <td>3</td>\n",
       "      <td>1</td>\n",
       "      <td>0</td>\n",
       "      <td>1</td>\n",
       "      <td>0</td>\n",
       "      <td>1</td>\n",
       "      <td>0</td>\n",
       "      <td>1</td>\n",
       "      <td>0</td>\n",
       "      <td>1</td>\n",
       "      <td>0</td>\n",
       "      <td>...</td>\n",
       "      <td>0</td>\n",
       "      <td>0</td>\n",
       "      <td>0</td>\n",
       "      <td>0</td>\n",
       "      <td>0</td>\n",
       "      <td>0</td>\n",
       "      <td>0</td>\n",
       "      <td>0</td>\n",
       "      <td>0</td>\n",
       "      <td>0</td>\n",
       "    </tr>\n",
       "    <tr>\n",
       "      <td>4</td>\n",
       "      <td>1</td>\n",
       "      <td>0</td>\n",
       "      <td>1</td>\n",
       "      <td>0</td>\n",
       "      <td>1</td>\n",
       "      <td>0</td>\n",
       "      <td>1</td>\n",
       "      <td>0</td>\n",
       "      <td>1</td>\n",
       "      <td>0</td>\n",
       "      <td>...</td>\n",
       "      <td>0</td>\n",
       "      <td>0</td>\n",
       "      <td>0</td>\n",
       "      <td>0</td>\n",
       "      <td>0</td>\n",
       "      <td>0</td>\n",
       "      <td>0</td>\n",
       "      <td>0</td>\n",
       "      <td>0</td>\n",
       "      <td>0</td>\n",
       "    </tr>\n",
       "  </tbody>\n",
       "</table>\n",
       "<p>5 rows × 531 columns</p>\n",
       "</div>"
      ],
      "text/plain": [
       "   F_1  F_2  F_3  F_4  F_5  F_6  F_7  F_8  F_9  F_10  ...  F_522  F_523  \\\n",
       "0    1    0    1    0    1    0    1    0    1     0  ...      0      0   \n",
       "1    1    0    1    0    1    0    1    0    1     0  ...      0      0   \n",
       "2    1    0    1    0    1    0    1    0    1     0  ...      0      0   \n",
       "3    1    0    1    0    1    0    1    0    1     0  ...      0      0   \n",
       "4    1    0    1    0    1    0    1    0    1     0  ...      0      0   \n",
       "\n",
       "   F_524  F_525  F_526  F_527  F_528  F_529  F_530  F_531  \n",
       "0      0      0      0      0      0      0      0      0  \n",
       "1      0      0      0      0      0      0      0      0  \n",
       "2      0      0      0      0      0      0      0      0  \n",
       "3      0      0      0      0      0      0      0      0  \n",
       "4      0      0      0      0      0      0      0      0  \n",
       "\n",
       "[5 rows x 531 columns]"
      ]
     },
     "execution_count": 8,
     "metadata": {},
     "output_type": "execute_result"
    }
   ],
   "source": [
    "df1 = data.drop(['Label'], axis=1)\n",
    "df1.head()"
   ]
  },
  {
   "cell_type": "code",
   "execution_count": 9,
   "metadata": {
    "colab": {},
    "colab_type": "code",
    "executionInfo": {
     "elapsed": 7674,
     "status": "ok",
     "timestamp": 1600511079705,
     "user": {
      "displayName": "Moumita Mandal",
      "photoUrl": "https://lh3.googleusercontent.com/a-/AOh14GjZLDwUroUscYQpm0nEwdmdNUPF5W6MSafe4mM1LQ=s64",
      "userId": "17759816897411681843"
     },
     "user_tz": -330
    },
    "id": "W79oGLY_34-s"
   },
   "outputs": [],
   "source": [
    "top_n1 =[]\n",
    "for i in df1.columns.values:\n",
    "    top_n1.append(chi_sqr(df1[i],data['Label']))"
   ]
  },
  {
   "cell_type": "code",
   "execution_count": 10,
   "metadata": {
    "colab": {
     "base_uri": "https://localhost:8080/",
     "height": 419
    },
    "colab_type": "code",
    "executionInfo": {
     "elapsed": 1160,
     "status": "ok",
     "timestamp": 1600511083094,
     "user": {
      "displayName": "Moumita Mandal",
      "photoUrl": "https://lh3.googleusercontent.com/a-/AOh14GjZLDwUroUscYQpm0nEwdmdNUPF5W6MSafe4mM1LQ=s64",
      "userId": "17759816897411681843"
     },
     "user_tz": -330
    },
    "id": "gST4DGyx34-x",
    "outputId": "f8fe12a7-d8e8-4bcb-ef03-41c3a5016f3d",
    "scrolled": true
   },
   "outputs": [
    {
     "data": {
      "text/html": [
       "<div>\n",
       "<style scoped>\n",
       "    .dataframe tbody tr th:only-of-type {\n",
       "        vertical-align: middle;\n",
       "    }\n",
       "\n",
       "    .dataframe tbody tr th {\n",
       "        vertical-align: top;\n",
       "    }\n",
       "\n",
       "    .dataframe thead th {\n",
       "        text-align: right;\n",
       "    }\n",
       "</style>\n",
       "<table border=\"1\" class=\"dataframe\">\n",
       "  <thead>\n",
       "    <tr style=\"text-align: right;\">\n",
       "      <th></th>\n",
       "      <th>Score</th>\n",
       "      <th>Features</th>\n",
       "    </tr>\n",
       "  </thead>\n",
       "  <tbody>\n",
       "    <tr>\n",
       "      <td>0</td>\n",
       "      <td>0.000643</td>\n",
       "      <td>F_1</td>\n",
       "    </tr>\n",
       "    <tr>\n",
       "      <td>1</td>\n",
       "      <td>0.000000</td>\n",
       "      <td>F_2</td>\n",
       "    </tr>\n",
       "    <tr>\n",
       "      <td>2</td>\n",
       "      <td>0.006522</td>\n",
       "      <td>F_3</td>\n",
       "    </tr>\n",
       "    <tr>\n",
       "      <td>3</td>\n",
       "      <td>4.180556</td>\n",
       "      <td>F_4</td>\n",
       "    </tr>\n",
       "    <tr>\n",
       "      <td>4</td>\n",
       "      <td>0.006522</td>\n",
       "      <td>F_5</td>\n",
       "    </tr>\n",
       "    <tr>\n",
       "      <td>...</td>\n",
       "      <td>...</td>\n",
       "      <td>...</td>\n",
       "    </tr>\n",
       "    <tr>\n",
       "      <td>526</td>\n",
       "      <td>3.588040</td>\n",
       "      <td>F_527</td>\n",
       "    </tr>\n",
       "    <tr>\n",
       "      <td>527</td>\n",
       "      <td>8.132890</td>\n",
       "      <td>F_528</td>\n",
       "    </tr>\n",
       "    <tr>\n",
       "      <td>528</td>\n",
       "      <td>7.176080</td>\n",
       "      <td>F_529</td>\n",
       "    </tr>\n",
       "    <tr>\n",
       "      <td>529</td>\n",
       "      <td>44.916144</td>\n",
       "      <td>F_530</td>\n",
       "    </tr>\n",
       "    <tr>\n",
       "      <td>530</td>\n",
       "      <td>12.916944</td>\n",
       "      <td>F_531</td>\n",
       "    </tr>\n",
       "  </tbody>\n",
       "</table>\n",
       "<p>531 rows × 2 columns</p>\n",
       "</div>"
      ],
      "text/plain": [
       "         Score Features\n",
       "0     0.000643      F_1\n",
       "1     0.000000      F_2\n",
       "2     0.006522      F_3\n",
       "3     4.180556      F_4\n",
       "4     0.006522      F_5\n",
       "..         ...      ...\n",
       "526   3.588040    F_527\n",
       "527   8.132890    F_528\n",
       "528   7.176080    F_529\n",
       "529  44.916144    F_530\n",
       "530  12.916944    F_531\n",
       "\n",
       "[531 rows x 2 columns]"
      ]
     },
     "execution_count": 10,
     "metadata": {},
     "output_type": "execute_result"
    }
   ],
   "source": [
    "X = data.drop(['Label'], axis=1)\n",
    "col_name1 = np.array(X.columns)\n",
    "a1 = pd.DataFrame(top_n1)\n",
    "b1 = pd.DataFrame(col_name1)\n",
    "info1 = pd.concat([a1,b1], axis=1)\n",
    "info1.columns = ['Score','Features']\n",
    "info1"
   ]
  },
  {
   "cell_type": "code",
   "execution_count": 11,
   "metadata": {
    "colab": {
     "base_uri": "https://localhost:8080/",
     "height": 136
    },
    "colab_type": "code",
    "executionInfo": {
     "elapsed": 1282,
     "status": "ok",
     "timestamp": 1600511090037,
     "user": {
      "displayName": "Moumita Mandal",
      "photoUrl": "https://lh3.googleusercontent.com/a-/AOh14GjZLDwUroUscYQpm0nEwdmdNUPF5W6MSafe4mM1LQ=s64",
      "userId": "17759816897411681843"
     },
     "user_tz": -330
    },
    "id": "hCs6wtU234-1",
    "outputId": "f0242195-022c-4b51-b822-1e477061c783"
   },
   "outputs": [
    {
     "data": {
      "text/plain": [
       "array(['F_19', 'F_140', 'F_66', 'F_111', 'F_113', 'F_278', 'F_50', 'F_69',\n",
       "       'F_183', 'F_291', 'F_318', 'F_129', 'F_422', 'F_52', 'F_186',\n",
       "       'F_29', 'F_55', 'F_497', 'F_47', 'F_362', 'F_417', 'F_21', 'F_31',\n",
       "       'F_146', 'F_316', 'F_189', 'F_400', 'F_331', 'F_384', 'F_302',\n",
       "       'F_237', 'F_324', 'F_127', 'F_314', 'F_352', 'F_196', 'F_202',\n",
       "       'F_475', 'F_502', 'F_36', 'F_38', 'F_288', 'F_333', 'F_459',\n",
       "       'F_477', 'F_479', 'F_300', 'F_13', 'F_234', 'F_418'], dtype=object)"
      ]
     },
     "execution_count": 11,
     "metadata": {},
     "output_type": "execute_result"
    }
   ],
   "source": [
    "top1 = info1.nlargest(50,'Score')\n",
    "ft1 = np.array(top1['Features'])\n",
    "ft1"
   ]
  },
  {
   "cell_type": "code",
   "execution_count": 12,
   "metadata": {
    "colab": {
     "base_uri": "https://localhost:8080/",
     "height": 419
    },
    "colab_type": "code",
    "executionInfo": {
     "elapsed": 1636,
     "status": "ok",
     "timestamp": 1600511096008,
     "user": {
      "displayName": "Moumita Mandal",
      "photoUrl": "https://lh3.googleusercontent.com/a-/AOh14GjZLDwUroUscYQpm0nEwdmdNUPF5W6MSafe4mM1LQ=s64",
      "userId": "17759816897411681843"
     },
     "user_tz": -330
    },
    "id": "DfIaMrT134-8",
    "outputId": "4fe10bb2-c999-4faf-b3aa-7666bec0d513"
   },
   "outputs": [
    {
     "data": {
      "text/html": [
       "<div>\n",
       "<style scoped>\n",
       "    .dataframe tbody tr th:only-of-type {\n",
       "        vertical-align: middle;\n",
       "    }\n",
       "\n",
       "    .dataframe tbody tr th {\n",
       "        vertical-align: top;\n",
       "    }\n",
       "\n",
       "    .dataframe thead th {\n",
       "        text-align: right;\n",
       "    }\n",
       "</style>\n",
       "<table border=\"1\" class=\"dataframe\">\n",
       "  <thead>\n",
       "    <tr style=\"text-align: right;\">\n",
       "      <th></th>\n",
       "      <th>Info_Gain</th>\n",
       "      <th>Features</th>\n",
       "    </tr>\n",
       "  </thead>\n",
       "  <tbody>\n",
       "    <tr>\n",
       "      <td>0</td>\n",
       "      <td>5.758430e-04</td>\n",
       "      <td>F_1</td>\n",
       "    </tr>\n",
       "    <tr>\n",
       "      <td>1</td>\n",
       "      <td>7.216450e-16</td>\n",
       "      <td>F_2</td>\n",
       "    </tr>\n",
       "    <tr>\n",
       "      <td>2</td>\n",
       "      <td>1.277089e-03</td>\n",
       "      <td>F_3</td>\n",
       "    </tr>\n",
       "    <tr>\n",
       "      <td>3</td>\n",
       "      <td>4.425060e-03</td>\n",
       "      <td>F_4</td>\n",
       "    </tr>\n",
       "    <tr>\n",
       "      <td>4</td>\n",
       "      <td>1.277089e-03</td>\n",
       "      <td>F_5</td>\n",
       "    </tr>\n",
       "    <tr>\n",
       "      <td>...</td>\n",
       "      <td>...</td>\n",
       "      <td>...</td>\n",
       "    </tr>\n",
       "    <tr>\n",
       "      <td>526</td>\n",
       "      <td>8.824154e-03</td>\n",
       "      <td>F_527</td>\n",
       "    </tr>\n",
       "    <tr>\n",
       "      <td>527</td>\n",
       "      <td>2.061640e-02</td>\n",
       "      <td>F_528</td>\n",
       "    </tr>\n",
       "    <tr>\n",
       "      <td>528</td>\n",
       "      <td>1.807297e-02</td>\n",
       "      <td>F_529</td>\n",
       "    </tr>\n",
       "    <tr>\n",
       "      <td>529</td>\n",
       "      <td>1.569229e-01</td>\n",
       "      <td>F_530</td>\n",
       "    </tr>\n",
       "    <tr>\n",
       "      <td>530</td>\n",
       "      <td>3.386466e-02</td>\n",
       "      <td>F_531</td>\n",
       "    </tr>\n",
       "  </tbody>\n",
       "</table>\n",
       "<p>531 rows × 2 columns</p>\n",
       "</div>"
      ],
      "text/plain": [
       "        Info_Gain Features\n",
       "0    5.758430e-04      F_1\n",
       "1    7.216450e-16      F_2\n",
       "2    1.277089e-03      F_3\n",
       "3    4.425060e-03      F_4\n",
       "4    1.277089e-03      F_5\n",
       "..            ...      ...\n",
       "526  8.824154e-03    F_527\n",
       "527  2.061640e-02    F_528\n",
       "528  1.807297e-02    F_529\n",
       "529  1.569229e-01    F_530\n",
       "530  3.386466e-02    F_531\n",
       "\n",
       "[531 rows x 2 columns]"
      ]
     },
     "execution_count": 12,
     "metadata": {},
     "output_type": "execute_result"
    }
   ],
   "source": [
    "#Information Gain/Mutual Information\n",
    "\n",
    "from sklearn.feature_selection import mutual_info_classif\n",
    "\n",
    "res = mutual_info_classif(X,y,discrete_features=True)\n",
    "\n",
    "X = data.drop(['Label'], axis=1)\n",
    "col_name2 = np.array(X.columns)\n",
    "\n",
    "a2 = pd.DataFrame(res)\n",
    "b2 = pd.DataFrame(col_name2)\n",
    "info2 = pd.concat([a2,b2], axis=1)\n",
    "info2.columns = ['Info_Gain','Features']\n",
    "info2"
   ]
  },
  {
   "cell_type": "code",
   "execution_count": 13,
   "metadata": {
    "colab": {
     "base_uri": "https://localhost:8080/",
     "height": 136
    },
    "colab_type": "code",
    "executionInfo": {
     "elapsed": 1364,
     "status": "ok",
     "timestamp": 1600511107661,
     "user": {
      "displayName": "Moumita Mandal",
      "photoUrl": "https://lh3.googleusercontent.com/a-/AOh14GjZLDwUroUscYQpm0nEwdmdNUPF5W6MSafe4mM1LQ=s64",
      "userId": "17759816897411681843"
     },
     "user_tz": -330
    },
    "id": "vayYL6GH34_B",
    "outputId": "0be9b3c8-4fa6-4f30-99c3-aaf097dd44cd"
   },
   "outputs": [
    {
     "data": {
      "text/plain": [
       "array(['F_20', 'F_19', 'F_139', 'F_140', 'F_66', 'F_67', 'F_111', 'F_162',\n",
       "       'F_51', 'F_113', 'F_385', 'F_179', 'F_278', 'F_334', 'F_50',\n",
       "       'F_318', 'F_49', 'F_266', 'F_69', 'F_182', 'F_183', 'F_291',\n",
       "       'F_53', 'F_290', 'F_129', 'F_422', 'F_320', 'F_52', 'F_186',\n",
       "       'F_435', 'F_29', 'F_55', 'F_497', 'F_323', 'F_47', 'F_30', 'F_362',\n",
       "       'F_417', 'F_21', 'F_31', 'F_146', 'F_316', 'F_189', 'F_400',\n",
       "       'F_200', 'F_399', 'F_526', 'F_331', 'F_384', 'F_302'], dtype=object)"
      ]
     },
     "execution_count": 13,
     "metadata": {},
     "output_type": "execute_result"
    }
   ],
   "source": [
    "top2 = info2.nlargest(50,'Info_Gain')\n",
    "ft2 = np.array(top2['Features'])\n",
    "ft2"
   ]
  },
  {
   "cell_type": "code",
   "execution_count": 14,
   "metadata": {
    "colab": {},
    "colab_type": "code",
    "executionInfo": {
     "elapsed": 36535,
     "status": "ok",
     "timestamp": 1600511291295,
     "user": {
      "displayName": "Moumita Mandal",
      "photoUrl": "https://lh3.googleusercontent.com/a-/AOh14GjZLDwUroUscYQpm0nEwdmdNUPF5W6MSafe4mM1LQ=s64",
      "userId": "17759816897411681843"
     },
     "user_tz": -330
    },
    "id": "jLo2WMz334_K"
   },
   "outputs": [],
   "source": [
    "#ReliefF\n",
    "\n",
    "from sklearn.pipeline import make_pipeline\n",
    "from skrebate import ReliefF\n",
    "\n",
    "features, labels = data.drop('Label', axis=1).values, data['Label'].values\n",
    "X_train, X_test, y_train, y_test = train_test_split(features, labels)\n",
    "\n",
    "fs = ReliefF()\n",
    "fs.fit(X_train, y_train)\n",
    "\n",
    "top_n2=[]\n",
    "for feature_name, feature_score in zip(data.drop('Label', axis=1).columns, fs.feature_importances_):\n",
    "    top_n2.append(feature_score)"
   ]
  },
  {
   "cell_type": "code",
   "execution_count": 15,
   "metadata": {
    "colab": {
     "base_uri": "https://localhost:8080/",
     "height": 258
    },
    "colab_type": "code",
    "executionInfo": {
     "elapsed": 6821,
     "status": "ok",
     "timestamp": 1600511250909,
     "user": {
      "displayName": "Moumita Mandal",
      "photoUrl": "https://lh3.googleusercontent.com/a-/AOh14GjZLDwUroUscYQpm0nEwdmdNUPF5W6MSafe4mM1LQ=s64",
      "userId": "17759816897411681843"
     },
     "user_tz": -330
    },
    "id": "tbctHeIS5ej1",
    "outputId": "02ea0b9c-8ddf-4bc2-d7da-c93ba991769d"
   },
   "outputs": [
    {
     "name": "stdout",
     "output_type": "stream",
     "text": [
      "Requirement already satisfied: skrebate in c:\\programdata\\anaconda3\\lib\\site-packages (0.61)\n",
      "Requirement already satisfied: scipy in c:\\programdata\\anaconda3\\lib\\site-packages (from skrebate) (1.3.1)\n",
      "Requirement already satisfied: numpy in c:\\programdata\\anaconda3\\lib\\site-packages (from skrebate) (1.16.5)\n",
      "Requirement already satisfied: scikit-learn in c:\\programdata\\anaconda3\\lib\\site-packages (from skrebate) (0.21.3)\n",
      "Requirement already satisfied: joblib>=0.11 in c:\\programdata\\anaconda3\\lib\\site-packages (from scikit-learn->skrebate) (0.13.2)\n",
      "Note: you may need to restart the kernel to use updated packages.\n"
     ]
    }
   ],
   "source": [
    "pip install skrebate\n"
   ]
  },
  {
   "cell_type": "code",
   "execution_count": 16,
   "metadata": {
    "colab": {
     "base_uri": "https://localhost:8080/",
     "height": 419
    },
    "colab_type": "code",
    "executionInfo": {
     "elapsed": 1719,
     "status": "ok",
     "timestamp": 1600514573542,
     "user": {
      "displayName": "Moumita Mandal",
      "photoUrl": "https://lh3.googleusercontent.com/a-/AOh14GjZLDwUroUscYQpm0nEwdmdNUPF5W6MSafe4mM1LQ=s64",
      "userId": "17759816897411681843"
     },
     "user_tz": -330
    },
    "id": "xsfpXoIG34_Q",
    "outputId": "4282541b-13b0-42fc-99a1-a41d0d34544e"
   },
   "outputs": [
    {
     "data": {
      "text/html": [
       "<div>\n",
       "<style scoped>\n",
       "    .dataframe tbody tr th:only-of-type {\n",
       "        vertical-align: middle;\n",
       "    }\n",
       "\n",
       "    .dataframe tbody tr th {\n",
       "        vertical-align: top;\n",
       "    }\n",
       "\n",
       "    .dataframe thead th {\n",
       "        text-align: right;\n",
       "    }\n",
       "</style>\n",
       "<table border=\"1\" class=\"dataframe\">\n",
       "  <thead>\n",
       "    <tr style=\"text-align: right;\">\n",
       "      <th></th>\n",
       "      <th>Score</th>\n",
       "      <th>Features</th>\n",
       "    </tr>\n",
       "  </thead>\n",
       "  <tbody>\n",
       "    <tr>\n",
       "      <td>0</td>\n",
       "      <td>0.000000</td>\n",
       "      <td>F_1</td>\n",
       "    </tr>\n",
       "    <tr>\n",
       "      <td>1</td>\n",
       "      <td>0.000000</td>\n",
       "      <td>F_2</td>\n",
       "    </tr>\n",
       "    <tr>\n",
       "      <td>2</td>\n",
       "      <td>0.010197</td>\n",
       "      <td>F_3</td>\n",
       "    </tr>\n",
       "    <tr>\n",
       "      <td>3</td>\n",
       "      <td>0.010197</td>\n",
       "      <td>F_4</td>\n",
       "    </tr>\n",
       "    <tr>\n",
       "      <td>4</td>\n",
       "      <td>0.010197</td>\n",
       "      <td>F_5</td>\n",
       "    </tr>\n",
       "    <tr>\n",
       "      <td>...</td>\n",
       "      <td>...</td>\n",
       "      <td>...</td>\n",
       "    </tr>\n",
       "    <tr>\n",
       "      <td>526</td>\n",
       "      <td>-0.010358</td>\n",
       "      <td>F_527</td>\n",
       "    </tr>\n",
       "    <tr>\n",
       "      <td>527</td>\n",
       "      <td>-0.029211</td>\n",
       "      <td>F_528</td>\n",
       "    </tr>\n",
       "    <tr>\n",
       "      <td>528</td>\n",
       "      <td>-0.015806</td>\n",
       "      <td>F_529</td>\n",
       "    </tr>\n",
       "    <tr>\n",
       "      <td>529</td>\n",
       "      <td>0.352582</td>\n",
       "      <td>F_530</td>\n",
       "    </tr>\n",
       "    <tr>\n",
       "      <td>530</td>\n",
       "      <td>-0.004552</td>\n",
       "      <td>F_531</td>\n",
       "    </tr>\n",
       "  </tbody>\n",
       "</table>\n",
       "<p>531 rows × 2 columns</p>\n",
       "</div>"
      ],
      "text/plain": [
       "        Score Features\n",
       "0    0.000000      F_1\n",
       "1    0.000000      F_2\n",
       "2    0.010197      F_3\n",
       "3    0.010197      F_4\n",
       "4    0.010197      F_5\n",
       "..        ...      ...\n",
       "526 -0.010358    F_527\n",
       "527 -0.029211    F_528\n",
       "528 -0.015806    F_529\n",
       "529  0.352582    F_530\n",
       "530 -0.004552    F_531\n",
       "\n",
       "[531 rows x 2 columns]"
      ]
     },
     "execution_count": 16,
     "metadata": {},
     "output_type": "execute_result"
    }
   ],
   "source": [
    "X = data.drop(['Label'], axis=1)\n",
    "col_name3 = np.array(X.columns)\n",
    "a3 = pd.DataFrame(top_n2)\n",
    "b3 = pd.DataFrame(col_name3)\n",
    "info3 = pd.concat([a3,b3], axis=1)\n",
    "info3.columns = ['Score','Features']\n",
    "info3"
   ]
  },
  {
   "cell_type": "code",
   "execution_count": 17,
   "metadata": {
    "colab": {
     "base_uri": "https://localhost:8080/",
     "height": 136
    },
    "colab_type": "code",
    "executionInfo": {
     "elapsed": 1693,
     "status": "ok",
     "timestamp": 1600511332467,
     "user": {
      "displayName": "Moumita Mandal",
      "photoUrl": "https://lh3.googleusercontent.com/a-/AOh14GjZLDwUroUscYQpm0nEwdmdNUPF5W6MSafe4mM1LQ=s64",
      "userId": "17759816897411681843"
     },
     "user_tz": -330
    },
    "id": "flmj6LpF34_V",
    "outputId": "c58a0369-ef5b-4b1e-ff29-1cd1f4ef4ba1"
   },
   "outputs": [
    {
     "data": {
      "text/plain": [
       "array(['F_20', 'F_19', 'F_139', 'F_140', 'F_111', 'F_318', 'F_66', 'F_67',\n",
       "       'F_162', 'F_113', 'F_51', 'F_179', 'F_385', 'F_69', 'F_334',\n",
       "       'F_182', 'F_266', 'F_278', 'F_435', 'F_183', 'F_29', 'F_30',\n",
       "       'F_49', 'F_250', 'F_50', 'F_53', 'F_422', 'F_47', 'F_320', 'F_21',\n",
       "       'F_31', 'F_129', 'F_186', 'F_290', 'F_291', 'F_316', 'F_55',\n",
       "       'F_323', 'F_380', 'F_300', 'F_52', 'F_362', 'F_497', 'F_403',\n",
       "       'F_526', 'F_530', 'F_146', 'F_189', 'F_200', 'F_202'], dtype=object)"
      ]
     },
     "execution_count": 17,
     "metadata": {},
     "output_type": "execute_result"
    }
   ],
   "source": [
    "top3 = info3.nlargest(50,'Score')\n",
    "ft3 = np.array(top3['Features'])\n",
    "ft3"
   ]
  },
  {
   "cell_type": "code",
   "execution_count": 18,
   "metadata": {
    "colab": {
     "base_uri": "https://localhost:8080/",
     "height": 119
    },
    "colab_type": "code",
    "executionInfo": {
     "elapsed": 1213,
     "status": "ok",
     "timestamp": 1600511388026,
     "user": {
      "displayName": "Moumita Mandal",
      "photoUrl": "https://lh3.googleusercontent.com/a-/AOh14GjZLDwUroUscYQpm0nEwdmdNUPF5W6MSafe4mM1LQ=s64",
      "userId": "17759816897411681843"
     },
     "user_tz": -330
    },
    "id": "sQlnoB9r34_Z",
    "outputId": "6b75c6fe-7eca-4410-b808-282a44706364"
   },
   "outputs": [
    {
     "name": "stdout",
     "output_type": "stream",
     "text": [
      "['F_274' 'F_373' 'F_369' 'F_415' 'F_275' 'F_61' 'F_341' 'F_370' 'F_125'\n",
      " 'F_425' 'F_15' 'F_481' 'F_451' 'F_344' 'F_360' 'F_466' 'F_205' 'F_467'\n",
      " 'F_135' 'F_419' 'F_420' 'F_141' 'F_250' 'F_33' 'F_499' 'F_505' 'F_380'\n",
      " 'F_300' 'F_227' 'F_506' 'F_476' 'F_366' 'F_399' 'F_200' 'F_116' 'F_330'\n",
      " 'F_503' 'F_403' 'F_207' 'F_30' 'F_238' 'F_21' 'F_31' 'F_146' 'F_316'\n",
      " 'F_400' 'F_417' 'F_189' 'F_362' 'F_89']\n"
     ]
    }
   ],
   "source": [
    "#Xvariance\n",
    "\n",
    "Xvariance = np.empty((452, 280),int)\n",
    "X = data[data.Label == 0]\n",
    "Y = data[data.Label == 1]\n",
    "X_var=X[:].var()\n",
    "Y_var = Y[:].var()\n",
    "D = X_var + Y_var\n",
    "DL=D.nlargest(n=50)\n",
    "ft4=np.array(DL.index)\n",
    "print (ft4)"
   ]
  },
  {
   "cell_type": "code",
   "execution_count": 19,
   "metadata": {
    "colab": {},
    "colab_type": "code",
    "executionInfo": {
     "elapsed": 1232,
     "status": "ok",
     "timestamp": 1600514515616,
     "user": {
      "displayName": "Moumita Mandal",
      "photoUrl": "https://lh3.googleusercontent.com/a-/AOh14GjZLDwUroUscYQpm0nEwdmdNUPF5W6MSafe4mM1LQ=s64",
      "userId": "17759816897411681843"
     },
     "user_tz": -330
    },
    "id": "1_KIgGeK34_k"
   },
   "outputs": [],
   "source": [
    "#Correlation\n",
    "\n",
    "df1 = data.drop(['Label'], axis=1)\n",
    "op=data['Label']\n",
    "a5=[]\n",
    "c5=[]\n",
    "\n",
    "for i in df1.columns.values:\n",
    "    correlation=op.corr(df1[i])\n",
    "    if correlation>0.5:\n",
    "        a5.append(correlation)\n",
    "        c5.append(i)\n",
    "\n",
    "dfc5=pd.DataFrame(c5)\n",
    "dfa5=pd.DataFrame(a5)\n",
    "\n",
    "info5 = pd.concat([dfc5,dfa5], axis=1)\n",
    "info5.columns = ['name','correlation']"
   ]
  },
  {
   "cell_type": "code",
   "execution_count": 20,
   "metadata": {
    "colab": {
     "base_uri": "https://localhost:8080/",
     "height": 697
    },
    "colab_type": "code",
    "executionInfo": {
     "elapsed": 1187,
     "status": "ok",
     "timestamp": 1600514545071,
     "user": {
      "displayName": "Moumita Mandal",
      "photoUrl": "https://lh3.googleusercontent.com/a-/AOh14GjZLDwUroUscYQpm0nEwdmdNUPF5W6MSafe4mM1LQ=s64",
      "userId": "17759816897411681843"
     },
     "user_tz": -330
    },
    "id": "JXsdRZNlGaqy",
    "outputId": "0f2e01f0-2577-4f89-ee09-62e7431f6971"
   },
   "outputs": [
    {
     "name": "stdout",
     "output_type": "stream",
     "text": [
      "     name  correlation\n",
      "0    F_20     0.928607\n",
      "1    F_26     0.590973\n",
      "2    F_30     0.696805\n",
      "3    F_37     0.579709\n",
      "4    F_39     0.579709\n",
      "5    F_42     0.556708\n",
      "6    F_44     0.533004\n",
      "7    F_49     0.775029\n",
      "8    F_51     0.821932\n",
      "9    F_53     0.746212\n",
      "10   F_67     0.858611\n",
      "11   F_89     0.602091\n",
      "12  F_116     0.634654\n",
      "13  F_132     0.533004\n",
      "14  F_139     0.903605\n",
      "15  F_162     0.840356\n",
      "16  F_179     0.803325\n",
      "17  F_182     0.773690\n",
      "18  F_200     0.666174\n",
      "19  F_207     0.613073\n",
      "20  F_238     0.613073\n",
      "21  F_250     0.576384\n",
      "22  F_266     0.775029\n",
      "23  F_290     0.736477\n",
      "24  F_320     0.726672\n",
      "25  F_323     0.715621\n",
      "26  F_330     0.634654\n",
      "27  F_334     0.793947\n",
      "28  F_366     0.564876\n",
      "29  F_380     0.607066\n",
      "30  F_385     0.812653\n",
      "31  F_399     0.655773\n",
      "32  F_403     0.623925\n",
      "33  F_435     0.716794\n",
      "34  F_449     0.520857\n",
      "35  F_499     0.501766\n",
      "36  F_503     0.589153\n",
      "37  F_526     0.511906\n",
      "38  F_530     0.506620\n"
     ]
    }
   ],
   "source": [
    "print(info5)"
   ]
  },
  {
   "cell_type": "code",
   "execution_count": 21,
   "metadata": {
    "colab": {
     "base_uri": "https://localhost:8080/",
     "height": 119
    },
    "colab_type": "code",
    "executionInfo": {
     "elapsed": 1568,
     "status": "ok",
     "timestamp": 1600511407888,
     "user": {
      "displayName": "Moumita Mandal",
      "photoUrl": "https://lh3.googleusercontent.com/a-/AOh14GjZLDwUroUscYQpm0nEwdmdNUPF5W6MSafe4mM1LQ=s64",
      "userId": "17759816897411681843"
     },
     "user_tz": -330
    },
    "id": "Rm0C_7Bv34_q",
    "outputId": "7c26f423-cca1-4585-ec38-e5d8e7116dd5"
   },
   "outputs": [
    {
     "data": {
      "text/plain": [
       "array(['F_20', 'F_139', 'F_67', 'F_162', 'F_51', 'F_385', 'F_179',\n",
       "       'F_334', 'F_266', 'F_49', 'F_182', 'F_53', 'F_290', 'F_320',\n",
       "       'F_435', 'F_323', 'F_30', 'F_200', 'F_399', 'F_116', 'F_330',\n",
       "       'F_403', 'F_238', 'F_207', 'F_380', 'F_89', 'F_26', 'F_503',\n",
       "       'F_39', 'F_37', 'F_250', 'F_366', 'F_42', 'F_44', 'F_132', 'F_449',\n",
       "       'F_526', 'F_530', 'F_499'], dtype=object)"
      ]
     },
     "execution_count": 21,
     "metadata": {},
     "output_type": "execute_result"
    }
   ],
   "source": [
    "top5 = info5.nlargest(50,'correlation')\n",
    "ft5 = np.array(top5['name'])\n",
    "ft5"
   ]
  },
  {
   "cell_type": "code",
   "execution_count": 22,
   "metadata": {
    "colab": {},
    "colab_type": "code",
    "executionInfo": {
     "elapsed": 645,
     "status": "ok",
     "timestamp": 1600512958280,
     "user": {
      "displayName": "Moumita Mandal",
      "photoUrl": "https://lh3.googleusercontent.com/a-/AOh14GjZLDwUroUscYQpm0nEwdmdNUPF5W6MSafe4mM1LQ=s64",
      "userId": "17759816897411681843"
     },
     "user_tz": -330
    },
    "id": "9rslc7Lt34_u"
   },
   "outputs": [],
   "source": [
    "from functools import reduce\n",
    "def top_fs_union(n):\n",
    "    f1 = ft1[:n]\n",
    "    f2 = ft2[:n]\n",
    "    f3 = ft3[:n]\n",
    "    f4 = ft4[:n]\n",
    "    f5 = ft5[:n]\n",
    "    return(reduce(np.union1d, (f1,f2,f3,f4,f5)))"
   ]
  },
  {
   "cell_type": "code",
   "execution_count": 25,
   "metadata": {},
   "outputs": [
    {
     "data": {
      "text/plain": [
       "array(['F_111', 'F_113', 'F_139', 'F_140', 'F_162', 'F_19', 'F_20',\n",
       "       'F_274', 'F_275', 'F_369', 'F_373', 'F_415', 'F_51', 'F_66',\n",
       "       'F_67'], dtype=object)"
      ]
     },
     "execution_count": 25,
     "metadata": {},
     "output_type": "execute_result"
    }
   ],
   "source": [
    "f1 = ft1[:5]\n",
    "f2 = ft2[:5]\n",
    "f3 = ft3[:5]\n",
    "f4 = ft4[:5]\n",
    "f5 = ft5[:5]\n",
    "f=reduce(np.union1d, (f1,f2,f3,f4,f5))\n",
    "f"
   ]
  },
  {
   "cell_type": "code",
   "execution_count": 123,
   "metadata": {
    "colab": {},
    "colab_type": "code",
    "executionInfo": {
     "elapsed": 1305,
     "status": "ok",
     "timestamp": 1600513895820,
     "user": {
      "displayName": "Moumita Mandal",
      "photoUrl": "https://lh3.googleusercontent.com/a-/AOh14GjZLDwUroUscYQpm0nEwdmdNUPF5W6MSafe4mM1LQ=s64",
      "userId": "17759816897411681843"
     },
     "user_tz": -330
    },
    "id": "pEmV89I6Cn5t"
   },
   "outputs": [],
   "source": [
    "def assemble_run(n,classifier,test_size):\n",
    "  top_fs=top_fs_union(n)\n",
    "  top_fs=np.append(top_fs,['Label'], axis=0)\n",
    "  df = data.loc[:,top_fs]\n",
    "  X = df.drop(['Label'], axis=1)\n",
    "  y = df['Label']\n",
    "  from sklearn.model_selection import train_test_split\n",
    "  x_train, x_test, y_train, y_test = train_test_split(X,y,test_size=test_size)\n",
    "  model = classifier()#modify the code ,keep classifier in different function and call here\n",
    "  model.fit(x_train, y_train)\n",
    "  print (model.score(x_test,y_test))"
   ]
  },
  {
   "cell_type": "code",
   "execution_count": null,
   "metadata": {},
   "outputs": [],
   "source": []
  },
  {
   "cell_type": "code",
   "execution_count": 126,
   "metadata": {
    "colab": {
     "base_uri": "https://localhost:8080/",
     "height": 34
    },
    "colab_type": "code",
    "executionInfo": {
     "elapsed": 1332,
     "status": "ok",
     "timestamp": 1600513907041,
     "user": {
      "displayName": "Moumita Mandal",
      "photoUrl": "https://lh3.googleusercontent.com/a-/AOh14GjZLDwUroUscYQpm0nEwdmdNUPF5W6MSafe4mM1LQ=s64",
      "userId": "17759816897411681843"
     },
     "user_tz": -330
    },
    "id": "l6fHW2vTDiUJ",
    "outputId": "830cd201-fe6d-4485-8fe1-19b2e850a472"
   },
   "outputs": [
    {
     "name": "stdout",
     "output_type": "stream",
     "text": [
      "0.9786096256684492\n"
     ]
    }
   ],
   "source": [
    "#Feature Subset by Union of 5 Best Features from each\n",
    "assemble_run(5,KNeighborsClassifier,.5)"
   ]
  },
  {
   "cell_type": "code",
   "execution_count": 127,
   "metadata": {
    "colab": {
     "base_uri": "https://localhost:8080/",
     "height": 34
    },
    "colab_type": "code",
    "executionInfo": {
     "elapsed": 1299,
     "status": "ok",
     "timestamp": 1600513929111,
     "user": {
      "displayName": "Moumita Mandal",
      "photoUrl": "https://lh3.googleusercontent.com/a-/AOh14GjZLDwUroUscYQpm0nEwdmdNUPF5W6MSafe4mM1LQ=s64",
      "userId": "17759816897411681843"
     },
     "user_tz": -330
    },
    "id": "--gCR0ELEDSQ",
    "outputId": "a839fd5d-ba15-49f6-e979-971e69a2e4b6"
   },
   "outputs": [
    {
     "name": "stdout",
     "output_type": "stream",
     "text": [
      "0.9893048128342246\n"
     ]
    }
   ],
   "source": [
    "#Feature Subset by Union of 10 Best Features from each\n",
    "assemble_run(10,KNeighborsClassifier,.5)"
   ]
  },
  {
   "cell_type": "code",
   "execution_count": 131,
   "metadata": {
    "colab": {
     "base_uri": "https://localhost:8080/",
     "height": 34
    },
    "colab_type": "code",
    "executionInfo": {
     "elapsed": 1282,
     "status": "ok",
     "timestamp": 1600513964073,
     "user": {
      "displayName": "Moumita Mandal",
      "photoUrl": "https://lh3.googleusercontent.com/a-/AOh14GjZLDwUroUscYQpm0nEwdmdNUPF5W6MSafe4mM1LQ=s64",
      "userId": "17759816897411681843"
     },
     "user_tz": -330
    },
    "id": "xRWWkx-NEKeX",
    "outputId": "a4dd7a91-b508-4a10-a1b8-78d66c306cf5"
   },
   "outputs": [
    {
     "name": "stdout",
     "output_type": "stream",
     "text": [
      "0.9893048128342246\n"
     ]
    }
   ],
   "source": [
    "#Feature Subset by Union of 20 Best Features from each\n",
    "assemble_run(20,KNeighborsClassifier,.5)"
   ]
  },
  {
   "cell_type": "code",
   "execution_count": 136,
   "metadata": {
    "colab": {
     "base_uri": "https://localhost:8080/",
     "height": 34
    },
    "colab_type": "code",
    "executionInfo": {
     "elapsed": 1298,
     "status": "ok",
     "timestamp": 1600514024131,
     "user": {
      "displayName": "Moumita Mandal",
      "photoUrl": "https://lh3.googleusercontent.com/a-/AOh14GjZLDwUroUscYQpm0nEwdmdNUPF5W6MSafe4mM1LQ=s64",
      "userId": "17759816897411681843"
     },
     "user_tz": -330
    },
    "id": "HlH1Z0dxEQWN",
    "outputId": "a86ddd85-c4b8-42dd-c0b0-48da616f9f43"
   },
   "outputs": [
    {
     "name": "stdout",
     "output_type": "stream",
     "text": [
      "0.9946524064171123\n"
     ]
    }
   ],
   "source": [
    "#Feature Subset by Union of 30 Best Features from each\n",
    "assemble_run(30,KNeighborsClassifier,.5)"
   ]
  },
  {
   "cell_type": "code",
   "execution_count": 133,
   "metadata": {
    "colab": {
     "base_uri": "https://localhost:8080/",
     "height": 34
    },
    "colab_type": "code",
    "executionInfo": {
     "elapsed": 1262,
     "status": "ok",
     "timestamp": 1600514001241,
     "user": {
      "displayName": "Moumita Mandal",
      "photoUrl": "https://lh3.googleusercontent.com/a-/AOh14GjZLDwUroUscYQpm0nEwdmdNUPF5W6MSafe4mM1LQ=s64",
      "userId": "17759816897411681843"
     },
     "user_tz": -330
    },
    "id": "828AiZtgEWK7",
    "outputId": "ce6519c7-2f1a-4087-b85c-24a6260ba1d8"
   },
   "outputs": [
    {
     "name": "stdout",
     "output_type": "stream",
     "text": [
      "0.9893048128342246\n"
     ]
    }
   ],
   "source": [
    "#Feature Subset by Union of 40 Best Features from each\n",
    "assemble_run(40,KNeighborsClassifier,.5)"
   ]
  },
  {
   "cell_type": "code",
   "execution_count": 135,
   "metadata": {
    "colab": {
     "base_uri": "https://localhost:8080/",
     "height": 34
    },
    "colab_type": "code",
    "executionInfo": {
     "elapsed": 1229,
     "status": "ok",
     "timestamp": 1600514017431,
     "user": {
      "displayName": "Moumita Mandal",
      "photoUrl": "https://lh3.googleusercontent.com/a-/AOh14GjZLDwUroUscYQpm0nEwdmdNUPF5W6MSafe4mM1LQ=s64",
      "userId": "17759816897411681843"
     },
     "user_tz": -330
    },
    "id": "0Sx36QWZEZ5U",
    "outputId": "dc61daed-91f1-43c6-a650-01a2f7ec7989"
   },
   "outputs": [
    {
     "name": "stdout",
     "output_type": "stream",
     "text": [
      "0.9893048128342246\n"
     ]
    }
   ],
   "source": [
    "#Feature Subset by Union of 50 Best Features from each\n",
    "assemble_run(50,KNeighborsClassifier,.5)"
   ]
  }
 ],
 "metadata": {
  "colab": {
   "collapsed_sections": [],
   "name": "Malware_Detection Final Suggested.ipynb",
   "provenance": []
  },
  "kernelspec": {
   "display_name": "Python 3",
   "language": "python",
   "name": "python3"
  },
  "language_info": {
   "codemirror_mode": {
    "name": "ipython",
    "version": 3
   },
   "file_extension": ".py",
   "mimetype": "text/x-python",
   "name": "python",
   "nbconvert_exporter": "python",
   "pygments_lexer": "ipython3",
   "version": "3.7.4"
  }
 },
 "nbformat": 4,
 "nbformat_minor": 1
}
